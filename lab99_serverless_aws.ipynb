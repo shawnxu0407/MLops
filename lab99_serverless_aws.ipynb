{
 "cells": [
  {
   "cell_type": "markdown",
   "metadata": {
    "id": "FlH0lCOttCs5"
   },
   "source": [
    "<img src=\"https://fsdl.me/logo-720-dark-horizontal\">"
   ]
  },
  {
   "cell_type": "markdown",
   "metadata": {
    "id": "ZUPRHaeetRnT"
   },
   "source": [
    "# Lab 99: Serverless Deployment on AWS Lambda"
   ]
  },
  {
   "cell_type": "markdown",
   "metadata": {
    "id": "bry3Hr-PcgDs"
   },
   "source": [
    "### What You Will Learn\n",
    "\n",
    "- How to deploy a model backend serverlessly with AWS Lambda\n",
    "- How to use the `aws` CLI effectively"
   ]
  },
  {
   "cell_type": "markdown",
   "metadata": {
    "id": "vs0LXXlCU6Ix"
   },
   "source": [
    "# Setup"
   ]
  },
  {
   "cell_type": "markdown",
   "metadata": {
    "id": "ZkQiK7lkgeXm"
   },
   "source": [
    "If you're running this notebook on Google Colab,\n",
    "the cell below will run full environment setup.\n",
    "\n",
    "It should take about three minutes to run."
   ]
  },
  {
   "cell_type": "code",
   "execution_count": null,
   "metadata": {
    "id": "sVx7C7H0PIZC"
   },
   "outputs": [],
   "source": [
    "lab_idx = None\n",
    "\n",
    "if \"bootstrap\" not in locals() or bootstrap.run:\n",
    "    # path management for Python\n",
    "    pythonpath, = !echo $PYTHONPATH\n",
    "    if \".\" not in pythonpath.split(\":\"):\n",
    "        pythonpath = \".:\" + pythonpath\n",
    "        %env PYTHONPATH={pythonpath}\n",
    "        !echo $PYTHONPATH\n",
    "\n",
    "    # get both Colab and local notebooks into the same state\n",
    "    !wget --quiet https://fsdl.me/gist-bootstrap -O bootstrap.py\n",
    "    import bootstrap\n",
    "\n",
    "    # change into the lab directory\n",
    "    bootstrap.change_to_lab_dir(lab_idx=lab_idx)\n",
    "\n",
    "    # allow \"hot-reloading\" of modules\n",
    "    %load_ext autoreload\n",
    "    %autoreload 2\n",
    "    # needed for inline plots in some contexts\n",
    "    %matplotlib inline\n",
    "\n",
    "    bootstrap.run = False  # change to True re-run setup\n",
    "\n",
    "    \n",
    "!pwd\n",
    "%ls"
   ]
  },
  {
   "cell_type": "code",
   "execution_count": 1,
   "metadata": {},
   "outputs": [
    {
     "name": "stdout",
     "output_type": "stream",
     "text": [
      "D:\\RL_Finance\\MLops\\fslab\\lab07\n"
     ]
    }
   ],
   "source": [
    "import os\n",
    "os.chdir(\"D:/RL_Finance/MLops/fslab/lab07\")\n",
    "\n",
    "print(os.getcwd())"
   ]
  },
  {
   "cell_type": "markdown",
   "metadata": {},
   "source": [
    "# Why should I deploy model backends on AWS Lambda?\n",
    "\n",
    "Model backends (aka prediction services)\n",
    "fit very nicely into the \"serverless\" paradigm of cloud deployment.\n",
    "\n",
    "In general, they are stateless functions of their inputs,\n",
    "and so we don't need to keep a server alive in between requests\n",
    "or throughout a session.\n",
    "\n",
    "For projects\n",
    "with spiky or bursty traffic\n",
    "(e.g. hitting the front page of Hacker News)\n",
    "that makes scaling much easier:\n",
    "AWS can implement generic autoscaling logic\n",
    "for stateless functions.\n",
    "\n",
    "We benefit in the form of very quick\n",
    "(on the order of minutes)\n",
    "scaling to larger workloads.\n",
    "\n",
    "For low-traffic projects like demos,\n",
    "serverless deployments can massively reduce costs\n",
    "by \"scaling to 0\" -- running no machines when there's no traffic.\n",
    "\n",
    "This notebook walks through the process for taking\n",
    "the Text Recognizer model in the FSDL codebase\n",
    "and packaging it up for deployment as\n",
    "a serverless prediction service on AWS Lambda.\n",
    "\n",
    "For more details on deployment,\n",
    "including how to set up a frontend UI, see\n",
    "[the lab on deployment](https://fsdl.me/lab07-colab).\n",
    "\n",
    "Note that we won't be using an accelerator\n",
    "(GPU/TPU/IPU) to run our network.\n",
    "As of writing,\n",
    "this is a limitation of serverless tools on major cloud providers.\n",
    "\n",
    "For serverless deployment of GPU-accelerated models, check out\n",
    "[banana](https://banana.dev).\n",
    "\n",
    "Creating a Lambda requires\n",
    "[first creating an AWS account](https://aws.amazon.com/premiumsupport/knowledge-center/create-and-activate-aws-account/),\n",
    "which you should do now.\n",
    "\n",
    "To open an AWS account, you need to provide payment information.\n",
    "\n",
    "This payment method will be on the hook\n",
    "for any charges you incur from AWS.\n",
    "\n",
    "As you create your account,\n",
    "remember the First Law of the Cloud™️:\n",
    "> The cloud costs money in mysterious ways.\n",
    "\n",
    "That is,\n",
    "automatically scaling means automatically incurring large costs,\n",
    "sometimes in unintuitive ways.\n",
    "\n",
    "You can avoid these issues by setting up\n",
    "[budgets, alerts, and automatic cost-saving actions](https://aws.amazon.com/getting-started/hands-on/control-your-costs-free-tier-budgets/)."
   ]
  },
  {
   "cell_type": "markdown",
   "metadata": {},
   "source": [
    "# Build a container image"
   ]
  },
  {
   "cell_type": "markdown",
   "metadata": {},
   "source": [
    "The easiest way to deploy code on AWS Lambda is\n",
    "to wrap it in a Docker container.\n",
    "\n",
    "That means you'll need to\n",
    "[install Docker](https://docs.docker.com/engine/install/)\n",
    "if you don't have it already.\n",
    "\n",
    "If you want to avoid the need to include `sudo`\n",
    "before every `docker` command,\n",
    "you'll also need to follow the\n",
    "[post-install steps](https://docs.docker.com/engine/install/linux-postinstall/#manage-docker-as-a-non-root-user)\n",
    "to give non-root users access to Docker.\n",
    "\n",
    "That also means this notebook can't run on Colab:"
   ]
  },
  {
   "cell_type": "code",
   "execution_count": null,
   "metadata": {},
   "outputs": [],
   "source": [
    "import sys\n",
    "\n",
    "\n",
    "assert \"google.colab\" not in sys.modules, \"this notebook requires Docker, not compatible with Colab\""
   ]
  },
  {
   "cell_type": "markdown",
   "metadata": {},
   "source": [
    "We build Docker images from `Dockerfile`s.\n",
    "\n",
    "`Dockerfile`s build up images layer by layer,\n",
    "like a parfait or a brick wall,\n",
    "where each layer is a step described in a\n",
    "[domain-specific language](https://docs.docker.com/engine/reference/builder/).\n",
    "\n",
    "We'll walk through the details of the `Dockerfile`\n",
    "we use in the FSDL example project,\n",
    "but if you'll be using Docker heavily,\n",
    "you should read the\n",
    "[official best practices guide](https://docs.docker.com/develop/develop-images/dockerfile_best-practices/)\n",
    "for all the key tips and tricks."
   ]
  },
  {
   "cell_type": "markdown",
   "metadata": {},
   "source": [
    "Almost all `Dockerfile`s begin by defining an existing container image to build off of.\n",
    "\n",
    "This is a key feature of Docker:\n",
    "one person's final output container image\n",
    "can be another person's starting point.\n",
    "\n",
    "As our starting point,\n",
    "we use the\n",
    "[official AWS image for Lambda](https://gallery.ecr.aws/lambda/python)."
   ]
  },
  {
   "cell_type": "code",
   "execution_count": 3,
   "metadata": {},
   "outputs": [
    {
     "name": "stdout",
     "output_type": "stream",
     "text": [
      "# Starting from an official AWS image\n",
      "# Keep any dependencies and versions in this file aligned with the environment.yml and Makefile\n",
      "# Install Python dependencies\n",
      "# Copy only the relevant directories and files\n",
      "#   note that we use a .dockerignore file to avoid copying logs etc.\n"
     ]
    }
   ],
   "source": [
    "!findstr \"# Starting\" api_serverless\\Dockerfile\n"
   ]
  },
  {
   "cell_type": "markdown",
   "metadata": {},
   "source": [
    "We then install the `prod`uction `requirements` with a simple `pip` install.\n",
    "\n",
    "AWS Lambdas do not come with GPU accelerators,\n",
    "so we're installing the CPU version of PyTorch,\n",
    "for which `pip` installation works well."
   ]
  },
  {
   "cell_type": "code",
   "execution_count": 5,
   "metadata": {},
   "outputs": [
    {
     "name": "stdout",
     "output_type": "stream",
     "text": [
      "RUN pip install --upgrade pip==23.1.2\n",
      "RUN pip install -r requirements.txt\n"
     ]
    }
   ],
   "source": [
    "!findstr \"install\" api_serverless\\Dockerfile"
   ]
  },
  {
   "cell_type": "markdown",
   "metadata": {},
   "source": [
    "Then we copy over exactly the files that we need from our model development repo.\n",
    "\n",
    "We bring in the `text_recognizer` module\n",
    "-- including the model weights! --\n",
    "and the `api` from the `api_serverless` module."
   ]
  },
  {
   "cell_type": "code",
   "execution_count": null,
   "metadata": {},
   "outputs": [],
   "source": [
    "!cat api_serverless/Dockerfile | grep \"# Copy\" -A 3"
   ]
  },
  {
   "cell_type": "markdown",
   "metadata": {},
   "source": [
    "We avoid copying files that we don't need,\n",
    "like the `.git` history,\n",
    "with a `.dockerignore` file.\n",
    "\n",
    "This is formatted and works much like a `.gitignore` file,\n",
    "except that it hides files from our container rather than from our version control."
   ]
  },
  {
   "cell_type": "code",
   "execution_count": null,
   "metadata": {},
   "outputs": [],
   "source": [
    "!cat .dockerignore"
   ]
  },
  {
   "cell_type": "markdown",
   "metadata": {},
   "source": [
    "We can review the contents of the `api` file from\n",
    "\n",
    "It's relatively simple:\n",
    "we rely on the `ParagraphTextRecognizer` class to do the heavy lifting.\n",
    "\n",
    "We just need to write a `handler` to\n",
    "1. extract model inputs from JSON\n",
    "`event`s in the AWS format,\n",
    "2. feed those inputs to the model, and\n",
    "3. package the outputs into JSON,\n",
    "\n",
    "Effectively, we hook the \"image-to-text\" or \"tensor-to-tensor\"\n",
    "format of our model into the \"JSON-to-JSON\" format typical of webservices."
   ]
  },
  {
   "cell_type": "code",
   "execution_count": null,
   "metadata": {},
   "outputs": [],
   "source": [
    "from api_serverless import api\n",
    "\n",
    "\n",
    "api??"
   ]
  },
  {
   "cell_type": "markdown",
   "metadata": {},
   "source": [
    "We're now ready to build our container image with `docker build`.\n",
    "\n",
    "We just need to pick a name.\n",
    "\n",
    "We'll use an environment variable for this\n",
    "and for other configuration information so that\n",
    "it's easy to re-use this workflow in your own projects."
   ]
  },
  {
   "cell_type": "code",
   "execution_count": 6,
   "metadata": {},
   "outputs": [],
   "source": [
    "import os\n",
    "\n",
    "\n",
    "os.environ[\"LAMBDA_NAME\"] = \"text-recognizer-backend\""
   ]
  },
  {
   "cell_type": "code",
   "execution_count": null,
   "metadata": {},
   "outputs": [],
   "source": [
    "!docker build -t $LAMBDA_NAME . --file api_serverless/Dockerfile"
   ]
  },
  {
   "cell_type": "markdown",
   "metadata": {},
   "source": [
    "It will take a few minutes to run the first time."
   ]
  },
  {
   "cell_type": "markdown",
   "metadata": {},
   "source": [
    "Once it's done, we can run the container to test that it's working.\n",
    "\n",
    "Open another terminal, define `$LAMBDA_NAME`, and run:"
   ]
  },
  {
   "cell_type": "markdown",
   "metadata": {},
   "source": [
    "```bash\n",
    "docker run -p 9000:8080 $LAMBDA_NAME\\:latest\n",
    "```"
   ]
  },
  {
   "cell_type": "markdown",
   "metadata": {},
   "source": [
    "We can send a request to our \"local Lambda\" directly from the command line with `curl`:"
   ]
  },
  {
   "cell_type": "code",
   "execution_count": null,
   "metadata": {},
   "outputs": [],
   "source": [
    "!curl -XPOST \\\n",
    "  \"http://localhost:9000/2015-03-31/functions/function/invocations\" \\\n",
    "  -d '{\"image_url\": \"https://fsdl-public-assets.s3-us-west-2.amazonaws.com/paragraphs/a01-077.png\"}'"
   ]
  },
  {
   "cell_type": "markdown",
   "metadata": {},
   "source": [
    "# Upload to the container registry"
   ]
  },
  {
   "cell_type": "markdown",
   "metadata": {},
   "source": [
    "In order for our container to be runnable via AWS Lambda,\n",
    "we need to put the container image --\n",
    "the data required for `docker run` to start our container --\n",
    "on Amazon's storage infrastructure.\n",
    "\n",
    "Specifically, we add it to their\n",
    "[container registry](https://www.redhat.com/en/topics/cloud-native-apps/what-is-a-container-registry)\n",
    "service, the\n",
    "[Elastic Container Registry (ECR)](https://aws.amazon.com/ecr/)."
   ]
  },
  {
   "cell_type": "markdown",
   "metadata": {},
   "source": [
    "You should have\n",
    "[created an AWS account](https://aws.amazon.com/premiumsupport/knowledge-center/create-and-activate-aws-account/)\n",
    "already.\n",
    "\n",
    "Once you have an account,\n",
    "you can create a Lambda in any number of ways --\n",
    "[using an SDK like `boto3`](https://hands-on.cloud/working-with-aws-lambda-in-python-using-boto3/)\n",
    "or\n",
    "[via the AWS Console GUI in the browser](https://docs.aws.amazon.com/lambda/latest/dg/getting-started.html).\n",
    "\n",
    "The Console is in some ways easier to use\n",
    "when you're just getting started with AWS,\n",
    "but it's not easy to automate\n",
    "\n",
    "So we'll use the\n",
    "[AWS CLI](https://github.com/aws/aws-cli),\n",
    "`aws`.\n",
    "\n",
    "You can find\n",
    "[installation instructions here](https://docs.aws.amazon.com/cli/latest/userguide/getting-started-install.html)."
   ]
  },
  {
   "cell_type": "markdown",
   "metadata": {},
   "source": [
    "You'll need to configure your AWS credentials\n",
    "so that the `aws` tool can take actions on your behalf.\n",
    "\n",
    "You can read about `aws` configuration\n",
    "[here](https://docs.aws.amazon.com/cli/latest/userguide/cli-configure-files.html).\n",
    "\n",
    "At a minimum, you should set the following\n",
    "1. AWS Access Key ID\n",
    "2. AWS Secret Access Key ID\n",
    "3. AWS region (use one that's close to your machine)\n",
    "4. CLI output style (use `json` for compatibility with this notebook).\n",
    "\n",
    "The interactive configuration tool is not compatible with Jupyter notebooks,\n",
    "so you'll need to run this setup command in another terminal:\n",
    "```bash\n",
    "   aws configure\n",
    "```"
   ]
  },
  {
   "cell_type": "markdown",
   "metadata": {},
   "source": [
    "Once you've configured the CLI,\n",
    "the cell below will print your numerical account ID\n",
    "and your default region."
   ]
  },
  {
   "cell_type": "code",
   "execution_count": null,
   "metadata": {},
   "outputs": [],
   "source": [
    "aws_account_id, = !aws sts get-caller-identity \\\n",
    "  --query \"Account\"\n",
    "aws_region, = !aws configure get region \n",
    "\n",
    "os.environ[\"AWS_REGION\"] = aws_region\n",
    "os.environ[\"AWS_ACCOUNT_ID\"] = aws_account_id.strip('\"')\n",
    "\n",
    "!echo $AWS_ACCOUNT_ID\n",
    "!echo $AWS_REGION"
   ]
  },
  {
   "cell_type": "markdown",
   "metadata": {},
   "source": [
    "Each combination of AWS account ID and region has its own container registry.\n",
    "\n",
    "The registry is identified by its URI -- a narrower identifier than a URL, but let's call it a URL, just between friends."
   ]
  },
  {
   "cell_type": "code",
   "execution_count": null,
   "metadata": {},
   "outputs": [],
   "source": [
    "os.environ[\"ECR_URI\"] = \".\".join(\n",
    "    [os.environ[\"AWS_ACCOUNT_ID\"], \"dkr\", \"ecr\", os.environ[\"AWS_REGION\"], \"amazonaws.com\"])\n",
    "\n",
    "!echo $ECR_URI"
   ]
  },
  {
   "cell_type": "markdown",
   "metadata": {},
   "source": [
    "In order to push to that container registry,\n",
    "we need log our Docker client into it."
   ]
  },
  {
   "cell_type": "code",
   "execution_count": null,
   "metadata": {},
   "outputs": [],
   "source": [
    "!aws ecr get-login-password --region $AWS_REGION \\\n",
    "  | docker login --username AWS --password-stdin $ECR_URI"
   ]
  },
  {
   "cell_type": "markdown",
   "metadata": {},
   "source": [
    "Inside of the registry, we create a \"repository\"\n",
    "to hold onto and organize the container images --\n",
    "just like we create repositories in `git` servers,\n",
    "like GitHub, to store and organize projects.\n",
    "\n",
    "\"Repositories\" here are generally just a single container image,\n",
    "with versions that change .\n",
    "\n",
    "We can create a repository with the command `aws ecr create-repository`."
   ]
  },
  {
   "cell_type": "code",
   "execution_count": null,
   "metadata": {},
   "outputs": [],
   "source": [
    "!aws ecr create-repository \\\n",
    "  --repository-name $LAMBDA_NAME \\\n",
    "  --image-scanning-configuration scanOnPush=true --image-tag-mutability MUTABLE \\\n",
    "  | jq -C"
   ]
  },
  {
   "cell_type": "markdown",
   "metadata": {},
   "source": [
    "`aws` commands return output that represents the result of their operations.\n",
    "\n",
    "The format of that output is configurable.\n",
    "We use the JSON format.\n",
    "\n",
    "Two notes:\n",
    "\n",
    "1. We pipe (`|`) the raw JSON output to `jq`, the command line JSON processor, so we can pretty-print them and `-C`olorize them.\n",
    "2. If you're ever interested in learning more about an `aws` command, you can add `help` between the command and its parameters to get docs. In this notebook, that's always at the end of the first line. Just make sure to comment out the `jq` line at the end, or you'll get a parse error!"
   ]
  },
  {
   "cell_type": "markdown",
   "metadata": {},
   "source": [
    "Back in Docker, we can add our container image to that repository without rebuilding.\n",
    "\n",
    "First, we need to `tag` the image with a name inside the repository we just created --\n",
    "that name includes the URL (technically, URI) of the registry and the name of the repository."
   ]
  },
  {
   "cell_type": "code",
   "execution_count": null,
   "metadata": {},
   "outputs": [],
   "source": [
    "os.environ[\"IMAGE_URI\"] = \"/\".join([os.environ[\"ECR_URI\"], os.environ[\"LAMBDA_NAME\"]])"
   ]
  },
  {
   "cell_type": "code",
   "execution_count": null,
   "metadata": {},
   "outputs": [],
   "source": [
    "!docker tag $LAMBDA_NAME\\:latest $IMAGE_URI\\:latest"
   ]
  },
  {
   "cell_type": "markdown",
   "metadata": {},
   "source": [
    "Then we add our container to the registry with `docker push`.\n",
    "\n",
    "This can take a few minutes."
   ]
  },
  {
   "cell_type": "code",
   "execution_count": null,
   "metadata": {},
   "outputs": [],
   "source": [
    "!docker push $IMAGE_URI\\:latest"
   ]
  },
  {
   "cell_type": "markdown",
   "metadata": {},
   "source": [
    "# Create a Lambda function"
   ]
  },
  {
   "cell_type": "markdown",
   "metadata": {},
   "source": [
    "To make our container image an executable Lambda function,\n",
    "we first need to configure some permissions.\n",
    "\n",
    "AWS uses a system called IAM (\"Identity and Access Management\")\n",
    "to determine which actions are allowed by whom.\n",
    "\n",
    "Within IAM, \"roles\" are used to separate permissions from identity.\n",
    "\n",
    "We can create and modify roles to control what is possible inside our AWS organization.\n",
    "\n",
    "To make it possible for Lambdas to run,\n",
    "we need to create a role,\n",
    "accessible by Amazon's Lambda service,\n",
    "that has the right permission."
   ]
  },
  {
   "cell_type": "code",
   "execution_count": null,
   "metadata": {},
   "outputs": [],
   "source": [
    "os.environ[\"LAMBDA_ROLE_NAME\"] = \"lambda-role\""
   ]
  },
  {
   "cell_type": "code",
   "execution_count": null,
   "metadata": {},
   "outputs": [],
   "source": [
    "# create a role that Amazon's AWS Lambda service has access to\n",
    "#  (aka the Lambda \"Principal\" can \"assume\" this role)\n",
    "\n",
    "!aws iam create-role \\\n",
    "  --role-name $LAMBDA_ROLE_NAME \\\n",
    "  --assume-role-policy-document '{\"Version\": \"2012-10-17\", \"Statement\": [{\"Effect\": \"Allow\", \"Principal\": {\"Service\": \"lambda.amazonaws.com\"}, \"Action\": \"sts:AssumeRole\"}]}' \\\n",
    "  | jq -C"
   ]
  },
  {
   "cell_type": "markdown",
   "metadata": {},
   "source": [
    "We'll need to provide the role as an `ARN` --\n",
    "a resource identifier, like a URI or URL but AWS specific.\n",
    "\n",
    "We can retrieve that via the CLI:"
   ]
  },
  {
   "cell_type": "code",
   "execution_count": null,
   "metadata": {},
   "outputs": [],
   "source": [
    "lambda_role_arn, = !aws iam get-role --role-name $LAMBDA_ROLE_NAME --output json | jq -r '.Role.Arn'\n",
    "lambda_role_arn = lambda_role_arn.strip('\"')\n",
    "\n",
    "os.environ[\"LAMBDA_ROLE_ARN\"] = lambda_role_arn\n",
    "!echo $LAMBDA_ROLE_ARN"
   ]
  },
  {
   "cell_type": "markdown",
   "metadata": {},
   "source": [
    "What roles are permitted to do is controlled by \"policies\".\n",
    "\n",
    "So we `attach` two `policy`s to this `role`:\n",
    "executing Lambdas and writing logs to AWS."
   ]
  },
  {
   "cell_type": "code",
   "execution_count": null,
   "metadata": {},
   "outputs": [],
   "source": [
    "# allow this IAM role to execute Lambdas\n",
    "!aws iam attach-role-policy \\\n",
    "  --role-name $LAMBDA_ROLE_NAME \\\n",
    "  --policy-arn arn:aws:iam::aws:policy/service-role/AWSLambdaBasicExecutionRole"
   ]
  },
  {
   "cell_type": "code",
   "execution_count": null,
   "metadata": {},
   "outputs": [],
   "source": [
    "# allow this IAM role to write to logs -- required and also important for debugging Lambdas\n",
    "!aws iam attach-role-policy \\\n",
    "  --role-name $LAMBDA_ROLE_NAME \\\n",
    "  --policy-arn arn:aws:iam::aws:policy/AWSXRayDaemonWriteAccess"
   ]
  },
  {
   "cell_type": "markdown",
   "metadata": {},
   "source": [
    "Now we're ready to create the function with\n",
    "`aws lambda create-function`.\n",
    "\n",
    "There are a few configuration pieces here:\n",
    "- the `--region` we want to run the function in. That's our environment variable `AWS_REGION`.\n",
    "- the format of our function (`--package-type`). We're using a container `Image`.\n",
    "- the location of the `--code` for our function. It's at an `ImageUri`, defined above.\n",
    "- the `--role` that the function has in IAM, which determines what it's allowed to do."
   ]
  },
  {
   "cell_type": "code",
   "execution_count": null,
   "metadata": {},
   "outputs": [],
   "source": [
    "!aws lambda create-function \\\n",
    "  --function-name $LAMBDA_NAME \\\n",
    "  --region $AWS_REGION \\\n",
    "  --package-type Image \\\n",
    "  --code ImageUri=$IMAGE_URI\\:latest \\\n",
    "  --role $LAMBDA_ROLE_ARN | jq -C"
   ]
  },
  {
   "cell_type": "markdown",
   "metadata": {},
   "source": [
    "We're now ready to execute, or `invoke`, the function.\n",
    "\n",
    "Or at least, we will be once the Lambda is created inside AWS -- it can take a few minutes.\n",
    "\n",
    "You'll know the Lambda was executed\n",
    "when pretty-printed JSON appears below with a `StatusCode` of `200`."
   ]
  },
  {
   "cell_type": "code",
   "execution_count": null,
   "metadata": {},
   "outputs": [],
   "source": [
    "!aws lambda invoke \\\n",
    "  --function-name $LAMBDA_NAME \\\n",
    "  --invocation-type RequestResponse \\\n",
    "  --payload '{\"image_url\": \"https://fsdl-public-assets.s3-us-west-2.amazonaws.com/paragraphs/a01-077.png\"}' \\\n",
    "  --cli-binary-format raw-in-base64-out lambda.out | jq -C\n",
    "\n",
    "!cat lambda.out"
   ]
  },
  {
   "cell_type": "markdown",
   "metadata": {},
   "source": [
    "The error message says we timed out in 3 seconds.\n",
    "\n",
    "Lambdas have resource limits to prevent any invocation\n",
    "from accidentally consuming too much time or compute.\n",
    "\n",
    "These limits are also used by Amazon  behind the scenes to schedule\n",
    "invocations onto machines.\n",
    "\n",
    "The key limits are a `--timeout` (in seconds)\n",
    "and a `--memory-size` (in MB of RAM).\n",
    "\n",
    "Adding more RAM also increases the amount of CPU,\n",
    "so let's max that out and increase the `--timeout` up to a whole minute:"
   ]
  },
  {
   "cell_type": "code",
   "execution_count": null,
   "metadata": {},
   "outputs": [],
   "source": [
    "!aws lambda update-function-configuration \\\n",
    "   --function-name $LAMBDA_NAME \\\n",
    "   --region $AWS_REGION \\\n",
    "   --timeout 60 \\\n",
    "   --memory-size 10240 | jq -C"
   ]
  },
  {
   "cell_type": "markdown",
   "metadata": {},
   "source": [
    "Allow a few minutes for the update to take effect, then try again.\n",
    "\n",
    "You should get back a text `pred`iction\n",
    "instead of an `errorMessage`:"
   ]
  },
  {
   "cell_type": "code",
   "execution_count": null,
   "metadata": {},
   "outputs": [],
   "source": [
    "!aws lambda invoke \\\n",
    "  --function-name $LAMBDA_NAME \\\n",
    "  --invocation-type RequestResponse \\\n",
    "  --payload '{\"image_url\": \"https://fsdl-public-assets.s3-us-west-2.amazonaws.com/paragraphs/a01-077.png\"}' \\\n",
    "  --cli-binary-format raw-in-base64-out lambda.out\n",
    "\n",
    "!cat lambda.out"
   ]
  },
  {
   "cell_type": "markdown",
   "metadata": {},
   "source": [
    "# Add an HTTP endpoint with a URL"
   ]
  },
  {
   "cell_type": "markdown",
   "metadata": {},
   "source": [
    "Right now,\n",
    "our Lambda is only accessible via AWS --\n",
    "e.g. with the `aws` CLI.\n",
    "\n",
    "To access it with a simple network call using an open standard\n",
    "we need to do more.\n",
    "\n",
    "For access via HTTPS,\n",
    "we need to `create` a `function-url`:\n",
    "a URL that accepts HTTPS requests and forwards them to our Lambda.\n",
    "\n",
    "To make our lives easier,\n",
    "we'll furthermore make it possible to invoke the Lambda\n",
    "from anywhere (`AllowOrigins` is set to a wildcard, `*`)\n",
    "and without providing AWS `Credentials`."
   ]
  },
  {
   "cell_type": "code",
   "execution_count": null,
   "metadata": {},
   "outputs": [],
   "source": [
    "!aws lambda create-function-url-config \\\n",
    "  --function-name $LAMBDA_NAME \\\n",
    "  --auth-type NONE \\\n",
    "  --cors '{\"AllowOrigins\": [\"*\"], \"AllowCredentials\": false}' \\\n",
    "  | jq -C"
   ]
  },
  {
   "cell_type": "markdown",
   "metadata": {},
   "source": [
    "To complete making our function URL an open HTTPS endpoint, we need to add one more permission:\n",
    "allowing anyone to invoke the function with the URL.\n",
    "\n",
    "> Note: running this cell will mean that anyone with knowledge of this URL can spam you with requests!\n",
    "Running a model is orders of magnitude more expensive than sending a request,\n",
    "so an attacker could force you to spend lots of money if you're not careful.\n",
    "Make sure you\n",
    "[configure a budget](https://aws.amazon.com/getting-started/hands-on/control-your-costs-free-tier-budgets/).\n",
    "Surprising cloud bills kill startups."
   ]
  },
  {
   "cell_type": "code",
   "execution_count": null,
   "metadata": {},
   "outputs": [],
   "source": [
    "!aws lambda add-permission \\\n",
    " --function-name $LAMBDA_NAME \\\n",
    " --action lambda:invokeFunctionUrl \\\n",
    " --statement-id \"open-access\" \\\n",
    " --principal \"*\" \\\n",
    " --function-url-auth-type NONE | jq -C"
   ]
  },
  {
   "cell_type": "markdown",
   "metadata": {},
   "source": [
    "Our original function URL creation command printed the URL to the terminal.\n",
    "\n",
    "We can also grab the URL programmatically by running `get-function-url-config`\n",
    "and parsing the output with `jq`:"
   ]
  },
  {
   "cell_type": "code",
   "execution_count": null,
   "metadata": {},
   "outputs": [],
   "source": [
    "lambda_url, = !aws lambda get-function-url-config --function-name $LAMBDA_NAME | jq .FunctionUrl\n",
    "lambda_url = lambda_url.strip('\"')\n",
    "\n",
    "lambda_url"
   ]
  },
  {
   "cell_type": "markdown",
   "metadata": {},
   "source": [
    "And then we can start sending requests from anywhere we wish!\n",
    "\n",
    "The cell below does it in Python, using the `requests` library.\n",
    "\n",
    "You may need to try a few times before the request works.\n",
    "\n",
    "This is known as the \"cold start\" problem:\n",
    "when the system scales to 0\n",
    "(reducing the cost to $0 as well),\n",
    "there's some \"warmup\" time\n",
    "while a new instance is spun up."
   ]
  },
  {
   "cell_type": "code",
   "execution_count": null,
   "metadata": {},
   "outputs": [],
   "source": [
    "import json\n",
    "import requests\n",
    "\n",
    "\n",
    "image_url = \"https://fsdl-public-assets.s3-us-west-2.amazonaws.com/paragraphs/a01-077.png\"\n",
    "\n",
    "headers = {\"Content-type\": \"application/json\"}\n",
    "payload = json.dumps({\"image_url\": image_url})\n",
    "\n",
    "response = requests.post(\n",
    "  lambda_url, data=payload, headers=headers)\n",
    "pred = response.json()[\"pred\"]\n",
    "\n",
    "print(pred)"
   ]
  },
  {
   "cell_type": "markdown",
   "metadata": {},
   "source": [
    "# Connect to a frontend"
   ]
  },
  {
   "cell_type": "markdown",
   "metadata": {},
   "source": [
    "API calls are great for programmatic access,\n",
    "but not so much for human use.\n",
    "\n",
    "To make our fancy new serverless model service more user-friendly,\n",
    "let's attach it to a Gradio frontend.\n",
    "\n",
    "You can read more about this approach in\n",
    "[the lab on deployment](https://fsdl.me/lab07-colab)."
   ]
  },
  {
   "cell_type": "code",
   "execution_count": null,
   "metadata": {
    "scrolled": false
   },
   "outputs": [],
   "source": [
    "from app_gradio import app\n",
    "\n",
    "lambda_backend = app.PredictorBackend(url=lambda_url)\n",
    "ui = app.make_frontend(lambda_backend.run)\n",
    "\n",
    "ui.launch(share=True)"
   ]
  },
  {
   "cell_type": "markdown",
   "metadata": {},
   "source": [
    "### Postscript: Deploying the frontend on AWS"
   ]
  },
  {
   "cell_type": "markdown",
   "metadata": {},
   "source": [
    "To make a fully cloud-deployed webservice,\n",
    "you'll want to provision a cloud instance to run this frontend on.\n",
    "\n",
    "AWS's server-style cloud compute service is\n",
    "[Elastic Compute Cloud, aka EC2](https://aws.amazon.com/ec2/).\n",
    "\n",
    "To launch the frontend on an EC2 instance,\n",
    "you'll need to first [provision the instance](https://dzone.com/articles/provision-a-free-aws-ec2-instance-in-5-minutes) -- \n",
    "the free tier t2.micro instance and Amazon Machine Image suggested in that article work well.\n",
    "Note that t2.micro instances are free for one year and $10/month after that.\n",
    "\n",
    "Then, you can clone\n",
    "[the Text Recognizer repo](http://github.com/full-stack-deep-learning/fsdl-text-recognizer-2022),\n",
    "install the `prod`uction requirements on that instance, and launch the frontend with"
   ]
  },
  {
   "cell_type": "markdown",
   "metadata": {},
   "source": [
    "```bash\n",
    "    python app_gradio/app.py --model_url=$LAMBDA_URL\n",
    "```"
   ]
  },
  {
   "cell_type": "markdown",
   "metadata": {},
   "source": [
    "Check the\n",
    "[lab on deployment](https://fsdl.me/lab07-colab)\n",
    "for more on running the frontend (locally),\n",
    "including how to get a URL for it with\n",
    "[`ngrok`](https://ngrok.io)."
   ]
  }
 ],
 "metadata": {
  "accelerator": "GPU",
  "colab": {
   "authorship_tag": "ABX9TyMKpeodqRUzgu0VjkCVMBeJ",
   "collapsed_sections": [],
   "name": "lab99_serverless_aws.ipynb",
   "private_outputs": true,
   "provenance": [],
   "toc_visible": true
  },
  "gpuClass": "standard",
  "kernelspec": {
   "display_name": "base",
   "language": "python",
   "name": "python3"
  },
  "language_info": {
   "codemirror_mode": {
    "name": "ipython",
    "version": 3
   },
   "file_extension": ".py",
   "mimetype": "text/x-python",
   "name": "python",
   "nbconvert_exporter": "python",
   "pygments_lexer": "ipython3",
   "version": "3.10.9"
  }
 },
 "nbformat": 4,
 "nbformat_minor": 1
}
