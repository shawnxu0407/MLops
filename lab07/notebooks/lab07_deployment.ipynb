{
 "cells": [
  {
   "cell_type": "markdown",
   "metadata": {
    "id": "7yQQTA9IGDt8"
   },
   "source": [
    "<img src=\"https://fsdl.me/logo-720-dark-horizontal\">"
   ]
  },
  {
   "cell_type": "markdown",
   "metadata": {
    "id": "MX9n-Zed8G_T"
   },
   "source": [
    "# Lab 07: Deployment"
   ]
  },
  {
   "cell_type": "markdown",
   "metadata": {},
   "source": [
    "## What You Will Learn\n",
    "\n",
    "- How to convert PyTorch models into portable TorchScript binaries\n",
    "- How to use `gradio` to make a simple demo UI for your ML-powered applications\n",
    "- How to split out a model service from the frontend and spin up a publicly accessible application"
   ]
  },
  {
   "cell_type": "markdown",
   "metadata": {},
   "source": [
    "# Setup"
   ]
  },
  {
   "cell_type": "code",
   "execution_count": null,
   "metadata": {
    "id": "45D6GuSwvT7d"
   },
   "outputs": [],
   "source": [
    "lab_idx = 7\n",
    "\n",
    "\n",
    "if \"bootstrap\" not in locals() or bootstrap.run:\n",
    "    # path management for Python\n",
    "    pythonpath, = !echo $PYTHONPATH\n",
    "    if \".\" not in pythonpath.split(\":\"):\n",
    "        pythonpath = \".:\" + pythonpath\n",
    "        %env PYTHONPATH={pythonpath}\n",
    "        !echo $PYTHONPATH\n",
    "\n",
    "    # get both Colab and local notebooks into the same state\n",
    "    !wget --quiet https://fsdl.me/gist-bootstrap -O bootstrap.py\n",
    "    import bootstrap\n",
    "\n",
    "    # change into the lab directory\n",
    "    bootstrap.change_to_lab_dir(lab_idx=lab_idx)\n",
    "\n",
    "    bootstrap.run = False  # change to True re-run setup\n",
    "    \n",
    "!pwd\n",
    "%ls"
   ]
  },
  {
   "cell_type": "markdown",
   "metadata": {},
   "source": [
    "Change to the current directory:"
   ]
  },
  {
   "cell_type": "code",
   "execution_count": 1,
   "metadata": {},
   "outputs": [
    {
     "name": "stdout",
     "output_type": "stream",
     "text": [
      "D:\\RL_Finance\\MLops\\fslab\\lab07\n"
     ]
    }
   ],
   "source": [
    "import os\n",
    "os.chdir(\"D:/RL_Finance/MLops/fslab/lab07\")\n",
    "\n",
    "print(os.getcwd())"
   ]
  },
  {
   "cell_type": "code",
   "execution_count": 2,
   "metadata": {
    "id": "pzi8qYKI-njP"
   },
   "outputs": [
    {
     "data": {
      "text/html": [
       "<style>.container { width:100% !important; }</style>"
      ],
      "text/plain": [
       "<IPython.core.display.HTML object>"
      ]
     },
     "metadata": {},
     "output_type": "display_data"
    },
    {
     "data": {
      "text/html": [
       "<style>.output_result { max-width:100% !important; }</style>"
      ],
      "text/plain": [
       "<IPython.core.display.HTML object>"
      ]
     },
     "metadata": {},
     "output_type": "display_data"
    }
   ],
   "source": [
    "from IPython.display import display, HTML, IFrame\n",
    "\n",
    "full_width = True\n",
    "frame_height = 720  # adjust for your screen\n",
    "\n",
    "if full_width:  # if we want the notebook to take up the whole width\n",
    "    # add styling to the notebook's HTML directly\n",
    "    display(HTML(\"<style>.container { width:100% !important; }</style>\"))\n",
    "    display(HTML(\"<style>.output_result { max-width:100% !important; }</style>\"))"
   ]
  },
  {
   "cell_type": "markdown",
   "metadata": {},
   "source": [
    "### Follow along with a video walkthrough on YouTube:"
   ]
  },
  {
   "cell_type": "code",
   "execution_count": 3,
   "metadata": {},
   "outputs": [
    {
     "data": {
      "text/html": [
       "\n",
       "        <iframe\n",
       "            width=\"100%\"\n",
       "            height=\"720\"\n",
       "            src=\"https://fsdl.me/2022-lab-07-video-embed\"\n",
       "            frameborder=\"0\"\n",
       "            allowfullscreen\n",
       "            \n",
       "        ></iframe>\n",
       "        "
      ],
      "text/plain": [
       "<IPython.lib.display.IFrame at 0x1dd7cc2cbb0>"
      ]
     },
     "execution_count": 3,
     "metadata": {},
     "output_type": "execute_result"
    }
   ],
   "source": [
    "from IPython.display import IFrame\n",
    "\n",
    "\n",
    "IFrame(src=\"https://fsdl.me/2022-lab-07-video-embed\", width=\"100%\", height=720)"
   ]
  },
  {
   "cell_type": "markdown",
   "metadata": {
    "id": "SAw7BEI_sCZZ"
   },
   "source": [
    "# Making the model portable"
   ]
  },
  {
   "cell_type": "markdown",
   "metadata": {
    "id": "8zL0K2Xe-MWJ"
   },
   "source": [
    "While training the model,\n",
    "we've saved checkpoints and stored them locally\n",
    "and on W&B.\n",
    "\n",
    "From these checkpoints, we can reload model weights\n",
    "and even restart training if we are in or can recreate\n",
    "the model development environment.\n",
    "\n",
    "We could directly deploy these checkpoints into production,\n",
    "but they're suboptimal for two reasons.\n",
    "\n",
    "First, as the name suggests,\n",
    "these \"checkpoints\" are designed for serializing\n",
    "state at a point of time in training.\n",
    "\n",
    "That means they can include lots of information\n",
    "not relevant during inference,\n",
    "e.g. optimizer states like running average gradients.\n",
    "\n",
    "Additionally, the model development environment\n",
    "is much more heavyweight than what we need during inference.\n",
    "\n",
    "For example, we've got Lightning for training models\n",
    "and W&B for tracking training runs.\n",
    "\n",
    "These in turn incur dependencies on lots of heavy data science libraries.\n",
    "\n",
    "We don't need this anymore -- we just want to run the model.\n",
    "\n",
    "These are effectively \"compiler tools\", which our runtime model doesn't need.\n",
    "\n",
    "So we need a new model binary artifact for runtime\n",
    "that's leaner and more independent.\n",
    "\n",
    "For this purpose, we use TorchScript."
   ]
  },
  {
   "cell_type": "markdown",
   "metadata": {
    "id": "0bMPqKDjs623"
   },
   "source": [
    "## Compiling models to TorchScript"
   ]
  },
  {
   "cell_type": "markdown",
   "metadata": {
    "id": "7d9EmZ0j_AQF"
   },
   "source": [
    "Torch has two main facilities for creating\n",
    "more portable model binaries:\n",
    "_scripting_ and _tracing_."
   ]
  },
  {
   "cell_type": "markdown",
   "metadata": {
    "id": "h9PVzwjQ_YHg"
   },
   "source": [
    "Scripting produces a binary that combines\n",
    "constant `Tensor` values\n",
    "(like weights and positional embeddings)\n",
    "with a program that describes how to use them.\n",
    "\n",
    "The result is a program that creates a dynamic graph,\n",
    "as does a normal PyTorch program,\n",
    "but this program is written in a\n",
    "sub-dialect of Python called\n",
    "_TorchScript_.\n",
    "\n",
    "The [TorchScript sub-dialect of Python](https://pytorch.org/docs/stable/jit_language_reference.html#language-reference)\n",
    "is more performant\n",
    "and can even be run without a Python interpreter.\n",
    "\n",
    "For example, TorchScript programs can be executed in pure C++\n",
    "[using LibTorch](https://pytorch.org/tutorials/advanced/cpp_export.html).\n",
    "\n",
    "You can read more in the documentation for the primary method\n",
    "for scripting models, `torch.jit.script`:"
   ]
  },
  {
   "cell_type": "code",
   "execution_count": 3,
   "metadata": {
    "id": "h1VtGt_Xj_H7"
   },
   "outputs": [
    {
     "name": "stdout",
     "output_type": "stream",
     "text": [
      "\u001b[1;31mSignature:\u001b[0m\n",
      "\u001b[0mtorch\u001b[0m\u001b[1;33m.\u001b[0m\u001b[0mjit\u001b[0m\u001b[1;33m.\u001b[0m\u001b[0mscript\u001b[0m\u001b[1;33m(\u001b[0m\u001b[1;33m\n",
      "\u001b[0m    \u001b[0mobj\u001b[0m\u001b[1;33m,\u001b[0m\u001b[1;33m\n",
      "\u001b[0m    \u001b[0moptimize\u001b[0m\u001b[1;33m=\u001b[0m\u001b[1;32mNone\u001b[0m\u001b[1;33m,\u001b[0m\u001b[1;33m\n",
      "\u001b[0m    \u001b[0m_frames_up\u001b[0m\u001b[1;33m=\u001b[0m\u001b[1;36m0\u001b[0m\u001b[1;33m,\u001b[0m\u001b[1;33m\n",
      "\u001b[0m    \u001b[0m_rcb\u001b[0m\u001b[1;33m=\u001b[0m\u001b[1;32mNone\u001b[0m\u001b[1;33m,\u001b[0m\u001b[1;33m\n",
      "\u001b[0m    \u001b[0mexample_inputs\u001b[0m\u001b[1;33m:\u001b[0m \u001b[0mUnion\u001b[0m\u001b[1;33m[\u001b[0m\u001b[0mList\u001b[0m\u001b[1;33m[\u001b[0m\u001b[0mTuple\u001b[0m\u001b[1;33m]\u001b[0m\u001b[1;33m,\u001b[0m \u001b[0mDict\u001b[0m\u001b[1;33m[\u001b[0m\u001b[0mCallable\u001b[0m\u001b[1;33m,\u001b[0m \u001b[0mList\u001b[0m\u001b[1;33m[\u001b[0m\u001b[0mTuple\u001b[0m\u001b[1;33m]\u001b[0m\u001b[1;33m]\u001b[0m\u001b[1;33m,\u001b[0m \u001b[0mNoneType\u001b[0m\u001b[1;33m]\u001b[0m \u001b[1;33m=\u001b[0m \u001b[1;32mNone\u001b[0m\u001b[1;33m,\u001b[0m\u001b[1;33m\n",
      "\u001b[0m\u001b[1;33m)\u001b[0m\u001b[1;33m\u001b[0m\u001b[1;33m\u001b[0m\u001b[0m\n",
      "\u001b[1;31mSource:\u001b[0m   \n",
      "\u001b[1;32mdef\u001b[0m \u001b[0mscript\u001b[0m\u001b[1;33m(\u001b[0m\u001b[1;33m\n",
      "\u001b[0m    \u001b[0mobj\u001b[0m\u001b[1;33m,\u001b[0m\u001b[1;33m\n",
      "\u001b[0m    \u001b[0moptimize\u001b[0m\u001b[1;33m=\u001b[0m\u001b[1;32mNone\u001b[0m\u001b[1;33m,\u001b[0m\u001b[1;33m\n",
      "\u001b[0m    \u001b[0m_frames_up\u001b[0m\u001b[1;33m=\u001b[0m\u001b[1;36m0\u001b[0m\u001b[1;33m,\u001b[0m\u001b[1;33m\n",
      "\u001b[0m    \u001b[0m_rcb\u001b[0m\u001b[1;33m=\u001b[0m\u001b[1;32mNone\u001b[0m\u001b[1;33m,\u001b[0m\u001b[1;33m\n",
      "\u001b[0m    \u001b[0mexample_inputs\u001b[0m\u001b[1;33m:\u001b[0m \u001b[0mUnion\u001b[0m\u001b[1;33m[\u001b[0m\u001b[0mList\u001b[0m\u001b[1;33m[\u001b[0m\u001b[0mTuple\u001b[0m\u001b[1;33m]\u001b[0m\u001b[1;33m,\u001b[0m \u001b[0mDict\u001b[0m\u001b[1;33m[\u001b[0m\u001b[0mCallable\u001b[0m\u001b[1;33m,\u001b[0m \u001b[0mList\u001b[0m\u001b[1;33m[\u001b[0m\u001b[0mTuple\u001b[0m\u001b[1;33m]\u001b[0m\u001b[1;33m]\u001b[0m\u001b[1;33m,\u001b[0m \u001b[1;32mNone\u001b[0m\u001b[1;33m]\u001b[0m \u001b[1;33m=\u001b[0m \u001b[1;32mNone\u001b[0m\u001b[1;33m,\u001b[0m\u001b[1;33m\n",
      "\u001b[0m\u001b[1;33m)\u001b[0m\u001b[1;33m:\u001b[0m\u001b[1;33m\n",
      "\u001b[0m    \u001b[1;34mr\"\"\"Script the function.\n",
      "\n",
      "    Scripting a function or ``nn.Module`` will inspect the source code, compile\n",
      "    it as TorchScript code using the TorchScript compiler, and return a :class:`ScriptModule` or\n",
      "    :class:`ScriptFunction`. TorchScript itself is a subset of the Python language, so not all\n",
      "    features in Python work, but we provide enough functionality to compute on\n",
      "    tensors and do control-dependent operations. For a complete guide, see the\n",
      "    :ref:`language-reference`.\n",
      "\n",
      "    Scripting a dictionary or list copies the data inside it into a TorchScript instance than can be\n",
      "    subsequently passed by reference between Python and TorchScript with zero copy overhead.\n",
      "\n",
      "    ``torch.jit.script`` can be used as a function for modules, functions, dictionaries and lists\n",
      "     and as a decorator ``@torch.jit.script`` for :ref:`torchscript-classes` and functions.\n",
      "\n",
      "    Args:\n",
      "        obj (Callable, class, or nn.Module):  The ``nn.Module``, function, class type,\n",
      "                                                  dictionary, or list to compile.\n",
      "        example_inputs (Union[List[Tuple], Dict[Callable, List[Tuple]], None]): Provide example inputs\n",
      "            to annotate the arguments for a function or ``nn.Module``.\n",
      "\n",
      "    Returns:\n",
      "        If ``obj`` is ``nn.Module``, ``script`` returns\n",
      "        a :class:`ScriptModule` object. The returned :class:`ScriptModule` will\n",
      "        have the same set of sub-modules and parameters as the\n",
      "        original ``nn.Module``. If ``obj`` is a standalone function,\n",
      "        a :class:`ScriptFunction` will be returned. If ``obj`` is a ``dict``, then\n",
      "        ``script`` returns an instance of `torch._C.ScriptDict`. If ``obj`` is a ``list``,\n",
      "        then ``script`` returns an instance of `torch._C.ScriptList`.\n",
      "\n",
      "    **Scripting a function**\n",
      "        The ``@torch.jit.script`` decorator will construct a :class:`ScriptFunction`\n",
      "        by compiling the body of the function.\n",
      "\n",
      "        Example (scripting a function):\n",
      "\n",
      "        .. testcode::\n",
      "\n",
      "            import torch\n",
      "\n",
      "            @torch.jit.script\n",
      "            def foo(x, y):\n",
      "                if x.max() > y.max():\n",
      "                    r = x\n",
      "                else:\n",
      "                    r = y\n",
      "                return r\n",
      "\n",
      "            print(type(foo))  # torch.jit.ScriptFunction\n",
      "\n",
      "            # See the compiled graph as Python code\n",
      "            print(foo.code)\n",
      "\n",
      "            # Call the function using the TorchScript interpreter\n",
      "            foo(torch.ones(2, 2), torch.ones(2, 2))\n",
      "\n",
      "        .. testoutput::\n",
      "            :hide:\n",
      "\n",
      "            ...\n",
      "\n",
      "    ****Scripting a function using example_inputs**\n",
      "        Example inputs can be used to annotate a function arguments.\n",
      "\n",
      "        Example (annotating a function before scripting):\n",
      "\n",
      "        .. testcode::\n",
      "\n",
      "            import torch\n",
      "\n",
      "            def test_sum(a, b):\n",
      "                return a + b\n",
      "\n",
      "            # Annotate the arguments to be int\n",
      "            scripted_fn = torch.jit.script(test_sum, example_inputs=[(3, 4)])\n",
      "\n",
      "            print(type(scripted_fn))  # torch.jit.ScriptFunction\n",
      "\n",
      "            # See the compiled graph as Python code\n",
      "            print(scripted_fn.code)\n",
      "\n",
      "            # Call the function using the TorchScript interpreter\n",
      "            scripted_fn(20, 100)\n",
      "\n",
      "        .. testoutput::\n",
      "            :hide:\n",
      "\n",
      "            ...\n",
      "\n",
      "    **Scripting an nn.Module**\n",
      "        Scripting an ``nn.Module`` by default will compile the ``forward`` method and recursively\n",
      "        compile any methods, submodules, and functions called by ``forward``. If a ``nn.Module`` only uses\n",
      "        features supported in TorchScript, no changes to the original module code should be necessary. ``script``\n",
      "        will construct :class:`ScriptModule` that has copies of the attributes, parameters, and methods of\n",
      "        the original module.\n",
      "\n",
      "        Example (scripting a simple module with a Parameter):\n",
      "\n",
      "        .. testcode::\n",
      "\n",
      "            import torch\n",
      "\n",
      "            class MyModule(torch.nn.Module):\n",
      "                def __init__(self, N, M):\n",
      "                    super().__init__()\n",
      "                    # This parameter will be copied to the new ScriptModule\n",
      "                    self.weight = torch.nn.Parameter(torch.rand(N, M))\n",
      "\n",
      "                    # When this submodule is used, it will be compiled\n",
      "                    self.linear = torch.nn.Linear(N, M)\n",
      "\n",
      "                def forward(self, input):\n",
      "                    output = self.weight.mv(input)\n",
      "\n",
      "                    # This calls the `forward` method of the `nn.Linear` module, which will\n",
      "                    # cause the `self.linear` submodule to be compiled to a `ScriptModule` here\n",
      "                    output = self.linear(output)\n",
      "                    return output\n",
      "\n",
      "            scripted_module = torch.jit.script(MyModule(2, 3))\n",
      "\n",
      "        Example (scripting a module with traced submodules):\n",
      "\n",
      "        .. testcode::\n",
      "\n",
      "            import torch\n",
      "            import torch.nn as nn\n",
      "            import torch.nn.functional as F\n",
      "\n",
      "            class MyModule(nn.Module):\n",
      "                def __init__(self):\n",
      "                    super().__init__()\n",
      "                    # torch.jit.trace produces a ScriptModule's conv1 and conv2\n",
      "                    self.conv1 = torch.jit.trace(nn.Conv2d(1, 20, 5), torch.rand(1, 1, 16, 16))\n",
      "                    self.conv2 = torch.jit.trace(nn.Conv2d(20, 20, 5), torch.rand(1, 20, 16, 16))\n",
      "\n",
      "                def forward(self, input):\n",
      "                    input = F.relu(self.conv1(input))\n",
      "                    input = F.relu(self.conv2(input))\n",
      "                    return input\n",
      "\n",
      "            scripted_module = torch.jit.script(MyModule())\n",
      "\n",
      "        To compile a method other than ``forward`` (and recursively compile anything it calls), add\n",
      "        the :func:`@torch.jit.export <torch.jit.export>` decorator to the method. To opt out of compilation\n",
      "        use :func:`@torch.jit.ignore <torch.jit.ignore>` or :func:`@torch.jit.unused <torch.jit.unused>`.\n",
      "\n",
      "        Example (an exported and ignored method in a module)::\n",
      "\n",
      "            import torch\n",
      "            import torch.nn as nn\n",
      "\n",
      "            class MyModule(nn.Module):\n",
      "                def __init__(self):\n",
      "                    super().__init__()\n",
      "\n",
      "                @torch.jit.export\n",
      "                def some_entry_point(self, input):\n",
      "                    return input + 10\n",
      "\n",
      "                @torch.jit.ignore\n",
      "                def python_only_fn(self, input):\n",
      "                    # This function won't be compiled, so any\n",
      "                    # Python APIs can be used\n",
      "                    import pdb\n",
      "                    pdb.set_trace()\n",
      "\n",
      "                def forward(self, input):\n",
      "                    if self.training:\n",
      "                        self.python_only_fn(input)\n",
      "                    return input * 99\n",
      "\n",
      "            scripted_module = torch.jit.script(MyModule())\n",
      "            print(scripted_module.some_entry_point(torch.randn(2, 2)))\n",
      "            print(scripted_module(torch.randn(2, 2)))\n",
      "\n",
      "        Example ( Annotating forward of nn.Module using example_inputs)::\n",
      "\n",
      "            import torch\n",
      "            import torch.nn as nn\n",
      "            from typing import NamedTuple\n",
      "\n",
      "            class MyModule(NamedTuple):\n",
      "            result: List[int]\n",
      "\n",
      "            class TestNNModule(torch.nn.Module):\n",
      "                def forward(self, a) -> MyModule:\n",
      "                    result = MyModule(result=a)\n",
      "                    return result\n",
      "\n",
      "            pdt_model = TestNNModule()\n",
      "\n",
      "            # Runs the pdt_model in eager model with the inputs provided and annotates the arguments of forward\n",
      "            scripted_model = torch.jit.script(pdt_model, example_inputs={pdt_model: [([10, 20, ], ), ], })\n",
      "\n",
      "            # Run the scripted_model with actual inputs\n",
      "            print(scripted_model([20]))\n",
      "    \"\"\"\u001b[0m\u001b[1;33m\n",
      "\u001b[0m    \u001b[1;32mif\u001b[0m \u001b[1;32mnot\u001b[0m \u001b[0m_enabled\u001b[0m\u001b[1;33m:\u001b[0m\u001b[1;33m\n",
      "\u001b[0m        \u001b[1;32mreturn\u001b[0m \u001b[0mobj\u001b[0m\u001b[1;33m\n",
      "\u001b[0m\u001b[1;33m\n",
      "\u001b[0m    \u001b[1;32mglobal\u001b[0m \u001b[0m_TOPLEVEL\u001b[0m\u001b[1;33m\n",
      "\u001b[0m    \u001b[1;32mif\u001b[0m \u001b[0m_TOPLEVEL\u001b[0m\u001b[1;33m:\u001b[0m\u001b[1;33m\n",
      "\u001b[0m        \u001b[0mlog_torchscript_usage\u001b[0m\u001b[1;33m(\u001b[0m\u001b[1;34m\"script\"\u001b[0m\u001b[1;33m)\u001b[0m\u001b[1;33m\n",
      "\u001b[0m    \u001b[0mprev\u001b[0m \u001b[1;33m=\u001b[0m \u001b[0m_TOPLEVEL\u001b[0m\u001b[1;33m\n",
      "\u001b[0m    \u001b[0m_TOPLEVEL\u001b[0m \u001b[1;33m=\u001b[0m \u001b[1;32mFalse\u001b[0m\u001b[1;33m\n",
      "\u001b[0m\u001b[1;33m\n",
      "\u001b[0m    \u001b[1;32mtry\u001b[0m\u001b[1;33m:\u001b[0m\u001b[1;33m\n",
      "\u001b[0m        \u001b[1;32mreturn\u001b[0m \u001b[0m_script_impl\u001b[0m\u001b[1;33m(\u001b[0m\u001b[1;33m\n",
      "\u001b[0m            \u001b[0mobj\u001b[0m\u001b[1;33m=\u001b[0m\u001b[0mobj\u001b[0m\u001b[1;33m,\u001b[0m\u001b[1;33m\n",
      "\u001b[0m            \u001b[0moptimize\u001b[0m\u001b[1;33m=\u001b[0m\u001b[0moptimize\u001b[0m\u001b[1;33m,\u001b[0m\u001b[1;33m\n",
      "\u001b[0m            \u001b[0m_frames_up\u001b[0m\u001b[1;33m=\u001b[0m\u001b[0m_frames_up\u001b[0m \u001b[1;33m+\u001b[0m \u001b[1;36m1\u001b[0m\u001b[1;33m,\u001b[0m\u001b[1;33m\n",
      "\u001b[0m            \u001b[0m_rcb\u001b[0m\u001b[1;33m=\u001b[0m\u001b[0m_rcb\u001b[0m\u001b[1;33m,\u001b[0m\u001b[1;33m\n",
      "\u001b[0m            \u001b[0mexample_inputs\u001b[0m\u001b[1;33m=\u001b[0m\u001b[0mexample_inputs\u001b[0m\u001b[1;33m,\u001b[0m\u001b[1;33m\n",
      "\u001b[0m        \u001b[1;33m)\u001b[0m\u001b[1;33m\n",
      "\u001b[0m    \u001b[1;32mfinally\u001b[0m\u001b[1;33m:\u001b[0m\u001b[1;33m\n",
      "\u001b[0m        \u001b[0m_TOPLEVEL\u001b[0m \u001b[1;33m=\u001b[0m \u001b[0mprev\u001b[0m\u001b[1;33m\u001b[0m\u001b[1;33m\u001b[0m\u001b[0m\n",
      "\u001b[1;31mFile:\u001b[0m      c:\\users\\xiang\\anaconda3\\lib\\site-packages\\torch\\jit\\_script.py\n",
      "\u001b[1;31mType:\u001b[0m      function"
     ]
    }
   ],
   "source": [
    "import torch\n",
    "\n",
    "\n",
    "torch.jit.script??"
   ]
  },
  {
   "cell_type": "markdown",
   "metadata": {
    "id": "tUOm7G9ESi4s"
   },
   "source": [
    "The primary alternative to scripting is _tracing_,\n",
    "which runs the PyTorch module on a specific\n",
    "set of inputs and records, or \"traces\",\n",
    "the compute graph.\n",
    "\n",
    "You can read more about it in the documentation for the primary method\n",
    "for tracing models, `torch.jit.trace`,\n",
    "or just read the quick summary and comparison below."
   ]
  },
  {
   "cell_type": "code",
   "execution_count": 6,
   "metadata": {
    "id": "Pn3QLOFNjuOa"
   },
   "outputs": [
    {
     "name": "stdout",
     "output_type": "stream",
     "text": [
      "\u001b[1;31mSignature:\u001b[0m\n",
      "\u001b[0mtorch\u001b[0m\u001b[1;33m.\u001b[0m\u001b[0mjit\u001b[0m\u001b[1;33m.\u001b[0m\u001b[0mtrace\u001b[0m\u001b[1;33m(\u001b[0m\u001b[1;33m\n",
      "\u001b[0m    \u001b[0mfunc\u001b[0m\u001b[1;33m,\u001b[0m\u001b[1;33m\n",
      "\u001b[0m    \u001b[0mexample_inputs\u001b[0m\u001b[1;33m=\u001b[0m\u001b[1;32mNone\u001b[0m\u001b[1;33m,\u001b[0m\u001b[1;33m\n",
      "\u001b[0m    \u001b[0moptimize\u001b[0m\u001b[1;33m=\u001b[0m\u001b[1;32mNone\u001b[0m\u001b[1;33m,\u001b[0m\u001b[1;33m\n",
      "\u001b[0m    \u001b[0mcheck_trace\u001b[0m\u001b[1;33m=\u001b[0m\u001b[1;32mTrue\u001b[0m\u001b[1;33m,\u001b[0m\u001b[1;33m\n",
      "\u001b[0m    \u001b[0mcheck_inputs\u001b[0m\u001b[1;33m=\u001b[0m\u001b[1;32mNone\u001b[0m\u001b[1;33m,\u001b[0m\u001b[1;33m\n",
      "\u001b[0m    \u001b[0mcheck_tolerance\u001b[0m\u001b[1;33m=\u001b[0m\u001b[1;36m1e-05\u001b[0m\u001b[1;33m,\u001b[0m\u001b[1;33m\n",
      "\u001b[0m    \u001b[0mstrict\u001b[0m\u001b[1;33m=\u001b[0m\u001b[1;32mTrue\u001b[0m\u001b[1;33m,\u001b[0m\u001b[1;33m\n",
      "\u001b[0m    \u001b[0m_force_outplace\u001b[0m\u001b[1;33m=\u001b[0m\u001b[1;32mFalse\u001b[0m\u001b[1;33m,\u001b[0m\u001b[1;33m\n",
      "\u001b[0m    \u001b[0m_module_class\u001b[0m\u001b[1;33m=\u001b[0m\u001b[1;32mNone\u001b[0m\u001b[1;33m,\u001b[0m\u001b[1;33m\n",
      "\u001b[0m    \u001b[0m_compilation_unit\u001b[0m\u001b[1;33m=\u001b[0m\u001b[1;33m<\u001b[0m\u001b[0mtorch\u001b[0m\u001b[1;33m.\u001b[0m\u001b[0mjit\u001b[0m\u001b[1;33m.\u001b[0m\u001b[0mCompilationUnit\u001b[0m \u001b[0mobject\u001b[0m \u001b[0mat\u001b[0m \u001b[1;36m0x000001DD23A51FF0\u001b[0m\u001b[1;33m>\u001b[0m\u001b[1;33m,\u001b[0m\u001b[1;33m\n",
      "\u001b[0m    \u001b[0mexample_kwarg_inputs\u001b[0m\u001b[1;33m=\u001b[0m\u001b[1;32mNone\u001b[0m\u001b[1;33m,\u001b[0m\u001b[1;33m\n",
      "\u001b[0m    \u001b[0m_store_inputs\u001b[0m\u001b[1;33m=\u001b[0m\u001b[1;32mTrue\u001b[0m\u001b[1;33m,\u001b[0m\u001b[1;33m\n",
      "\u001b[0m\u001b[1;33m)\u001b[0m\u001b[1;33m\u001b[0m\u001b[1;33m\u001b[0m\u001b[0m\n",
      "\u001b[1;31mSource:\u001b[0m   \n",
      "\u001b[1;32mdef\u001b[0m \u001b[0mtrace\u001b[0m\u001b[1;33m(\u001b[0m\u001b[1;33m\n",
      "\u001b[0m    \u001b[0mfunc\u001b[0m\u001b[1;33m,\u001b[0m\u001b[1;33m\n",
      "\u001b[0m    \u001b[0mexample_inputs\u001b[0m\u001b[1;33m=\u001b[0m\u001b[1;32mNone\u001b[0m\u001b[1;33m,\u001b[0m\u001b[1;33m\n",
      "\u001b[0m    \u001b[0moptimize\u001b[0m\u001b[1;33m=\u001b[0m\u001b[1;32mNone\u001b[0m\u001b[1;33m,\u001b[0m\u001b[1;33m\n",
      "\u001b[0m    \u001b[0mcheck_trace\u001b[0m\u001b[1;33m=\u001b[0m\u001b[1;32mTrue\u001b[0m\u001b[1;33m,\u001b[0m\u001b[1;33m\n",
      "\u001b[0m    \u001b[0mcheck_inputs\u001b[0m\u001b[1;33m=\u001b[0m\u001b[1;32mNone\u001b[0m\u001b[1;33m,\u001b[0m\u001b[1;33m\n",
      "\u001b[0m    \u001b[0mcheck_tolerance\u001b[0m\u001b[1;33m=\u001b[0m\u001b[1;36m1e-5\u001b[0m\u001b[1;33m,\u001b[0m\u001b[1;33m\n",
      "\u001b[0m    \u001b[0mstrict\u001b[0m\u001b[1;33m=\u001b[0m\u001b[1;32mTrue\u001b[0m\u001b[1;33m,\u001b[0m\u001b[1;33m\n",
      "\u001b[0m    \u001b[0m_force_outplace\u001b[0m\u001b[1;33m=\u001b[0m\u001b[1;32mFalse\u001b[0m\u001b[1;33m,\u001b[0m\u001b[1;33m\n",
      "\u001b[0m    \u001b[0m_module_class\u001b[0m\u001b[1;33m=\u001b[0m\u001b[1;32mNone\u001b[0m\u001b[1;33m,\u001b[0m\u001b[1;33m\n",
      "\u001b[0m    \u001b[0m_compilation_unit\u001b[0m\u001b[1;33m=\u001b[0m\u001b[0m_python_cu\u001b[0m\u001b[1;33m,\u001b[0m\u001b[1;33m\n",
      "\u001b[0m    \u001b[0mexample_kwarg_inputs\u001b[0m\u001b[1;33m=\u001b[0m\u001b[1;32mNone\u001b[0m\u001b[1;33m,\u001b[0m\u001b[1;33m\n",
      "\u001b[0m    \u001b[0m_store_inputs\u001b[0m\u001b[1;33m=\u001b[0m\u001b[1;32mTrue\u001b[0m\u001b[1;33m,\u001b[0m\u001b[1;33m\n",
      "\u001b[0m\u001b[1;33m)\u001b[0m\u001b[1;33m:\u001b[0m\u001b[1;33m\n",
      "\u001b[0m    \u001b[1;34mr\"\"\"\n",
      "    Trace a function and return an executable  or :class:`ScriptFunction` that will be optimized using just-in-time compilation.\n",
      "\n",
      "    Tracing is ideal for code that operates only on\n",
      "    ``Tensor``\\\\s and lists, dictionaries, and\n",
      "    tuples of ``Tensor``\\\\s.\n",
      "\n",
      "    Using `torch.jit.trace` and `torch.jit.trace_module`, you can turn an\n",
      "    existing module or Python function into a TorchScript\n",
      "    :class:`ScriptFunction` or :class:`ScriptModule`. You must provide example\n",
      "    inputs, and we run the function, recording the operations performed on all\n",
      "    the tensors.\n",
      "\n",
      "    * The resulting recording of a standalone function produces `ScriptFunction`.\n",
      "    * The resulting recording of `nn.Module.forward` or `nn.Module` produces\n",
      "      `ScriptModule`.\n",
      "\n",
      "    This module also contains any parameters that the original\n",
      "    module had as well.\n",
      "\n",
      "    Warning:\n",
      "        Tracing only correctly records functions and modules which are not data\n",
      "        dependent (e.g., do not have conditionals on data in tensors) and do not have\n",
      "        any untracked external dependencies (e.g., perform input/output or\n",
      "        access global variables). Tracing only records operations done when the given\n",
      "        function is run on the given tensors. Therefore, the returned\n",
      "        `ScriptModule` will always run the same traced graph on any input. This\n",
      "        has some important implications when your module is expected to run\n",
      "        different sets of operations, depending on the input and/or the module\n",
      "        state. For example,\n",
      "\n",
      "        * Tracing will not record any control-flow like if-statements or loops.\n",
      "          When this control-flow is constant across your module, this is fine\n",
      "          and it often inlines the control-flow decisions. But sometimes the\n",
      "          control-flow is actually part of the model itself. For instance, a\n",
      "          recurrent network is a loop over the (possibly dynamic) length of an\n",
      "          input sequence.\n",
      "        * In the returned :class:`ScriptModule`, operations that have different\n",
      "          behaviors in ``training`` and ``eval`` modes will always behave as if\n",
      "          it is in the mode it was in during tracing, no matter which mode the\n",
      "          `ScriptModule` is in.\n",
      "\n",
      "        In cases like these, tracing would not be appropriate and\n",
      "        :func:`scripting <torch.jit.script>` is a better choice. If you trace\n",
      "        such models, you may silently get incorrect results on subsequent\n",
      "        invocations of the model. The tracer will try to emit warnings when\n",
      "        doing something that may cause an incorrect trace to be produced.\n",
      "\n",
      "    Args:\n",
      "        func (callable or torch.nn.Module):  A Python function or `torch.nn.Module`\n",
      "            that will be run with `example_inputs`. `func` arguments and return\n",
      "            values  must be tensors or (possibly nested) tuples that contain\n",
      "            tensors. When a module is passed `torch.jit.trace`, only the\n",
      "            ``forward`` method is run and traced (see :func:`torch.jit.trace\n",
      "            <torch.jit.trace_module>` for details).\n",
      "\n",
      "    Keyword arguments:\n",
      "        example_inputs (tuple or torch.Tensor or None, optional): A tuple of example\n",
      "            inputs that will be passed to the function while tracing.\n",
      "            Default: ``None``. Either this argument or ``example_kwarg_inputs``\n",
      "            should be specified. The resulting trace can be run with inputs of\n",
      "            different types and shapes assuming the traced operations support those\n",
      "            types and shapes. `example_inputs` may also be a single Tensor in which\n",
      "            case it is automatically wrapped in a tuple. When the value is None,\n",
      "            ``example_kwarg_inputs`` should be specified.\n",
      "\n",
      "        check_trace (``bool``, optional): Check if the same inputs run through\n",
      "            traced code produce the same outputs. Default: ``True``. You might want\n",
      "            to disable this if, for example, your network contains non-\n",
      "            deterministic ops or if you are sure that the network is correct despite\n",
      "            a checker failure.\n",
      "\n",
      "        check_inputs (list of tuples, optional): A list of tuples of input\n",
      "            arguments that should be used to check the trace against what is\n",
      "            expected. Each tuple is equivalent to a set of input arguments that\n",
      "            would be specified in ``example_inputs``. For best results, pass in\n",
      "            a set of checking inputs representative of the space of shapes and\n",
      "            types of inputs you expect the network to see.  If not specified,\n",
      "            the original ``example_inputs`` are used for checking\n",
      "        check_tolerance (float, optional): Floating-point comparison tolerance\n",
      "            to use in the checker procedure.  This can be used to relax the\n",
      "            checker strictness in the event that results diverge numerically\n",
      "            for a known reason, such as operator fusion.\n",
      "        strict (``bool``, optional): run the tracer in a strict mode or not\n",
      "            (default: ``True``). Only turn this off when you want the tracer to\n",
      "            record your mutable container types (currently ``list``/``dict``)\n",
      "            and you are sure that the container you are using in your\n",
      "            problem is a ``constant`` structure and does not get used as\n",
      "            control flow (if, for) conditions.\n",
      "        example_kwarg_inputs (dict, optional): This parameter is a pack of keyword\n",
      "            arguments of example inputs that will be passed to the function while\n",
      "            tracing. Default: ``None``. Either this argument or ``example_inputs``\n",
      "            should be specified. The dict will be unpacking by the arguments name\n",
      "            of the traced function. If the keys of the dict don't not match with\n",
      "            the traced function's arguments name, a runtime exception will be raised.\n",
      "\n",
      "    Returns:\n",
      "        If `func` is `nn.Module` or ``forward`` of `nn.Module`, `trace` returns\n",
      "        a :class:`ScriptModule` object with a single ``forward`` method\n",
      "        containing the traced code.  The returned `ScriptModule` will\n",
      "        have the same set of sub-modules and parameters as the original\n",
      "        ``nn.Module``.  If ``func`` is a standalone function, ``trace``\n",
      "        returns `ScriptFunction`.\n",
      "\n",
      "    Example (tracing a function):\n",
      "\n",
      "    .. testcode::\n",
      "\n",
      "        import torch\n",
      "\n",
      "        def foo(x, y):\n",
      "            return 2 * x + y\n",
      "\n",
      "        # Run `foo` with the provided inputs and record the tensor operations\n",
      "        traced_foo = torch.jit.trace(foo, (torch.rand(3), torch.rand(3)))\n",
      "\n",
      "        # `traced_foo` can now be run with the TorchScript interpreter or saved\n",
      "        # and loaded in a Python-free environment\n",
      "\n",
      "    Example (tracing an existing module)::\n",
      "\n",
      "        import torch\n",
      "        import torch.nn as nn\n",
      "\n",
      "        class Net(nn.Module):\n",
      "            def __init__(self):\n",
      "                super().__init__()\n",
      "                self.conv = nn.Conv2d(1, 1, 3)\n",
      "\n",
      "            def forward(self, x):\n",
      "                return self.conv(x)\n",
      "\n",
      "        n = Net()\n",
      "        example_weight = torch.rand(1, 1, 3, 3)\n",
      "        example_forward_input = torch.rand(1, 1, 3, 3)\n",
      "\n",
      "        # Trace a specific method and construct `ScriptModule` with\n",
      "        # a single `forward` method\n",
      "        module = torch.jit.trace(n.forward, example_forward_input)\n",
      "\n",
      "        # Trace a module (implicitly traces `forward`) and construct a\n",
      "        # `ScriptModule` with a single `forward` method\n",
      "        module = torch.jit.trace(n, example_forward_input)\n",
      "\n",
      "    \"\"\"\u001b[0m\u001b[1;33m\n",
      "\u001b[0m    \u001b[1;32mif\u001b[0m \u001b[1;32mnot\u001b[0m \u001b[0m_enabled\u001b[0m\u001b[1;33m:\u001b[0m\u001b[1;33m\n",
      "\u001b[0m        \u001b[1;32mreturn\u001b[0m \u001b[0mfunc\u001b[0m\u001b[1;33m\n",
      "\u001b[0m    \u001b[1;32mif\u001b[0m \u001b[0moptimize\u001b[0m \u001b[1;32mis\u001b[0m \u001b[1;32mnot\u001b[0m \u001b[1;32mNone\u001b[0m\u001b[1;33m:\u001b[0m\u001b[1;33m\n",
      "\u001b[0m        \u001b[0mwarnings\u001b[0m\u001b[1;33m.\u001b[0m\u001b[0mwarn\u001b[0m\u001b[1;33m(\u001b[0m\u001b[1;33m\n",
      "\u001b[0m            \u001b[1;34m\"`optimize` is deprecated and has no effect. \"\u001b[0m\u001b[1;33m\n",
      "\u001b[0m            \u001b[1;34m\"Use `with torch.jit.optimized_execution()` instead\"\u001b[0m\u001b[1;33m,\u001b[0m\u001b[1;33m\n",
      "\u001b[0m            \u001b[0mFutureWarning\u001b[0m\u001b[1;33m,\u001b[0m\u001b[1;33m\n",
      "\u001b[0m            \u001b[0mstacklevel\u001b[0m\u001b[1;33m=\u001b[0m\u001b[1;36m2\u001b[0m\u001b[1;33m,\u001b[0m\u001b[1;33m\n",
      "\u001b[0m        \u001b[1;33m)\u001b[0m\u001b[1;33m\n",
      "\u001b[0m\u001b[1;33m\n",
      "\u001b[0m    \u001b[1;32mfrom\u001b[0m \u001b[0mtorch\u001b[0m\u001b[1;33m.\u001b[0m\u001b[0m_utils_internal\u001b[0m \u001b[1;32mimport\u001b[0m \u001b[1;33m(\u001b[0m\u001b[1;33m\n",
      "\u001b[0m        \u001b[0mcheck_if_torch_exportable\u001b[0m\u001b[1;33m,\u001b[0m\u001b[1;33m\n",
      "\u001b[0m        \u001b[0mlog_torch_jit_trace_exportability\u001b[0m\u001b[1;33m,\u001b[0m\u001b[1;33m\n",
      "\u001b[0m        \u001b[0mlog_torchscript_usage\u001b[0m\u001b[1;33m,\u001b[0m\u001b[1;33m\n",
      "\u001b[0m    \u001b[1;33m)\u001b[0m\u001b[1;33m\n",
      "\u001b[0m\u001b[1;33m\n",
      "\u001b[0m    \u001b[0mlog_torchscript_usage\u001b[0m\u001b[1;33m(\u001b[0m\u001b[1;34m\"trace\"\u001b[0m\u001b[1;33m)\u001b[0m\u001b[1;33m\n",
      "\u001b[0m    \u001b[0mtraced_func\u001b[0m \u001b[1;33m=\u001b[0m \u001b[0m_trace_impl\u001b[0m\u001b[1;33m(\u001b[0m\u001b[1;33m\n",
      "\u001b[0m        \u001b[0mfunc\u001b[0m\u001b[1;33m,\u001b[0m\u001b[1;33m\n",
      "\u001b[0m        \u001b[0mexample_inputs\u001b[0m\u001b[1;33m,\u001b[0m\u001b[1;33m\n",
      "\u001b[0m        \u001b[0moptimize\u001b[0m\u001b[1;33m,\u001b[0m\u001b[1;33m\n",
      "\u001b[0m        \u001b[0mcheck_trace\u001b[0m\u001b[1;33m,\u001b[0m\u001b[1;33m\n",
      "\u001b[0m        \u001b[0mcheck_inputs\u001b[0m\u001b[1;33m,\u001b[0m\u001b[1;33m\n",
      "\u001b[0m        \u001b[0mcheck_tolerance\u001b[0m\u001b[1;33m,\u001b[0m\u001b[1;33m\n",
      "\u001b[0m        \u001b[0mstrict\u001b[0m\u001b[1;33m,\u001b[0m\u001b[1;33m\n",
      "\u001b[0m        \u001b[0m_force_outplace\u001b[0m\u001b[1;33m,\u001b[0m\u001b[1;33m\n",
      "\u001b[0m        \u001b[0m_module_class\u001b[0m\u001b[1;33m,\u001b[0m\u001b[1;33m\n",
      "\u001b[0m        \u001b[0m_compilation_unit\u001b[0m\u001b[1;33m,\u001b[0m\u001b[1;33m\n",
      "\u001b[0m        \u001b[0mexample_kwarg_inputs\u001b[0m\u001b[1;33m,\u001b[0m\u001b[1;33m\n",
      "\u001b[0m        \u001b[0m_store_inputs\u001b[0m\u001b[1;33m,\u001b[0m\u001b[1;33m\n",
      "\u001b[0m    \u001b[1;33m)\u001b[0m\u001b[1;33m\n",
      "\u001b[0m\u001b[1;33m\n",
      "\u001b[0m    \u001b[1;32mif\u001b[0m \u001b[0mcheck_if_torch_exportable\u001b[0m\u001b[1;33m(\u001b[0m\u001b[1;33m)\u001b[0m\u001b[1;33m:\u001b[0m\u001b[1;33m\n",
      "\u001b[0m        \u001b[1;32mfrom\u001b[0m \u001b[0mtorch\u001b[0m\u001b[1;33m.\u001b[0m\u001b[0m_export\u001b[0m\u001b[1;33m.\u001b[0m\u001b[0mconverter\u001b[0m \u001b[1;32mimport\u001b[0m \u001b[0mTS2EPConverter\u001b[0m\u001b[1;33m\n",
      "\u001b[0m        \u001b[1;32mfrom\u001b[0m \u001b[0mtorch\u001b[0m\u001b[1;33m.\u001b[0m\u001b[0mexport\u001b[0m\u001b[1;33m.\u001b[0m\u001b[0m_trace\u001b[0m \u001b[1;32mimport\u001b[0m \u001b[1;33m(\u001b[0m\u001b[1;33m\n",
      "\u001b[0m            \u001b[0m_convert_ts_to_export_experimental\u001b[0m\u001b[1;33m,\u001b[0m\u001b[1;33m\n",
      "\u001b[0m            \u001b[0m_process_jit_trace_inputs_for_export\u001b[0m\u001b[1;33m,\u001b[0m\u001b[1;33m\n",
      "\u001b[0m        \u001b[1;33m)\u001b[0m\u001b[1;33m\n",
      "\u001b[0m\u001b[1;33m\n",
      "\u001b[0m        \u001b[0mtraced_func_for_export\u001b[0m \u001b[1;33m=\u001b[0m \u001b[0m_trace_impl\u001b[0m\u001b[1;33m(\u001b[0m\u001b[1;33m\n",
      "\u001b[0m            \u001b[0mfunc\u001b[0m\u001b[1;33m,\u001b[0m\u001b[1;33m\n",
      "\u001b[0m            \u001b[0mexample_inputs\u001b[0m\u001b[1;33m=\u001b[0m\u001b[0mexample_inputs\u001b[0m\u001b[1;33m,\u001b[0m\u001b[1;33m\n",
      "\u001b[0m            \u001b[0moptimize\u001b[0m\u001b[1;33m=\u001b[0m\u001b[0moptimize\u001b[0m\u001b[1;33m,\u001b[0m\u001b[1;33m\n",
      "\u001b[0m            \u001b[0mcheck_trace\u001b[0m\u001b[1;33m=\u001b[0m\u001b[1;32mFalse\u001b[0m\u001b[1;33m,\u001b[0m\u001b[1;33m\n",
      "\u001b[0m            \u001b[0mcheck_inputs\u001b[0m\u001b[1;33m=\u001b[0m\u001b[0mcheck_inputs\u001b[0m\u001b[1;33m,\u001b[0m\u001b[1;33m\n",
      "\u001b[0m            \u001b[0mcheck_tolerance\u001b[0m\u001b[1;33m=\u001b[0m\u001b[0mcheck_tolerance\u001b[0m\u001b[1;33m,\u001b[0m\u001b[1;33m\n",
      "\u001b[0m            \u001b[0mstrict\u001b[0m\u001b[1;33m=\u001b[0m\u001b[0mstrict\u001b[0m\u001b[1;33m,\u001b[0m\u001b[1;33m\n",
      "\u001b[0m            \u001b[0m_force_outplace\u001b[0m\u001b[1;33m=\u001b[0m\u001b[0m_force_outplace\u001b[0m\u001b[1;33m,\u001b[0m\u001b[1;33m\n",
      "\u001b[0m            \u001b[0m_module_class\u001b[0m\u001b[1;33m=\u001b[0m\u001b[0m_module_class\u001b[0m\u001b[1;33m,\u001b[0m\u001b[1;33m\n",
      "\u001b[0m            \u001b[0m_compilation_unit\u001b[0m\u001b[1;33m=\u001b[0m\u001b[0m_compilation_unit\u001b[0m\u001b[1;33m,\u001b[0m\u001b[1;33m\n",
      "\u001b[0m            \u001b[0mexample_kwarg_inputs\u001b[0m\u001b[1;33m=\u001b[0m\u001b[0mexample_kwarg_inputs\u001b[0m\u001b[1;33m,\u001b[0m\u001b[1;33m\n",
      "\u001b[0m            \u001b[0m_store_inputs\u001b[0m\u001b[1;33m=\u001b[0m\u001b[0m_store_inputs\u001b[0m\u001b[1;33m,\u001b[0m\u001b[1;33m\n",
      "\u001b[0m        \u001b[1;33m)\u001b[0m\u001b[1;33m\n",
      "\u001b[0m\u001b[1;33m\n",
      "\u001b[0m        \u001b[0mexport_args\u001b[0m\u001b[1;33m,\u001b[0m \u001b[0m_\u001b[0m \u001b[1;33m=\u001b[0m \u001b[0m_process_jit_trace_inputs_for_export\u001b[0m\u001b[1;33m(\u001b[0m\u001b[1;33m\n",
      "\u001b[0m            \u001b[0mexample_inputs\u001b[0m\u001b[1;33m,\u001b[0m \u001b[0mexample_kwarg_inputs\u001b[0m\u001b[1;33m\n",
      "\u001b[0m        \u001b[1;33m)\u001b[0m\u001b[1;33m\n",
      "\u001b[0m\u001b[1;33m\n",
      "\u001b[0m        \u001b[1;32mdef\u001b[0m \u001b[0m_log_exportability\u001b[0m\u001b[1;33m(\u001b[0m\u001b[0mfunc_to_export\u001b[0m\u001b[1;33m,\u001b[0m \u001b[0mexport_func\u001b[0m\u001b[1;33m,\u001b[0m \u001b[0mexport_args\u001b[0m\u001b[1;33m,\u001b[0m \u001b[0mexport_type\u001b[0m\u001b[1;33m)\u001b[0m\u001b[1;33m:\u001b[0m\u001b[1;33m\n",
      "\u001b[0m            \u001b[1;32mtry\u001b[0m\u001b[1;33m:\u001b[0m\u001b[1;33m\n",
      "\u001b[0m                \u001b[0mep_module\u001b[0m \u001b[1;33m=\u001b[0m \u001b[0mexport_func\u001b[0m\u001b[1;33m(\u001b[0m\u001b[0mfunc_to_export\u001b[0m\u001b[1;33m,\u001b[0m \u001b[0mexport_args\u001b[0m\u001b[1;33m)\u001b[0m\u001b[1;33m\n",
      "\u001b[0m            \u001b[1;32mexcept\u001b[0m \u001b[0mException\u001b[0m \u001b[1;32mas\u001b[0m \u001b[0me\u001b[0m\u001b[1;33m:\u001b[0m\u001b[1;33m\n",
      "\u001b[0m                \u001b[0mlog_torch_jit_trace_exportability\u001b[0m\u001b[1;33m(\u001b[0m\u001b[1;33m\n",
      "\u001b[0m                    \u001b[1;34m\"trace\"\u001b[0m\u001b[1;33m,\u001b[0m\u001b[1;33m\n",
      "\u001b[0m                    \u001b[0mstr\u001b[0m\u001b[1;33m(\u001b[0m\u001b[0mexport_type\u001b[0m\u001b[1;33m)\u001b[0m\u001b[1;33m,\u001b[0m\u001b[1;33m\n",
      "\u001b[0m                    \u001b[0mstr\u001b[0m\u001b[1;33m(\u001b[0m\u001b[0m_ExportOutcome\u001b[0m\u001b[1;33m.\u001b[0m\u001b[0mFAILED_TO_EXPORT\u001b[0m\u001b[1;33m)\u001b[0m\u001b[1;33m,\u001b[0m\u001b[1;33m\n",
      "\u001b[0m                    \u001b[0mstr\u001b[0m\u001b[1;33m(\u001b[0m\u001b[0me\u001b[0m\u001b[1;33m)\u001b[0m\u001b[1;33m,\u001b[0m\u001b[1;33m\n",
      "\u001b[0m                \u001b[1;33m)\u001b[0m\u001b[1;33m\n",
      "\u001b[0m                \u001b[1;32mreturn\u001b[0m\u001b[1;33m\n",
      "\u001b[0m\u001b[1;33m\n",
      "\u001b[0m            \u001b[1;32mtry\u001b[0m\u001b[1;33m:\u001b[0m\u001b[1;33m\n",
      "\u001b[0m                \u001b[0mexport\u001b[0m \u001b[1;33m=\u001b[0m \u001b[0mep_module\u001b[0m\u001b[1;33m(\u001b[0m\u001b[1;33m*\u001b[0m\u001b[0mexport_args\u001b[0m\u001b[1;33m)\u001b[0m\u001b[1;33m\n",
      "\u001b[0m            \u001b[1;32mexcept\u001b[0m \u001b[0mException\u001b[0m \u001b[1;32mas\u001b[0m \u001b[0me\u001b[0m\u001b[1;33m:\u001b[0m\u001b[1;33m\n",
      "\u001b[0m                \u001b[0mlog_torch_jit_trace_exportability\u001b[0m\u001b[1;33m(\u001b[0m\u001b[1;33m\n",
      "\u001b[0m                    \u001b[1;34m\"trace\"\u001b[0m\u001b[1;33m,\u001b[0m \u001b[0mstr\u001b[0m\u001b[1;33m(\u001b[0m\u001b[0mexport_type\u001b[0m\u001b[1;33m)\u001b[0m\u001b[1;33m,\u001b[0m \u001b[0mstr\u001b[0m\u001b[1;33m(\u001b[0m\u001b[0m_ExportOutcome\u001b[0m\u001b[1;33m.\u001b[0m\u001b[0mFAILED_TO_RUN\u001b[0m\u001b[1;33m)\u001b[0m\u001b[1;33m,\u001b[0m \u001b[0mstr\u001b[0m\u001b[1;33m(\u001b[0m\u001b[0me\u001b[0m\u001b[1;33m)\u001b[0m\u001b[1;33m\n",
      "\u001b[0m                \u001b[1;33m)\u001b[0m\u001b[1;33m\n",
      "\u001b[0m                \u001b[1;32mreturn\u001b[0m\u001b[1;33m\n",
      "\u001b[0m\u001b[1;33m\n",
      "\u001b[0m            \u001b[1;32mtry\u001b[0m\u001b[1;33m:\u001b[0m\u001b[1;33m\n",
      "\u001b[0m                \u001b[0mtraced_result\u001b[0m \u001b[1;33m=\u001b[0m \u001b[0mfunc_to_export\u001b[0m\u001b[1;33m(\u001b[0m\u001b[1;33m*\u001b[0m\u001b[0mexport_args\u001b[0m\u001b[1;33m)\u001b[0m\u001b[1;33m\n",
      "\u001b[0m            \u001b[1;32mexcept\u001b[0m \u001b[0mException\u001b[0m \u001b[1;32mas\u001b[0m \u001b[0me\u001b[0m\u001b[1;33m:\u001b[0m\u001b[1;33m\n",
      "\u001b[0m                \u001b[0m_\u001b[0m \u001b[1;33m=\u001b[0m \u001b[0me\u001b[0m\u001b[1;33m\n",
      "\u001b[0m                \u001b[0mlog_torch_jit_trace_exportability\u001b[0m\u001b[1;33m(\u001b[0m\u001b[1;33m\n",
      "\u001b[0m                    \u001b[1;34m\"trace\"\u001b[0m\u001b[1;33m,\u001b[0m \u001b[0mstr\u001b[0m\u001b[1;33m(\u001b[0m\u001b[0mexport_type\u001b[0m\u001b[1;33m)\u001b[0m\u001b[1;33m,\u001b[0m \u001b[0mstr\u001b[0m\u001b[1;33m(\u001b[0m\u001b[0m_ExportOutcome\u001b[0m\u001b[1;33m.\u001b[0m\u001b[0mSUCCESS\u001b[0m\u001b[1;33m)\u001b[0m\u001b[1;33m,\u001b[0m \u001b[1;34m\"succeeded\"\u001b[0m\u001b[1;33m\n",
      "\u001b[0m                \u001b[1;33m)\u001b[0m\u001b[1;33m\n",
      "\u001b[0m                \u001b[1;32mreturn\u001b[0m\u001b[1;33m\n",
      "\u001b[0m\u001b[1;33m\n",
      "\u001b[0m            \u001b[1;32mif\u001b[0m \u001b[1;32mnot\u001b[0m \u001b[0manalyze_ts_result_with_export_result\u001b[0m\u001b[1;33m(\u001b[0m\u001b[0mexport\u001b[0m\u001b[1;33m,\u001b[0m \u001b[0mtraced_result\u001b[0m\u001b[1;33m)\u001b[0m\u001b[1;33m:\u001b[0m\u001b[1;33m\n",
      "\u001b[0m                \u001b[0mlog_torch_jit_trace_exportability\u001b[0m\u001b[1;33m(\u001b[0m\u001b[1;33m\n",
      "\u001b[0m                    \u001b[1;34m\"trace\"\u001b[0m\u001b[1;33m,\u001b[0m\u001b[1;33m\n",
      "\u001b[0m                    \u001b[0mstr\u001b[0m\u001b[1;33m(\u001b[0m\u001b[0mexport_type\u001b[0m\u001b[1;33m)\u001b[0m\u001b[1;33m,\u001b[0m\u001b[1;33m\n",
      "\u001b[0m                    \u001b[0mstr\u001b[0m\u001b[1;33m(\u001b[0m\u001b[0m_ExportOutcome\u001b[0m\u001b[1;33m.\u001b[0m\u001b[0mACCURACY_ERROR\u001b[0m\u001b[1;33m)\u001b[0m\u001b[1;33m,\u001b[0m\u001b[1;33m\n",
      "\u001b[0m                    \u001b[1;34m\"accuracy error\"\u001b[0m\u001b[1;33m,\u001b[0m\u001b[1;33m\n",
      "\u001b[0m                \u001b[1;33m)\u001b[0m\u001b[1;33m\n",
      "\u001b[0m                \u001b[1;32mreturn\u001b[0m\u001b[1;33m\n",
      "\u001b[0m\u001b[1;33m\n",
      "\u001b[0m            \u001b[0mlog_torch_jit_trace_exportability\u001b[0m\u001b[1;33m(\u001b[0m\u001b[1;33m\n",
      "\u001b[0m                \u001b[1;34m\"trace\"\u001b[0m\u001b[1;33m,\u001b[0m \u001b[0mstr\u001b[0m\u001b[1;33m(\u001b[0m\u001b[0mexport_type\u001b[0m\u001b[1;33m)\u001b[0m\u001b[1;33m,\u001b[0m \u001b[0mstr\u001b[0m\u001b[1;33m(\u001b[0m\u001b[0m_ExportOutcome\u001b[0m\u001b[1;33m.\u001b[0m\u001b[0mSUCCESS\u001b[0m\u001b[1;33m)\u001b[0m\u001b[1;33m,\u001b[0m \u001b[1;34m\"succeeded\"\u001b[0m\u001b[1;33m\n",
      "\u001b[0m            \u001b[1;33m)\u001b[0m\u001b[1;33m\n",
      "\u001b[0m\u001b[1;33m\n",
      "\u001b[0m        \u001b[1;32mdef\u001b[0m \u001b[0m_direct_export_and_lower\u001b[0m\u001b[1;33m(\u001b[0m\u001b[0mfunc\u001b[0m\u001b[1;33m,\u001b[0m \u001b[0mexport_args\u001b[0m\u001b[1;33m)\u001b[0m\u001b[1;33m:\u001b[0m\u001b[1;33m\n",
      "\u001b[0m            \u001b[1;32mreturn\u001b[0m \u001b[0mtorch\u001b[0m\u001b[1;33m.\u001b[0m\u001b[0mexport\u001b[0m\u001b[1;33m.\u001b[0m\u001b[0mexport\u001b[0m\u001b[1;33m(\u001b[0m\u001b[0mfunc\u001b[0m\u001b[1;33m,\u001b[0m \u001b[0mexport_args\u001b[0m\u001b[1;33m,\u001b[0m \u001b[0mstrict\u001b[0m\u001b[1;33m=\u001b[0m\u001b[1;32mFalse\u001b[0m\u001b[1;33m)\u001b[0m\u001b[1;33m.\u001b[0m\u001b[0mmodule\u001b[0m\u001b[1;33m(\u001b[0m\u001b[1;33m)\u001b[0m\u001b[1;33m\n",
      "\u001b[0m\u001b[1;33m\n",
      "\u001b[0m        \u001b[1;32mdef\u001b[0m \u001b[0m_convert_ts_to_export_source_to_source\u001b[0m\u001b[1;33m(\u001b[0m\u001b[0mfunc\u001b[0m\u001b[1;33m,\u001b[0m \u001b[0mexport_args\u001b[0m\u001b[1;33m)\u001b[0m\u001b[1;33m:\u001b[0m\u001b[1;33m\n",
      "\u001b[0m            \u001b[1;32mreturn\u001b[0m \u001b[0mTS2EPConverter\u001b[0m\u001b[1;33m(\u001b[0m\u001b[0mfunc\u001b[0m\u001b[1;33m,\u001b[0m \u001b[0mexport_args\u001b[0m\u001b[1;33m)\u001b[0m\u001b[1;33m.\u001b[0m\u001b[0mconvert\u001b[0m\u001b[1;33m(\u001b[0m\u001b[1;33m)\u001b[0m\u001b[1;33m.\u001b[0m\u001b[0mmodule\u001b[0m\u001b[1;33m(\u001b[0m\u001b[1;33m)\u001b[0m\u001b[1;33m\n",
      "\u001b[0m\u001b[1;33m\n",
      "\u001b[0m        \u001b[1;31m# torch.jit.trace is noop when the original module is torch.jit.ScriptModule\u001b[0m\u001b[1;33m\n",
      "\u001b[0m        \u001b[1;32mif\u001b[0m \u001b[1;32mnot\u001b[0m \u001b[0misinstance\u001b[0m\u001b[1;33m(\u001b[0m\u001b[0mtraced_func_for_export\u001b[0m\u001b[1;33m,\u001b[0m \u001b[0mtorch\u001b[0m\u001b[1;33m.\u001b[0m\u001b[0mjit\u001b[0m\u001b[1;33m.\u001b[0m\u001b[0mScriptModule\u001b[0m\u001b[1;33m)\u001b[0m\u001b[1;33m:\u001b[0m\u001b[1;33m\n",
      "\u001b[0m            \u001b[0m_log_exportability\u001b[0m\u001b[1;33m(\u001b[0m\u001b[1;33m\n",
      "\u001b[0m                \u001b[0mtraced_func_for_export\u001b[0m\u001b[1;33m,\u001b[0m\u001b[1;33m\n",
      "\u001b[0m                \u001b[0m_direct_export_and_lower\u001b[0m\u001b[1;33m,\u001b[0m\u001b[1;33m\n",
      "\u001b[0m                \u001b[0mexport_args\u001b[0m\u001b[1;33m,\u001b[0m\u001b[1;33m\n",
      "\u001b[0m                \u001b[0m_ExportType\u001b[0m\u001b[1;33m.\u001b[0m\u001b[0mDIRECT_EXPORT\u001b[0m\u001b[1;33m,\u001b[0m\u001b[1;33m\n",
      "\u001b[0m            \u001b[1;33m)\u001b[0m\u001b[1;33m\n",
      "\u001b[0m\u001b[1;33m\n",
      "\u001b[0m        \u001b[0m_log_exportability\u001b[0m\u001b[1;33m(\u001b[0m\u001b[1;33m\n",
      "\u001b[0m            \u001b[0mtraced_func_for_export\u001b[0m\u001b[1;33m,\u001b[0m\u001b[1;33m\n",
      "\u001b[0m            \u001b[0m_convert_ts_to_export_experimental\u001b[0m\u001b[1;33m,\u001b[0m\u001b[1;33m\n",
      "\u001b[0m            \u001b[0mexport_args\u001b[0m\u001b[1;33m,\u001b[0m\u001b[1;33m\n",
      "\u001b[0m            \u001b[0m_ExportType\u001b[0m\u001b[1;33m.\u001b[0m\u001b[0mTRACE_AND_EXPORT\u001b[0m\u001b[1;33m,\u001b[0m\u001b[1;33m\n",
      "\u001b[0m        \u001b[1;33m)\u001b[0m\u001b[1;33m\n",
      "\u001b[0m        \u001b[0m_log_exportability\u001b[0m\u001b[1;33m(\u001b[0m\u001b[1;33m\n",
      "\u001b[0m            \u001b[0mtraced_func_for_export\u001b[0m\u001b[1;33m,\u001b[0m\u001b[1;33m\n",
      "\u001b[0m            \u001b[0m_convert_ts_to_export_source_to_source\u001b[0m\u001b[1;33m,\u001b[0m\u001b[1;33m\n",
      "\u001b[0m            \u001b[0mexport_args\u001b[0m\u001b[1;33m,\u001b[0m\u001b[1;33m\n",
      "\u001b[0m            \u001b[0m_ExportType\u001b[0m\u001b[1;33m.\u001b[0m\u001b[0mSOURCE_TO_SOURCE\u001b[0m\u001b[1;33m,\u001b[0m\u001b[1;33m\n",
      "\u001b[0m        \u001b[1;33m)\u001b[0m\u001b[1;33m\n",
      "\u001b[0m\u001b[1;33m\n",
      "\u001b[0m    \u001b[1;32mreturn\u001b[0m \u001b[0mtraced_func\u001b[0m\u001b[1;33m\u001b[0m\u001b[1;33m\u001b[0m\u001b[0m\n",
      "\u001b[1;31mFile:\u001b[0m      c:\\users\\xiang\\anaconda3\\lib\\site-packages\\torch\\jit\\_trace.py\n",
      "\u001b[1;31mType:\u001b[0m      function"
     ]
    }
   ],
   "source": [
    "torch.jit.trace??"
   ]
  },
  {
   "cell_type": "markdown",
   "metadata": {},
   "source": [
    "### Tracing versus Scripting for TorchScript"
   ]
  },
  {
   "cell_type": "markdown",
   "metadata": {
    "id": "uP4TfihfBw9z"
   },
   "source": [
    "The traced program is generally faster than the scripted version,\n",
    "for models that are compatible with both tracing and scripting.\n",
    "\n",
    "Tracing produces a static compute graph,\n",
    "which means all control flow\n",
    "(`if`s or `for` loops)\n",
    "are effectively inlined.\n",
    "\n",
    "As written, our text recognizer has a loop with conditional breaking -- fairly typical for Transformers in autoregressive mode --\n",
    "so it isn't compatible with tracing.\n",
    "\n",
    "Furthermore, the static compute graph includes concrete choices of operations,\n",
    "e.g. specific CUDA kernels if tracing is run on the GPU.\n",
    "\n",
    "If you try to run the traced model on a system that doesn't support those kernels,\n",
    "it will crash.\n",
    "That means tracing must occur in the target deployment environment.\n",
    "\n",
    "Scripted models are much more portable, at the cost of both slower runtimes\n",
    "for a fixed hardware target and of some restrictions on how dynamic the Python code can be.\n",
    "\n",
    "We don't find the restrictions scripting places on Python code to be too onerous\n",
    "and in our experience, the performance gains are not worth the extra effort\n",
    "until the team size is larger,\n",
    "model serving hardware and strategy is more mature,\n",
    "and model release cycles are slower.\n",
    "\n",
    "For an alternative perspective that's more in favor of tracing\n",
    "and walks through how to mix-and-match scripting\n",
    "and tracing for maximum flexibility and performance, see\n",
    "[this blogpost](https://ppwwyyxx.com/blog/2022/TorchScript-Tracing-vs-Scripting/)\n",
    "from\n",
    "[Detectron2](https://ai.facebook.com/blog/-detectron2-a-pytorch-based-modular-object-detection-library-/)\n",
    "dev Yuxin Wu."
   ]
  },
  {
   "cell_type": "markdown",
   "metadata": {
    "id": "cDARv-GdqtET"
   },
   "source": [
    "Choosing just one of scripting or tracing\n",
    "means we can use a high-level method\n",
    "from PyTorch Lightning,\n",
    "`to_torchscript`,\n",
    "to produce our scripted model binary\n",
    "and we don't need to touch our model code."
   ]
  },
  {
   "cell_type": "code",
   "execution_count": 7,
   "metadata": {
    "id": "udvnx7sBBklY"
   },
   "outputs": [
    {
     "name": "stdout",
     "output_type": "stream",
     "text": [
      "\u001b[1;31mSignature:\u001b[0m\n",
      "\u001b[0mpl\u001b[0m\u001b[1;33m.\u001b[0m\u001b[0mLightningModule\u001b[0m\u001b[1;33m.\u001b[0m\u001b[0mto_torchscript\u001b[0m\u001b[1;33m(\u001b[0m\u001b[1;33m\n",
      "\u001b[0m    \u001b[0mself\u001b[0m\u001b[1;33m,\u001b[0m\u001b[1;33m\n",
      "\u001b[0m    \u001b[0mfile_path\u001b[0m\u001b[1;33m:\u001b[0m \u001b[0mUnion\u001b[0m\u001b[1;33m[\u001b[0m\u001b[0mstr\u001b[0m\u001b[1;33m,\u001b[0m \u001b[0mpathlib\u001b[0m\u001b[1;33m.\u001b[0m\u001b[0mPath\u001b[0m\u001b[1;33m,\u001b[0m \u001b[0mNoneType\u001b[0m\u001b[1;33m]\u001b[0m \u001b[1;33m=\u001b[0m \u001b[1;32mNone\u001b[0m\u001b[1;33m,\u001b[0m\u001b[1;33m\n",
      "\u001b[0m    \u001b[0mmethod\u001b[0m\u001b[1;33m:\u001b[0m \u001b[0mOptional\u001b[0m\u001b[1;33m[\u001b[0m\u001b[0mstr\u001b[0m\u001b[1;33m]\u001b[0m \u001b[1;33m=\u001b[0m \u001b[1;34m'script'\u001b[0m\u001b[1;33m,\u001b[0m\u001b[1;33m\n",
      "\u001b[0m    \u001b[0mexample_inputs\u001b[0m\u001b[1;33m:\u001b[0m \u001b[0mOptional\u001b[0m\u001b[1;33m[\u001b[0m\u001b[0mAny\u001b[0m\u001b[1;33m]\u001b[0m \u001b[1;33m=\u001b[0m \u001b[1;32mNone\u001b[0m\u001b[1;33m,\u001b[0m\u001b[1;33m\n",
      "\u001b[0m    \u001b[1;33m**\u001b[0m\u001b[0mkwargs\u001b[0m\u001b[1;33m:\u001b[0m \u001b[0mAny\u001b[0m\u001b[1;33m,\u001b[0m\u001b[1;33m\n",
      "\u001b[0m\u001b[1;33m)\u001b[0m \u001b[1;33m->\u001b[0m \u001b[0mUnion\u001b[0m\u001b[1;33m[\u001b[0m\u001b[0mtorch\u001b[0m\u001b[1;33m.\u001b[0m\u001b[0mScriptModule\u001b[0m\u001b[1;33m,\u001b[0m \u001b[0mDict\u001b[0m\u001b[1;33m[\u001b[0m\u001b[0mstr\u001b[0m\u001b[1;33m,\u001b[0m \u001b[0mtorch\u001b[0m\u001b[1;33m.\u001b[0m\u001b[0mScriptModule\u001b[0m\u001b[1;33m]\u001b[0m\u001b[1;33m]\u001b[0m\u001b[1;33m\u001b[0m\u001b[1;33m\u001b[0m\u001b[0m\n",
      "\u001b[1;31mSource:\u001b[0m   \n",
      "    \u001b[1;33m@\u001b[0m\u001b[0mtorch\u001b[0m\u001b[1;33m.\u001b[0m\u001b[0mno_grad\u001b[0m\u001b[1;33m(\u001b[0m\u001b[1;33m)\u001b[0m\u001b[1;33m\n",
      "\u001b[0m    \u001b[1;32mdef\u001b[0m \u001b[0mto_torchscript\u001b[0m\u001b[1;33m(\u001b[0m\u001b[1;33m\n",
      "\u001b[0m        \u001b[0mself\u001b[0m\u001b[1;33m,\u001b[0m\u001b[1;33m\n",
      "\u001b[0m        \u001b[0mfile_path\u001b[0m\u001b[1;33m:\u001b[0m \u001b[0mOptional\u001b[0m\u001b[1;33m[\u001b[0m\u001b[0mUnion\u001b[0m\u001b[1;33m[\u001b[0m\u001b[0mstr\u001b[0m\u001b[1;33m,\u001b[0m \u001b[0mPath\u001b[0m\u001b[1;33m]\u001b[0m\u001b[1;33m]\u001b[0m \u001b[1;33m=\u001b[0m \u001b[1;32mNone\u001b[0m\u001b[1;33m,\u001b[0m\u001b[1;33m\n",
      "\u001b[0m        \u001b[0mmethod\u001b[0m\u001b[1;33m:\u001b[0m \u001b[0mOptional\u001b[0m\u001b[1;33m[\u001b[0m\u001b[0mstr\u001b[0m\u001b[1;33m]\u001b[0m \u001b[1;33m=\u001b[0m \u001b[1;34m\"script\"\u001b[0m\u001b[1;33m,\u001b[0m\u001b[1;33m\n",
      "\u001b[0m        \u001b[0mexample_inputs\u001b[0m\u001b[1;33m:\u001b[0m \u001b[0mOptional\u001b[0m\u001b[1;33m[\u001b[0m\u001b[0mAny\u001b[0m\u001b[1;33m]\u001b[0m \u001b[1;33m=\u001b[0m \u001b[1;32mNone\u001b[0m\u001b[1;33m,\u001b[0m\u001b[1;33m\n",
      "\u001b[0m        \u001b[1;33m**\u001b[0m\u001b[0mkwargs\u001b[0m\u001b[1;33m:\u001b[0m \u001b[0mAny\u001b[0m\u001b[1;33m,\u001b[0m\u001b[1;33m\n",
      "\u001b[0m    \u001b[1;33m)\u001b[0m \u001b[1;33m->\u001b[0m \u001b[0mUnion\u001b[0m\u001b[1;33m[\u001b[0m\u001b[0mScriptModule\u001b[0m\u001b[1;33m,\u001b[0m \u001b[0mDict\u001b[0m\u001b[1;33m[\u001b[0m\u001b[0mstr\u001b[0m\u001b[1;33m,\u001b[0m \u001b[0mScriptModule\u001b[0m\u001b[1;33m]\u001b[0m\u001b[1;33m]\u001b[0m\u001b[1;33m:\u001b[0m\u001b[1;33m\n",
      "\u001b[0m        \u001b[1;34m\"\"\"By default compiles the whole model to a :class:`~torch.jit.ScriptModule`. If you want to use tracing,\n",
      "        please provided the argument ``method='trace'`` and make sure that either the `example_inputs` argument is\n",
      "        provided, or the model has :attr:`example_input_array` set. If you would like to customize the modules that are\n",
      "        scripted you should override this method. In case you want to return multiple modules, we recommend using a\n",
      "        dictionary.\n",
      "\n",
      "        Args:\n",
      "            file_path: Path where to save the torchscript. Default: None (no file saved).\n",
      "            method: Whether to use TorchScript's script or trace method. Default: 'script'\n",
      "            example_inputs: An input to be used to do tracing when method is set to 'trace'.\n",
      "              Default: None (uses :attr:`example_input_array`)\n",
      "            **kwargs: Additional arguments that will be passed to the :func:`torch.jit.script` or\n",
      "              :func:`torch.jit.trace` function.\n",
      "\n",
      "        Note:\n",
      "            - Requires the implementation of the\n",
      "              :meth:`~pytorch_lightning.core.LightningModule.forward` method.\n",
      "            - The exported script will be set to evaluation mode.\n",
      "            - It is recommended that you install the latest supported version of PyTorch\n",
      "              to use this feature without limitations. See also the :mod:`torch.jit`\n",
      "              documentation for supported features.\n",
      "\n",
      "        Example::\n",
      "\n",
      "            class SimpleModel(LightningModule):\n",
      "                def __init__(self):\n",
      "                    super().__init__()\n",
      "                    self.l1 = torch.nn.Linear(in_features=64, out_features=4)\n",
      "\n",
      "                def forward(self, x):\n",
      "                    return torch.relu(self.l1(x.view(x.size(0), -1)))\n",
      "\n",
      "            model = SimpleModel()\n",
      "            model.to_torchscript(file_path=\"model.pt\")\n",
      "\n",
      "            torch.jit.save(model.to_torchscript(\n",
      "                file_path=\"model_trace.pt\", method='trace', example_inputs=torch.randn(1, 64))\n",
      "            )\n",
      "\n",
      "        Return:\n",
      "            This LightningModule as a torchscript, regardless of whether `file_path` is\n",
      "            defined or not.\n",
      "\n",
      "        \"\"\"\u001b[0m\u001b[1;33m\n",
      "\u001b[0m        \u001b[0mmode\u001b[0m \u001b[1;33m=\u001b[0m \u001b[0mself\u001b[0m\u001b[1;33m.\u001b[0m\u001b[0mtraining\u001b[0m\u001b[1;33m\n",
      "\u001b[0m\u001b[1;33m\n",
      "\u001b[0m        \u001b[1;32mif\u001b[0m \u001b[0mmethod\u001b[0m \u001b[1;33m==\u001b[0m \u001b[1;34m\"script\"\u001b[0m\u001b[1;33m:\u001b[0m\u001b[1;33m\n",
      "\u001b[0m            \u001b[1;32mwith\u001b[0m \u001b[0m_jit_is_scripting\u001b[0m\u001b[1;33m(\u001b[0m\u001b[1;33m)\u001b[0m\u001b[1;33m:\u001b[0m\u001b[1;33m\n",
      "\u001b[0m                \u001b[0mtorchscript_module\u001b[0m \u001b[1;33m=\u001b[0m \u001b[0mtorch\u001b[0m\u001b[1;33m.\u001b[0m\u001b[0mjit\u001b[0m\u001b[1;33m.\u001b[0m\u001b[0mscript\u001b[0m\u001b[1;33m(\u001b[0m\u001b[0mself\u001b[0m\u001b[1;33m.\u001b[0m\u001b[0meval\u001b[0m\u001b[1;33m(\u001b[0m\u001b[1;33m)\u001b[0m\u001b[1;33m,\u001b[0m \u001b[1;33m**\u001b[0m\u001b[0mkwargs\u001b[0m\u001b[1;33m)\u001b[0m\u001b[1;33m\n",
      "\u001b[0m        \u001b[1;32melif\u001b[0m \u001b[0mmethod\u001b[0m \u001b[1;33m==\u001b[0m \u001b[1;34m\"trace\"\u001b[0m\u001b[1;33m:\u001b[0m\u001b[1;33m\n",
      "\u001b[0m            \u001b[1;31m# if no example inputs are provided, try to see if model has example_input_array set\u001b[0m\u001b[1;33m\n",
      "\u001b[0m            \u001b[1;32mif\u001b[0m \u001b[0mexample_inputs\u001b[0m \u001b[1;32mis\u001b[0m \u001b[1;32mNone\u001b[0m\u001b[1;33m:\u001b[0m\u001b[1;33m\n",
      "\u001b[0m                \u001b[1;32mif\u001b[0m \u001b[0mself\u001b[0m\u001b[1;33m.\u001b[0m\u001b[0mexample_input_array\u001b[0m \u001b[1;32mis\u001b[0m \u001b[1;32mNone\u001b[0m\u001b[1;33m:\u001b[0m\u001b[1;33m\n",
      "\u001b[0m                    \u001b[1;32mraise\u001b[0m \u001b[0mValueError\u001b[0m\u001b[1;33m(\u001b[0m\u001b[1;33m\n",
      "\u001b[0m                        \u001b[1;34m\"Choosing method=`trace` requires either `example_inputs`\"\u001b[0m\u001b[1;33m\n",
      "\u001b[0m                        \u001b[1;34m\" or `model.example_input_array` to be defined.\"\u001b[0m\u001b[1;33m\n",
      "\u001b[0m                    \u001b[1;33m)\u001b[0m\u001b[1;33m\n",
      "\u001b[0m                \u001b[0mexample_inputs\u001b[0m \u001b[1;33m=\u001b[0m \u001b[0mself\u001b[0m\u001b[1;33m.\u001b[0m\u001b[0mexample_input_array\u001b[0m\u001b[1;33m\n",
      "\u001b[0m\u001b[1;33m\n",
      "\u001b[0m            \u001b[1;31m# automatically send example inputs to the right device and use trace\u001b[0m\u001b[1;33m\n",
      "\u001b[0m            \u001b[0mexample_inputs\u001b[0m \u001b[1;33m=\u001b[0m \u001b[0mself\u001b[0m\u001b[1;33m.\u001b[0m\u001b[0m_on_before_batch_transfer\u001b[0m\u001b[1;33m(\u001b[0m\u001b[0mexample_inputs\u001b[0m\u001b[1;33m)\u001b[0m\u001b[1;33m\n",
      "\u001b[0m            \u001b[0mexample_inputs\u001b[0m \u001b[1;33m=\u001b[0m \u001b[0mself\u001b[0m\u001b[1;33m.\u001b[0m\u001b[0m_apply_batch_transfer_handler\u001b[0m\u001b[1;33m(\u001b[0m\u001b[0mexample_inputs\u001b[0m\u001b[1;33m)\u001b[0m\u001b[1;33m\n",
      "\u001b[0m            \u001b[1;32mwith\u001b[0m \u001b[0m_jit_is_scripting\u001b[0m\u001b[1;33m(\u001b[0m\u001b[1;33m)\u001b[0m\u001b[1;33m:\u001b[0m\u001b[1;33m\n",
      "\u001b[0m                \u001b[0mtorchscript_module\u001b[0m \u001b[1;33m=\u001b[0m \u001b[0mtorch\u001b[0m\u001b[1;33m.\u001b[0m\u001b[0mjit\u001b[0m\u001b[1;33m.\u001b[0m\u001b[0mtrace\u001b[0m\u001b[1;33m(\u001b[0m\u001b[0mfunc\u001b[0m\u001b[1;33m=\u001b[0m\u001b[0mself\u001b[0m\u001b[1;33m.\u001b[0m\u001b[0meval\u001b[0m\u001b[1;33m(\u001b[0m\u001b[1;33m)\u001b[0m\u001b[1;33m,\u001b[0m \u001b[0mexample_inputs\u001b[0m\u001b[1;33m=\u001b[0m\u001b[0mexample_inputs\u001b[0m\u001b[1;33m,\u001b[0m \u001b[1;33m**\u001b[0m\u001b[0mkwargs\u001b[0m\u001b[1;33m)\u001b[0m\u001b[1;33m\n",
      "\u001b[0m        \u001b[1;32melse\u001b[0m\u001b[1;33m:\u001b[0m\u001b[1;33m\n",
      "\u001b[0m            \u001b[1;32mraise\u001b[0m \u001b[0mValueError\u001b[0m\u001b[1;33m(\u001b[0m\u001b[1;34mf\"The 'method' parameter only supports 'script' or 'trace', but value given was: {method}\"\u001b[0m\u001b[1;33m)\u001b[0m\u001b[1;33m\n",
      "\u001b[0m\u001b[1;33m\n",
      "\u001b[0m        \u001b[0mself\u001b[0m\u001b[1;33m.\u001b[0m\u001b[0mtrain\u001b[0m\u001b[1;33m(\u001b[0m\u001b[0mmode\u001b[0m\u001b[1;33m)\u001b[0m\u001b[1;33m\n",
      "\u001b[0m\u001b[1;33m\n",
      "\u001b[0m        \u001b[1;32mif\u001b[0m \u001b[0mfile_path\u001b[0m \u001b[1;32mis\u001b[0m \u001b[1;32mnot\u001b[0m \u001b[1;32mNone\u001b[0m\u001b[1;33m:\u001b[0m\u001b[1;33m\n",
      "\u001b[0m            \u001b[0mfs\u001b[0m \u001b[1;33m=\u001b[0m \u001b[0mget_filesystem\u001b[0m\u001b[1;33m(\u001b[0m\u001b[0mfile_path\u001b[0m\u001b[1;33m)\u001b[0m\u001b[1;33m\n",
      "\u001b[0m            \u001b[1;32mwith\u001b[0m \u001b[0mfs\u001b[0m\u001b[1;33m.\u001b[0m\u001b[0mopen\u001b[0m\u001b[1;33m(\u001b[0m\u001b[0mfile_path\u001b[0m\u001b[1;33m,\u001b[0m \u001b[1;34m\"wb\"\u001b[0m\u001b[1;33m)\u001b[0m \u001b[1;32mas\u001b[0m \u001b[0mf\u001b[0m\u001b[1;33m:\u001b[0m\u001b[1;33m\n",
      "\u001b[0m                \u001b[0mtorch\u001b[0m\u001b[1;33m.\u001b[0m\u001b[0mjit\u001b[0m\u001b[1;33m.\u001b[0m\u001b[0msave\u001b[0m\u001b[1;33m(\u001b[0m\u001b[0mtorchscript_module\u001b[0m\u001b[1;33m,\u001b[0m \u001b[0mf\u001b[0m\u001b[1;33m)\u001b[0m\u001b[1;33m\n",
      "\u001b[0m\u001b[1;33m\n",
      "\u001b[0m        \u001b[1;32mreturn\u001b[0m \u001b[0mtorchscript_module\u001b[0m\u001b[1;33m\u001b[0m\u001b[1;33m\u001b[0m\u001b[0m\n",
      "\u001b[1;31mFile:\u001b[0m      c:\\users\\xiang\\anaconda3\\lib\\site-packages\\pytorch_lightning\\core\\module.py\n",
      "\u001b[1;31mType:\u001b[0m      function"
     ]
    }
   ],
   "source": [
    "import pytorch_lightning as pl\n",
    "\n",
    "\n",
    "pl.LightningModule.to_torchscript??"
   ]
  },
  {
   "cell_type": "markdown",
   "metadata": {
    "id": "iXftpJBizrM6"
   },
   "source": [
    "## Alternatives to TorchScript"
   ]
  },
  {
   "cell_type": "markdown",
   "metadata": {
    "id": "QvFh_SW8v4p6"
   },
   "source": [
    "Though it has some sharp edges,\n",
    "TorchScript is a relatively easy to use tool\n",
    "for compiling neural networks written in PyTorch.\n",
    "\n",
    "If you're willing to tolerate more sharp edges,\n",
    "e.g. limited support for certain ops\n",
    "and a higher risk of subtle differences in behavior, the\n",
    "[Open Neural Network eXchange](https://onnx.ai/)\n",
    "format, ONNX, is a compilation target for\n",
    "[a wide variety of DNN libraries](https://onnx.ai/supported-tools.html),\n",
    "from `sklearn` and MATLAB\n",
    "to PyTorch and Hugging Face.\n",
    "\n",
    "A high-level utility for conversion to ONNX is also included\n",
    "in PyTorch Lightning, `pl.LightningModule.to_onnx`.\n",
    "\n",
    "Because it is framework agnostic,\n",
    "there's more and more varied tooling around ONNX,\n",
    "and it has smoother paths to\n",
    "compilation targets that can run DNNs\n",
    "at the highest possible speeds,\n",
    "like\n",
    "[NVIDIA's TensorRT](https://developer.nvidia.com/tensorrt)\n",
    "or\n",
    "[Apache TVM](https://tvm.apache.org/2017/08/17/tvm-release-announcement).\n",
    "\n",
    "TensorRT is the model format used in the\n",
    "[Triton Inference Server](https://github.com/triton-inference-server/server),\n",
    "a sort of \"kubernetes for GPU-accelerated DNNs\"\n",
    "that is, as of 2022,\n",
    "the state of the art in running deep networks\n",
    "at maximum throughput on server-grade GPUs.\n"
   ]
  },
  {
   "cell_type": "markdown",
   "metadata": {
    "id": "36dKPerevkhZ"
   },
   "source": [
    "## A simple script for compiling and staging models"
   ]
  },
  {
   "cell_type": "markdown",
   "metadata": {
    "id": "93pc-NLrBR1A"
   },
   "source": [
    "To recap, our model staging workflow,\n",
    "which does the hand-off between training and production, looks like this:\n",
    "\n",
    "1. Get model weights and hyperparameters\n",
    "from a tracked training run in W&B's cloud storage.\n",
    "2. Reload the model as a `LightningModule` using those weights and hyperparameters.\n",
    "3. Call `to_torchscript` on it.\n",
    "4. Save that result to W&B's cloud storage.\n",
    "\n",
    "We provide a simple script to implement this process:"
   ]
  },
  {
   "cell_type": "code",
   "execution_count": 8,
   "metadata": {
    "id": "gqgiWO0tFktU"
   },
   "outputs": [
    {
     "name": "stdout",
     "output_type": "stream",
     "text": [
      "usage: stage_model.py [-h] [--fetch] [--entity ENTITY]\n",
      "                      [--from_project FROM_PROJECT] [--to_project TO_PROJECT]\n",
      "                      [--run RUN] [--ckpt_alias CKPT_ALIAS]\n",
      "                      [--staged_model_name STAGED_MODEL_NAME]\n",
      "\n",
      "Stages a model for use in production. If based on a checkpoint, the model is\n",
      "converted to torchscript, saved locally, and uploaded to W&B. If based on a\n",
      "model that is already converted and uploaded, the model file is downloaded\n",
      "locally. For details on how the W&B artifacts backing the checkpoints and\n",
      "models are handled, see the documenation for stage_model.find_artifact.\n",
      "\n",
      "options:\n",
      "  -h, --help            show this help message and exit\n",
      "  --fetch               If provided, check ENTITY/FROM_PROJECT for an artifact\n",
      "                        with the provided STAGED_MODEL_NAME and download its\n",
      "                        latest version to D:\\RL_Finance\\MLops\\fslab\\lab07\\text\n",
      "                        _recognizer\\artifacts/STAGED_MODEL_NAME.\n",
      "  --entity ENTITY       Entity from which to download the checkpoint. Note\n",
      "                        that checkpoints are always uploaded to the logged-in\n",
      "                        wandb entity. Pass the value 'DEFAULT' to also\n",
      "                        download from default entity, which is currently\n",
      "                        xiangyexu-university-of-waterloo.\n",
      "  --from_project FROM_PROJECT\n",
      "                        Project from which to download the checkpoint. Default\n",
      "                        is fsdl-text-recognizer-2022-training\n",
      "  --to_project TO_PROJECT\n",
      "                        Project to which to upload the compiled model. Default\n",
      "                        is fsdl-text-recognizer-2022-training.\n",
      "  --run RUN             Optionally, the name of a run to check for an artifact\n",
      "                        of type model that has the provided CKPT_ALIAS.\n",
      "                        Default is None.\n",
      "  --ckpt_alias CKPT_ALIAS\n",
      "                        Alias that identifies which model checkpoint should be\n",
      "                        staged.The artifact's alias can be set manually or\n",
      "                        programmatically elsewhere. Default is 'best'.\n",
      "  --staged_model_name STAGED_MODEL_NAME\n",
      "                        Name to give the staged model artifact. Default is\n",
      "                        'paragraph-text-recognizer'.\n"
     ]
    }
   ],
   "source": [
    "%run training/stage_model.py --help"
   ]
  },
  {
   "cell_type": "markdown",
   "metadata": {
    "id": "i4qEqMRkFsd4"
   },
   "source": [
    "Here in this notebook,\n",
    "rather than training or scripting a model ourselves,\n",
    "we'll just `--fetch`\n",
    "an already trained and scripted model binary:"
   ]
  },
  {
   "cell_type": "code",
   "execution_count": null,
   "metadata": {},
   "outputs": [
    {
     "ename": "NameError",
     "evalue": "name '__file__' is not defined",
     "output_type": "error",
     "traceback": [
      "\u001b[1;31m---------------------------------------------------------------------------\u001b[0m",
      "\u001b[1;31mNameError\u001b[0m                                 Traceback (most recent call last)",
      "Cell \u001b[1;32mIn[11], line 3\u001b[0m\n\u001b[0;32m      1\u001b[0m \u001b[38;5;28;01mfrom\u001b[39;00m\u001b[38;5;250m \u001b[39m\u001b[38;5;21;01mpathlib\u001b[39;00m\u001b[38;5;250m \u001b[39m\u001b[38;5;28;01mimport\u001b[39;00m Path\n\u001b[0;32m      2\u001b[0m LOG_DIR \u001b[38;5;241m=\u001b[39m Path(\u001b[38;5;124m\"\u001b[39m\u001b[38;5;124mtraining\u001b[39m\u001b[38;5;124m\"\u001b[39m) \u001b[38;5;241m/\u001b[39m \u001b[38;5;124m\"\u001b[39m\u001b[38;5;124mlogs\u001b[39m\u001b[38;5;124m\"\u001b[39m\n\u001b[1;32m----> 3\u001b[0m PROJECT_ROOT \u001b[38;5;241m=\u001b[39m Path(\u001b[38;5;18;43m__file__\u001b[39;49m)\u001b[38;5;241m.\u001b[39mresolve()\u001b[38;5;241m.\u001b[39mparents[\u001b[38;5;241m1\u001b[39m]\n\u001b[0;32m      4\u001b[0m PROJECT_ROOT\n",
      "\u001b[1;31mNameError\u001b[0m: name '__file__' is not defined"
     ]
    }
   ],
   "source": [
    "from pathlib import Path\n",
    "PROJECT_ROOT = Path(__file__).resolve().parents[1]\n",
    "PROJECT_ROOT"
   ]
  },
  {
   "cell_type": "code",
   "execution_count": 4,
   "metadata": {},
   "outputs": [],
   "source": [
    "from training import stage_model"
   ]
  },
  {
   "cell_type": "code",
   "execution_count": 15,
   "metadata": {},
   "outputs": [
    {
     "data": {
      "text/plain": [
       "WindowsPath('D:/RL_Finance/MLops/fslab/lab07/text_recognizer/artifacts')"
      ]
     },
     "execution_count": 15,
     "metadata": {},
     "output_type": "execute_result"
    }
   ],
   "source": [
    "from pathlib import Path\n",
    "PROJECT_ROOT = Path(stage_model.__file__).resolve().parents[1]\n",
    "PROD_STAGING_ROOT = PROJECT_ROOT / \"text_recognizer\" / \"artifacts\"\n",
    "PROD_STAGING_ROOT"
   ]
  },
  {
   "cell_type": "code",
   "execution_count": 16,
   "metadata": {},
   "outputs": [
    {
     "data": {
      "text/plain": [
       "'xiangyexu-university-of-waterloo'"
      ]
     },
     "execution_count": 16,
     "metadata": {},
     "output_type": "execute_result"
    }
   ],
   "source": [
    "import wandb\n",
    "\n",
    "\n",
    "api = wandb.Api()\n",
    "DEFAULT_ENTITY = api.default_entity\n",
    "DEFAULT_ENTITY"
   ]
  },
  {
   "cell_type": "code",
   "execution_count": 19,
   "metadata": {},
   "outputs": [
    {
     "data": {
      "text/plain": [
       "'cfrye59/fsdl-text-recognizer-2021-training/paragraph-text-recognizer:latest'"
      ]
     },
     "execution_count": 19,
     "metadata": {},
     "output_type": "execute_result"
    }
   ],
   "source": [
    "f\"cfrye59/fsdl-text-recognizer-2021-training/paragraph-text-recognizer:latest\"\n"
   ]
  },
  {
   "cell_type": "code",
   "execution_count": 10,
   "metadata": {
    "id": "c2wfjLmRDwrH"
   },
   "outputs": [
    {
     "name": "stderr",
     "output_type": "stream",
     "text": [
      "\u001b[34m\u001b[1mwandb\u001b[0m: Downloading large artifact paragraph-text-recognizer:latest, 416.00MB. 1 files... \n",
      "\u001b[34m\u001b[1mwandb\u001b[0m:   1 of 1 files downloaded.  \n",
      "Done. 0:0:41.0\n"
     ]
    },
    {
     "name": "stdout",
     "output_type": "stream",
     "text": [
      "Using artifact cfrye59/fsdl-text-recognizer-2021-training/paragraph-text-recognizer:latest\n",
      "View at URL: https://wandb.ai/cfrye59/fsdl-text-recognizer-2021-training/artifacts/prod-ready/paragraph-text-recognizer/latest\n",
      "Logged by glad-glitter-429 -- fsdl-text-recognizer-2021-training/cfrye59/2aaexmgd\n",
      "View at URL: https://wandb.ai/cfrye59/fsdl-text-recognizer-2021-training/runs/2aaexmgd\n"
     ]
    }
   ],
   "source": [
    "%run training/stage_model.py --fetch --entity=cfrye59 --from_project=fsdl-text-recognizer-2021-training"
   ]
  },
  {
   "cell_type": "markdown",
   "metadata": {
    "id": "I0uNnvjkCZzX"
   },
   "source": [
    "Note that we can use the metadata of the staged model\n",
    "to find the training run that generated the model weights.\n",
    "It requires two graph hops:\n",
    "find the run that created the staged TorchScript model\n",
    "then in that run,\n",
    "find the model checkpoint artifact\n",
    "and look for the run that created it."
   ]
  },
  {
   "cell_type": "code",
   "execution_count": null,
   "metadata": {
    "id": "E9zJg44hCjRv"
   },
   "outputs": [],
   "source": [
    "from IPython import display\n",
    "\n",
    "\n",
    "staged_model_url = \"https://wandb.ai/cfrye59/fsdl-text-recognizer-2021-training/artifacts/prod-ready/paragraph-text-recognizer/3e07efa34aec61999c5a/overview\"\n",
    "\n",
    "IFrame(staged_model_url, width=\"100%\", height=720)"
   ]
  },
  {
   "cell_type": "markdown",
   "metadata": {},
   "source": [
    "When we're deploying our first model,\n",
    "this doesn't feel that important --\n",
    "it's easy enough to find the training runs\n",
    "we've executed and connect them to the model in production.\n",
    "\n",
    "But as we train and release more models,\n",
    "this information will become harder to find\n",
    "and automation and API access will become more important.\n",
    "\n",
    "This will be especially true if we adopt more sophisticated rollout strategies,\n",
    "like A/B testing or canarying,\n",
    "as the application matures.\n",
    "\n",
    "Our system here is not robust enough to be Enterprise Grade™️ --\n",
    "marking models as \"in production\" is manual\n",
    "and there are no access control planes built in --\n",
    "but at least the information is preserved."
   ]
  },
  {
   "cell_type": "markdown",
   "metadata": {},
   "source": [
    "## Running our more portable model via a CLI"
   ]
  },
  {
   "cell_type": "markdown",
   "metadata": {
    "id": "X7d2WHSCHHHP"
   },
   "source": [
    "Now that our TorchScript model binary file is present,\n",
    "we can spin up our text recognizer\n",
    "with much less code.\n",
    "\n",
    "We just need a compatible version of PyTorch\n",
    "and methods to convert\n",
    "our generic data types\n",
    "(images, strings)\n",
    "to and from PyTorch `Tensor`s.\n",
    "\n",
    "We can put all this together in\n",
    "a single light-weight object,\n",
    "the `ParagraphTextRecognizer` class:"
   ]
  },
  {
   "cell_type": "code",
   "execution_count": 2,
   "metadata": {
    "id": "ZGXZep-nDiDk"
   },
   "outputs": [
    {
     "name": "stdout",
     "output_type": "stream",
     "text": [
      "\u001b[1;31mInit signature:\u001b[0m \u001b[0mParagraphTextRecognizer\u001b[0m\u001b[1;33m(\u001b[0m\u001b[0mmodel_path\u001b[0m\u001b[1;33m=\u001b[0m\u001b[1;32mNone\u001b[0m\u001b[1;33m)\u001b[0m\u001b[1;33m\u001b[0m\u001b[1;33m\u001b[0m\u001b[0m\n",
      "\u001b[1;31mSource:\u001b[0m        \n",
      "\u001b[1;32mclass\u001b[0m \u001b[0mParagraphTextRecognizer\u001b[0m\u001b[1;33m:\u001b[0m\u001b[1;33m\n",
      "\u001b[0m    \u001b[1;34m\"\"\"Recognizes a paragraph of text in an image.\"\"\"\u001b[0m\u001b[1;33m\n",
      "\u001b[0m\u001b[1;33m\n",
      "\u001b[0m    \u001b[1;32mdef\u001b[0m \u001b[0m__init__\u001b[0m\u001b[1;33m(\u001b[0m\u001b[0mself\u001b[0m\u001b[1;33m,\u001b[0m \u001b[0mmodel_path\u001b[0m\u001b[1;33m=\u001b[0m\u001b[1;32mNone\u001b[0m\u001b[1;33m)\u001b[0m\u001b[1;33m:\u001b[0m\u001b[1;33m\n",
      "\u001b[0m        \u001b[1;32mif\u001b[0m \u001b[0mmodel_path\u001b[0m \u001b[1;32mis\u001b[0m \u001b[1;32mNone\u001b[0m\u001b[1;33m:\u001b[0m\u001b[1;33m\n",
      "\u001b[0m            \u001b[0mmodel_path\u001b[0m \u001b[1;33m=\u001b[0m \u001b[0mSTAGED_MODEL_DIRNAME\u001b[0m \u001b[1;33m/\u001b[0m \u001b[0mMODEL_FILE\u001b[0m\u001b[1;33m\n",
      "\u001b[0m        \u001b[0mself\u001b[0m\u001b[1;33m.\u001b[0m\u001b[0mmodel\u001b[0m \u001b[1;33m=\u001b[0m \u001b[0mtorch\u001b[0m\u001b[1;33m.\u001b[0m\u001b[0mjit\u001b[0m\u001b[1;33m.\u001b[0m\u001b[0mload\u001b[0m\u001b[1;33m(\u001b[0m\u001b[0mmodel_path\u001b[0m\u001b[1;33m)\u001b[0m\u001b[1;33m\n",
      "\u001b[0m        \u001b[0mself\u001b[0m\u001b[1;33m.\u001b[0m\u001b[0mmapping\u001b[0m \u001b[1;33m=\u001b[0m \u001b[0mself\u001b[0m\u001b[1;33m.\u001b[0m\u001b[0mmodel\u001b[0m\u001b[1;33m.\u001b[0m\u001b[0mmapping\u001b[0m\u001b[1;33m\n",
      "\u001b[0m        \u001b[0mself\u001b[0m\u001b[1;33m.\u001b[0m\u001b[0mignore_tokens\u001b[0m \u001b[1;33m=\u001b[0m \u001b[0mself\u001b[0m\u001b[1;33m.\u001b[0m\u001b[0mmodel\u001b[0m\u001b[1;33m.\u001b[0m\u001b[0mignore_tokens\u001b[0m\u001b[1;33m\n",
      "\u001b[0m        \u001b[0mself\u001b[0m\u001b[1;33m.\u001b[0m\u001b[0mstem\u001b[0m \u001b[1;33m=\u001b[0m \u001b[0mParagraphStem\u001b[0m\u001b[1;33m(\u001b[0m\u001b[1;33m)\u001b[0m\u001b[1;33m\n",
      "\u001b[0m\u001b[1;33m\n",
      "\u001b[0m    \u001b[1;33m@\u001b[0m\u001b[0mtorch\u001b[0m\u001b[1;33m.\u001b[0m\u001b[0mno_grad\u001b[0m\u001b[1;33m(\u001b[0m\u001b[1;33m)\u001b[0m\u001b[1;33m\n",
      "\u001b[0m    \u001b[1;32mdef\u001b[0m \u001b[0mpredict\u001b[0m\u001b[1;33m(\u001b[0m\u001b[0mself\u001b[0m\u001b[1;33m,\u001b[0m \u001b[0mimage\u001b[0m\u001b[1;33m:\u001b[0m \u001b[0mUnion\u001b[0m\u001b[1;33m[\u001b[0m\u001b[0mstr\u001b[0m\u001b[1;33m,\u001b[0m \u001b[0mPath\u001b[0m\u001b[1;33m,\u001b[0m \u001b[0mImage\u001b[0m\u001b[1;33m.\u001b[0m\u001b[0mImage\u001b[0m\u001b[1;33m]\u001b[0m\u001b[1;33m)\u001b[0m \u001b[1;33m->\u001b[0m \u001b[0mstr\u001b[0m\u001b[1;33m:\u001b[0m\u001b[1;33m\n",
      "\u001b[0m        \u001b[1;34m\"\"\"Predict/infer text in input image (which can be a file path or url).\"\"\"\u001b[0m\u001b[1;33m\n",
      "\u001b[0m        \u001b[0mimage_pil\u001b[0m \u001b[1;33m=\u001b[0m \u001b[0mimage\u001b[0m\u001b[1;33m\n",
      "\u001b[0m        \u001b[1;32mif\u001b[0m \u001b[1;32mnot\u001b[0m \u001b[0misinstance\u001b[0m\u001b[1;33m(\u001b[0m\u001b[0mimage\u001b[0m\u001b[1;33m,\u001b[0m \u001b[0mImage\u001b[0m\u001b[1;33m.\u001b[0m\u001b[0mImage\u001b[0m\u001b[1;33m)\u001b[0m\u001b[1;33m:\u001b[0m\u001b[1;33m\n",
      "\u001b[0m            \u001b[0mimage_pil\u001b[0m \u001b[1;33m=\u001b[0m \u001b[0mutil\u001b[0m\u001b[1;33m.\u001b[0m\u001b[0mread_image_pil\u001b[0m\u001b[1;33m(\u001b[0m\u001b[0mimage\u001b[0m\u001b[1;33m,\u001b[0m \u001b[0mgrayscale\u001b[0m\u001b[1;33m=\u001b[0m\u001b[1;32mTrue\u001b[0m\u001b[1;33m)\u001b[0m\u001b[1;33m\n",
      "\u001b[0m\u001b[1;33m\n",
      "\u001b[0m        \u001b[0mimage_tensor\u001b[0m \u001b[1;33m=\u001b[0m \u001b[0mself\u001b[0m\u001b[1;33m.\u001b[0m\u001b[0mstem\u001b[0m\u001b[1;33m(\u001b[0m\u001b[0mimage_pil\u001b[0m\u001b[1;33m)\u001b[0m\u001b[1;33m.\u001b[0m\u001b[0munsqueeze\u001b[0m\u001b[1;33m(\u001b[0m\u001b[0maxis\u001b[0m\u001b[1;33m=\u001b[0m\u001b[1;36m0\u001b[0m\u001b[1;33m)\u001b[0m\u001b[1;33m\n",
      "\u001b[0m        \u001b[0my_pred\u001b[0m \u001b[1;33m=\u001b[0m \u001b[0mself\u001b[0m\u001b[1;33m.\u001b[0m\u001b[0mmodel\u001b[0m\u001b[1;33m(\u001b[0m\u001b[0mimage_tensor\u001b[0m\u001b[1;33m)\u001b[0m\u001b[1;33m[\u001b[0m\u001b[1;36m0\u001b[0m\u001b[1;33m]\u001b[0m\u001b[1;33m\n",
      "\u001b[0m        \u001b[0mpred_str\u001b[0m \u001b[1;33m=\u001b[0m \u001b[0mconvert_y_label_to_string\u001b[0m\u001b[1;33m(\u001b[0m\u001b[0my\u001b[0m\u001b[1;33m=\u001b[0m\u001b[0my_pred\u001b[0m\u001b[1;33m,\u001b[0m \u001b[0mmapping\u001b[0m\u001b[1;33m=\u001b[0m\u001b[0mself\u001b[0m\u001b[1;33m.\u001b[0m\u001b[0mmapping\u001b[0m\u001b[1;33m,\u001b[0m \u001b[0mignore_tokens\u001b[0m\u001b[1;33m=\u001b[0m\u001b[0mself\u001b[0m\u001b[1;33m.\u001b[0m\u001b[0mignore_tokens\u001b[0m\u001b[1;33m)\u001b[0m\u001b[1;33m\n",
      "\u001b[0m\u001b[1;33m\n",
      "\u001b[0m        \u001b[1;32mreturn\u001b[0m \u001b[0mpred_str\u001b[0m\u001b[1;33m\u001b[0m\u001b[1;33m\u001b[0m\u001b[0m\n",
      "\u001b[1;31mFile:\u001b[0m           d:\\rl_finance\\mlops\\fslab\\lab07\\text_recognizer\\paragraph_text_recognizer.py\n",
      "\u001b[1;31mType:\u001b[0m           type\n",
      "\u001b[1;31mSubclasses:\u001b[0m     "
     ]
    }
   ],
   "source": [
    "from text_recognizer.paragraph_text_recognizer import ParagraphTextRecognizer\n",
    "\n",
    "\n",
    "ParagraphTextRecognizer??\n",
    "\n",
    "ptr = ParagraphTextRecognizer()"
   ]
  },
  {
   "cell_type": "markdown",
   "metadata": {
    "id": "uwVo6BoeGmTW"
   },
   "source": [
    "And from there,\n",
    "we can start running on images\n",
    "and inferring the text that they contain:"
   ]
  },
  {
   "cell_type": "code",
   "execution_count": 6,
   "metadata": {
    "id": "CMZlfIoeG3hy"
   },
   "outputs": [
    {
     "name": "stdout",
     "output_type": "stream",
     "text": [
      "And, since this is election year in West\n",
      "Germany, Dr. Adenauer is in a tough\n",
      "spot. Joyce Egginton cables: President\n",
      "Kennedy at his Washington Press con-\n",
      "ference admitted he did not know\n",
      "whether America was lagging behind\n",
      "Russia in missile power. He said he\n",
      "was waiting for his senior military\n",
      "aides to come up with the answer on\n",
      "February 20.\n"
     ]
    },
    {
     "data": {
      "image/png": "[encoded data removed]",
      "text/plain": [
       "<IPython.core.display.Image object>"
      ]
     },
     "execution_count": 6,
     "metadata": {},
     "output_type": "execute_result"
    }
   ],
   "source": [
    "from IPython.display import Image\n",
    "\n",
    "example_input = \"text_recognizer/tests/support/paragraphs/a01-077.png\"\n",
    "\n",
    "print(ptr.predict(example_input))\n",
    "Image(example_input)"
   ]
  },
  {
   "cell_type": "markdown",
   "metadata": {
    "id": "I6AHq1TH44Jq"
   },
   "source": [
    "As usual,\n",
    "we write our Python code\n",
    "so that it can be imported as a module\n",
    "and run in a Jupyter notebook,\n",
    "for documentation and experimentation,\n",
    "and we make it executable as a script\n",
    "for easier automation:"
   ]
  },
  {
   "cell_type": "code",
   "execution_count": null,
   "metadata": {
    "id": "igY7sd8eGGI3"
   },
   "outputs": [
    {
     "name": "stdout",
     "output_type": "stream",
     "text": [
      "And, since this is election year in West\n",
      "Germany, Dr. Adenauer is in a tough\n",
      "spot. Joyce Egginton cables: President\n",
      "Kennedy at his Washington Press con-\n",
      "ference admitted he did not know\n",
      "whether America was lagging behind\n",
      "Russia in missile power. He said he\n",
      "was waiting for his senior military\n",
      "aides to come up with the answer on\n",
      "February 20.\n"
     ]
    }
   ],
   "source": [
    "## %run text_recognizer/paragraph_text_recognizer.py --help\n",
    "\n",
    "\n",
    "## Here we use directly the script to produce result\n",
    "%run text_recognizer/paragraph_text_recognizer.py {example_input}"
   ]
  },
  {
   "cell_type": "markdown",
   "metadata": {
    "id": "MvYmSN0rE2BP"
   },
   "source": [
    "Notice that the `filename` here can be a local file, a URL, or even a cloud storage URI.\n",
    "\n",
    "Rather than writing the logic for handling these different cases,\n",
    "we use the\n",
    "[`smart_open` library](https://pypi.org/project/smart-open/)."
   ]
  },
  {
   "cell_type": "markdown",
   "metadata": {
    "id": "3WQ-P16VC94R"
   },
   "source": [
    "## Testing our model development pipeline"
   ]
  },
  {
   "cell_type": "markdown",
   "metadata": {
    "id": "0kVq2iBJDZH5"
   },
   "source": [
    "Creating models is _the_ critical function of our code base,\n",
    "so it's important that we test it,\n",
    "at the very least with \"smoke tests\" that let us know\n",
    "if the code is completely broken.\n",
    "\n",
    "Right now we have tests for data loading and model training,\n",
    "but no tests for end-to-end model development,\n",
    "which combines data loading, model training, and model compilation.\n",
    "\n",
    "So we add a simple model development test\n",
    "that trains a model for a very small number of steps\n",
    "and then runs our staging script.\n",
    "\n",
    "This model development test script returns an error code (`exit 1`) if the process of\n",
    "building a model fails (`\"$FAILURE\" = true`).\n",
    "\n",
    "We use\n",
    "[the `||` operator](https://www.unix.com/shell-programming-and-scripting/42417-what-does-mean-double-pipe.html)\n",
    "to set the `FAILURE` variable to `true` if any of the key commands in model development fail."
   ]
  },
  {
   "cell_type": "code",
   "execution_count": 23,
   "metadata": {
    "id": "XPkwFxklDA5V",
    "scrolled": false
   },
   "outputs": [
    {
     "name": "stderr",
     "output_type": "stream",
     "text": [
      "'cat' is not recognized as an internal or external command,\n",
      "operable program or batch file.\n"
     ]
    }
   ],
   "source": [
    "!cat training/tests/test_model_development.sh"
   ]
  },
  {
   "cell_type": "code",
   "execution_count": 24,
   "metadata": {},
   "outputs": [
    {
     "name": "stdout",
     "output_type": "stream",
     "text": [
      "#!/bin/bash\n",
      "set -uo pipefail\n",
      "set +e\n",
      "\n",
      "FAILURE=false\n",
      "\n",
      "CI=\"${CI:-false}\"\n",
      "if [ \"$CI\" = false ]; then\n",
      "  export WANDB_PROJECT=\"fsdl-testing-2022\"\n",
      "else\n",
      "  export WANDB_PROJECT=\"fsdl-testing-2022-ci\"\n",
      "fi\n",
      "\n",
      "echo \"training smaller version of real model class on real data\"\n",
      "python training/run_experiment.py --data_class=IAMParagraphs --model_class=ResnetTransformer --loss=transformer \\\n",
      "  --tf_dim 4 --tf_fc_dim 2 --tf_layers 2 --tf_nhead 2 --batch_size 2 --lr 0.0001 \\\n",
      "  --limit_train_batches 1 --limit_val_batches 1 --limit_test_batches 1 --num_sanity_val_steps 0 \\\n",
      "  --num_workers 1 --wandb || FAILURE=true\n",
      "\n",
      "TRAIN_RUN=$(find ./training/logs/wandb/latest-run/* | grep -Eo \"run-([[:alnum:]])+\\.wandb\" | sed -e \"s/^run-//\" -e \"s/\\.wandb//\")\n",
      "\n",
      "echo \"staging trained model from run $TRAIN_RUN\"\n",
      "python training/stage_model.py --entity DEFAULT --run \"$TRAIN_RUN\" --staged_model_name test-dummy --ckpt_alias latest --to_project \"$WANDB_PROJECT\" --from_project \"$WANDB_PROJECT\" || FAILURE=true\n",
      "\n",
      "echo \"fetching staged model\"\n",
      "python training/stage_model.py --entity DEFAULT --fetch --from_project $WANDB_PROJECT --staged_model_name test-dummy || FAILURE=true\n",
      "STAGE_RUN=$(find ./training/logs/wandb/latest-run/* | grep -Eo \"run-([[:alnum:]])+\\.wandb\" | sed -e \"s/^run-//\" -e \"s/\\.wandb//\")\n",
      "\n",
      "if [ \"$FAILURE\" = true ]; then\n",
      "  echo \"Model development test failed\"\n",
      "  echo \"cleaning up local files\"\n",
      "  rm -rf text_recognizer/artifacts/test-dummy\n",
      "  echo \"leaving remote files in place\"\n",
      "  exit 1\n",
      "fi\n",
      "echo \"cleaning up local and remote files\"\n",
      "rm -rf text_recognizer/artifacts/test-dummy\n",
      "python training/cleanup_artifacts.py --entity DEFAULT --project \"$WANDB_PROJECT\" \\\n",
      "  --run_ids \"$TRAIN_RUN\" \"$STAGE_RUN\" --all -v\n",
      "# note: if $TRAIN_RUN and $STAGE_RUN are not set, this will fail.\n",
      "#  that's good because it avoids all artifacts from the project being deleted due to the --all.\n",
      "echo \"Model development test passed\"\n",
      "exit 0\n",
      "\n"
     ]
    }
   ],
   "source": [
    "with open(\"training/tests/test_model_development.sh\", \"r\") as f:\n",
    "    print(f.read())"
   ]
  },
  {
   "cell_type": "markdown",
   "metadata": {
    "id": "pQ21iRDqFvxj"
   },
   "source": [
    "As a next step to improve the coverage of this test,\n",
    "we might compare the model's outputs\n",
    "on the same inputs before and after compilation."
   ]
  },
  {
   "cell_type": "markdown",
   "metadata": {
    "id": "hyXZhgqEvfe9"
   },
   "source": [
    "### Cleaning up artifacts"
   ]
  },
  {
   "cell_type": "markdown",
   "metadata": {
    "id": "l22DqhC4GIJT"
   },
   "source": [
    "The final few lines of the testing script mention\n",
    "\"`selecting for deletion`\" some artifacts."
   ]
  },
  {
   "cell_type": "markdown",
   "metadata": {
    "id": "EbIW5okFGQv7"
   },
   "source": [
    "As we incorporate more of our code into testing\n",
    "and develop more models,\n",
    "the amount of information we are storing on W&B increases.\n",
    "\n",
    "We're already uploading model checkpoints, several gigabytes per model training run,\n",
    "and now we're also looking at uploading several hundred megabytes\n",
    "of model data per execution of our test."
   ]
  },
  {
   "cell_type": "markdown",
   "metadata": {
    "id": "T7aBCfpuJVJV"
   },
   "source": [
    "Artifact storage is free up to 100GB,\n",
    "but storing more requires a paid account.\n",
    "\n",
    "That means it literally pays to clean up after ourselves.\n",
    "\n",
    "We use a very simple script to select certain artifacts for deletion.\n",
    " \n",
    "> ⚠️ **Don't use this untested demonstration script in important environments!** ⚠️\n",
    "We include options for `-v`erbose output and a `--dryrun` mode,\n",
    "which are both critical for destructive actions that have access\n",
    "to model weights that might cost $1000s to produce.\n",
    "\n",
    "See the `--help` below for more on cleaning up artifacts."
   ]
  },
  {
   "cell_type": "code",
   "execution_count": 2,
   "metadata": {
    "id": "8hSqzRplITVB"
   },
   "outputs": [
    {
     "name": "stdout",
     "output_type": "stream",
     "text": [
      "usage: cleanup_artifacts.py [-h] [--entity ENTITY] [--project PROJECT]\n",
      "                            [--run_ids [RUN_IDS ...]]\n",
      "                            [--run_name_res [RUN_NAME_REGEX ...]]\n",
      "                            [--all | --no-alias | --aliases [ALIASES ...]]\n",
      "                            [-v] [--dryrun]\n",
      "\n",
      "Removes artifacts from projects and runs. Artifacts are binary files that we\n",
      "want to track and version but don't want to include in git, generally because\n",
      "they are too large, because they don't have meaningful diffs, or because they\n",
      "change more quickly than code. During development, we often generate artifacts\n",
      "that we don't really need, e.g. model weights for an overfitting test run.\n",
      "Space on artifact storage is generally very large, but it is limited, so we\n",
      "should occasionally delete unneeded artifacts to reclaim some of that space.\n",
      "For usage help, run python training/cleanup_artifacts.py --help\n",
      "\n",
      "options:\n",
      "  -h, --help            show this help message and exit\n",
      "  --entity ENTITY       The entity from which to remove artifacts. Provide the\n",
      "                        value DEFAULT to use the default WANDB_ENTITY, which\n",
      "                        is currently xiangyexu-university-of-waterloo.\n",
      "  --project PROJECT     The project from which to remove artifacts. Default is\n",
      "                        fsdl-text-recognizer-2022-training\n",
      "  --run_ids [RUN_IDS ...]\n",
      "                        One or more run IDs from which to remove artifacts.\n",
      "                        Default is None.\n",
      "  --run_name_res [RUN_NAME_REGEX ...]\n",
      "                        One or more regular expressions to use to select runs\n",
      "                        (by display name) from which to remove artifacts. See\n",
      "                        wandb.Api.runs documentation for details on the\n",
      "                        syntax. Beware that this is a footgun and consider\n",
      "                        using interactively with --dryrun and -v. Default is\n",
      "                        None.\n",
      "  --all                 Delete all artifacts from selected runs.\n",
      "  --no-alias            Delete all artifacts without an alias from selected\n",
      "                        runs.\n",
      "  --aliases [ALIASES ...]\n",
      "                        Delete artifacts that have any of the aliases from the\n",
      "                        provided list from selected runs.\n",
      "  -v                    Display information about targeted entities, projects,\n",
      "                        runs, and artifacts.\n",
      "  --dryrun              Select artifacts without deleting them and display\n",
      "                        which artifacts were selected.\n"
     ]
    }
   ],
   "source": [
    "%run training/cleanup_artifacts.py --help"
   ]
  },
  {
   "cell_type": "markdown",
   "metadata": {
    "id": "BfB38ywTJDMT"
   },
   "source": [
    "## Tuning inference performance on CPU and GPU"
   ]
  },
  {
   "cell_type": "markdown",
   "metadata": {
    "id": "zau0MRr1FPw-"
   },
   "source": [
    "Apart from compilation to TorchScript,\n",
    "the biggest difference for running the model in production\n",
    "is that now all of our operations occur on the CPU.\n",
    "\n",
    "This is a surprising feature of DNN deployment\n",
    "that's worth thinking about in detail.\n",
    "\n",
    "Why isn't it a given that deep network inference\n",
    "runs on GPUs, when that's so critical for deep network training?\n",
    "\n",
    "First,\n",
    "not many web applications use GPUs,\n",
    "so there aren't nearly as many good tools and techniques\n",
    "for deplyoing GPU-backed services.\n",
    "\n",
    "But there's another, deeper reason:\n",
    "GPUs are not as easy to run efficiently\n",
    "during inference as they are in training.\n",
    "\n",
    "In training,\n",
    "we use static or synthetic datasets\n",
    "and our training code is in charge\n",
    "of the query patterns.\n",
    "\n",
    "In particular,\n",
    "we can request exactly as many inputs\n",
    "as we want to produce a batch\n",
    "that makes optimal use\n",
    "of our expensive GPUs.\n",
    "\n",
    "In production, requests arrive independently,\n",
    "according to the whims of our users.\n",
    "\n",
    "This makes batching challenging,\n",
    "and by far the simplest service architecture\n",
    "just runs on each request as it arrives.\n",
    "\n",
    "But that tanks GPU utilization.\n",
    "\n",
    "GPUs are highly parallel computers,\n",
    "and batch is the easiest dimension to parallelize on --\n",
    "for example, we load the model weights into memory once,\n",
    "use them, and then release the memory.\n",
    "\n",
    "The cell below\n",
    "compares two traces\n",
    "for a GPU-accelerated\n",
    "Text Recognizer model running\n",
    "on a single input and on a batch.\n",
    "\n",
    "For a simple summary,\n",
    "you can compare the two profiles in TensorBoard\n",
    "([batch size 1 here](https://wandb.ai/cfrye59/fsdl-text-recognizer-2022-labs-lab05_training/runs/1vj48h6j/tensorboard?workspace=user-cfrye59),\n",
    "[batch size 16 here](https://wandb.ai/cfrye59/fsdl-text-recognizer-2022-training/runs/67j1qxws/tensorboard?workspace=user-cfrye59)).\n",
    "\n",
    "GPU utilization,\n",
    "our baseline metric for model performance,\n",
    "is under 50% with batch size 1,\n",
    "as compared to >90% with batch size 16,\n",
    "which fills up GPU RAM.\n",
    "\n",
    "You can also look through the traces for more details:"
   ]
  },
  {
   "cell_type": "code",
   "execution_count": null,
   "metadata": {
    "id": "B_NZPLWa-ZVP"
   },
   "outputs": [],
   "source": [
    "trace_comparison_url = \"https://wandb.ai/cfrye59/fsdl-text-recognizer-2022-labs-lab05_training/reports/Trace-Comparison-Batch-Size-16-vs-1--VmlldzoyNTg2MTU4\"\n",
    "\n",
    "print(trace_comparison_url)\n",
    "IFrame(src=trace_comparison_url, width=\"100%\", height=frame_height)"
   ]
  },
  {
   "cell_type": "markdown",
   "metadata": {
    "id": "_6_U1OyU-Vsi"
   },
   "source": [
    "But performance during inference is not as simple \n",
    "as just \"maximize GPU utilization\".\n",
    "\n",
    "In particular, throughput for the GPU with batch size 16\n",
    "is over 2x better,\n",
    "one example per 8 ms vs\n",
    "one example per 40 ms,\n",
    "but latency is much worse.\n",
    "\n",
    "It takes 140ms to complete the batch of size 16.\n",
    "In the intervening time no examples are completed,\n",
    "and all 16 users are waiting on a response.\n",
    "\n",
    "For comparison,\n",
    "running one example at a time\n",
    "would get the first user's result\n",
    "in just 40 ms,\n",
    "but the total processing time for all 16 examples would be\n",
    "640 ms.\n",
    "\n",
    "For user experience, latency is critical,\n",
    "but for making the most efficient use of hardware,\n",
    "throughput is generally more important.\n",
    "\n",
    "During training, we care much less about latency\n",
    "and much more about computing gradients as fast as possible,\n",
    "so we aim for larger batch sizes.\n",
    "\n",
    "Because of the need for efficient use of hardware,\n",
    "running on single inputs isn't always feasible.\n",
    "\n",
    "The usual solution is to run a queue,\n",
    "which collects up enough requests for a batch.\n",
    "\n",
    "One of the easiest ways to do this as of writing in September 2022 is to use\n",
    "[`cog` by Replicate](https://github.com/replicate/cog),\n",
    "which both solves difficult issues with containerizing\n",
    "models with GPU acceleration \n",
    "and includes, as a beta feature, a built-in Redis queue\n",
    "for batching requests and responses.\n",
    "\n",
    "But note that we can't just run a queue that waits for,\n",
    "say, 16 user requests\n",
    "to build up, then runs them all.\n",
    "If 15 requests come in at once,\n",
    "but then no requests come for an hour,\n",
    "all 15 users will be waiting for an hour\n",
    "for their responses --\n",
    "much worse than just waiting a few hundred extra milliseconds!\n",
    "\n",
    "We need to make sure the queue flushes after a certain amount of time,\n",
    "regardless of how many requests it has received,\n",
    "complicating our implementation.\n",
    "\n",
    "Running single inputs on GPUs\n",
    "and running a naive queue\n",
    "are two different ways it's easy to accidentally tank latency\n",
    "while pursuing efficiency,\n",
    "at least for some fraction of cases.\n",
    "\n",
    "So we stick with CPU inference."
   ]
  },
  {
   "cell_type": "markdown",
   "metadata": {
    "id": "te-CYidTslPo"
   },
   "source": [
    "# Building a simple model UI"
   ]
  },
  {
   "cell_type": "markdown",
   "metadata": {
    "id": "4kGXwQvjJq32"
   },
   "source": [
    "With compilation,\n",
    "we've moved from a model that can only run\n",
    "in a very special environment\n",
    "and with lots of support code\n",
    "into something lightweight\n",
    "that runs with a simple CLI.\n",
    "\n",
    "If we want users to send data to our model\n",
    "and get useful predictions out,\n",
    "we need to create a UI.\n",
    "\n",
    "But a CLI is not a UI --\n",
    "it's at best the foundation out of which a UI is built.\n",
    "\n",
    "This is not just a concern once the model is finished:\n",
    "a UI is an incredible tool for model debugging.\n",
    "\n",
    "It's hard to overstate the difference between\n",
    "a static, CLI or code-writing workflow\n",
    "for sending information to a model\n",
    "and an interactive interface.\n",
    "\n",
    "When your model is easily accessible on a mobile phone,\n",
    "when you can copy-paste text from elsewhere on your machine or the internet,\n",
    "or when you can upload arbitrary files,\n",
    "the whole range of possible inputs becomes clear\n",
    "in a way that's very hard to replicate with fixed data sets."
   ]
  },
  {
   "cell_type": "markdown",
   "metadata": {
    "id": "S163btePLB1K"
   },
   "source": [
    "Unfortunately, creating a GUI from scratch is not easy,\n",
    "especially in Python.\n",
    "\n",
    "The best tool for GUIs is the browser,\n",
    "but the lingua franca of the browser\n",
    "is JavaScript\n",
    "([for now](https://webassembly.org/)).\n",
    "\n",
    "As full stack deep learning engineers,\n",
    "we're already writing Python with C/C++ acceleration,\n",
    "we're gluing scripts together with Bash,\n",
    "and we need to know enough SQL to talk to databases.\n",
    "\n",
    "Do we now need to learn front-end web development too?"
   ]
  },
  {
   "cell_type": "markdown",
   "metadata": {
    "id": "oSeBo0MzL0H9"
   },
   "source": [
    "In the long term, it's a good investment,\n",
    "and we recommend\n",
    "[The Odin Project](https://www.theodinproject.com/),\n",
    "a free online course and community for learning web development.\n",
    "\n",
    "Their\n",
    "[Foundations course](https://www.theodinproject.com/paths/foundations/courses/foundations#html-foundations),\n",
    "starting from HTML foundations and proceeding\n",
    "through basic CSS\n",
    "and JavaScript,\n",
    "is a great way to dip your toes in\n",
    "and learn enough about building websites and UIs\n",
    "in the browser to be dangerous."
   ]
  },
  {
   "cell_type": "markdown",
   "metadata": {
    "id": "q-7pJcsCL_84"
   },
   "source": [
    "In the short term,\n",
    "we write our frontends in Python libraries\n",
    "that effectively write the frontend JavaScript/CSS/HTML\n",
    "for us.\n",
    "\n",
    "For the past few years,\n",
    "[Streamlit](https://streamlit.io/)\n",
    "has been a popular choice for the busy Python data scientist.\n",
    "\n",
    "It remains a solid choice,\n",
    "and tooling for building complex apps with Streamlit is more mature."
   ]
  },
  {
   "cell_type": "markdown",
   "metadata": {
    "id": "xey5gzr5tV51"
   },
   "source": [
    "We use the\n",
    "[`gradio` library](https://gradio.app/),\n",
    "which includes a simple API for wrapping\n",
    "a single Python function into a frontend\n",
    "in addition to a less mature, lower-level API\n",
    "for building apps more flexibly.\n",
    "\n"
   ]
  },
  {
   "cell_type": "markdown",
   "metadata": {
    "id": "2XvUr7irMHQ6"
   },
   "source": [
    "This iteration of the FSDL codebase\n",
    "includes a new module,\n",
    "`app_gradio`,\n",
    "that makes a simple UI for the Text Recognizer\n",
    "using `gradio`.\n",
    "\n",
    "The core component is a script,\n",
    "`app_gradio/app.py`,\n",
    "that can be used to spin up our model and UI\n",
    "from the command line:"
   ]
  },
  {
   "cell_type": "code",
   "execution_count": 4,
   "metadata": {
    "id": "w2Ra8ot292XX"
   },
   "outputs": [
    {
     "name": "stdout",
     "output_type": "stream",
     "text": [
      "usage: app.py [-h] [--model_url MODEL_URL] [--port PORT]\n",
      "\n",
      "Provide an image of handwritten text and get back out a string!\n",
      "\n",
      "options:\n",
      "  -h, --help            show this help message and exit\n",
      "  --model_url MODEL_URL\n",
      "                        Identifies a URL to which to send image data. Data is\n",
      "                        base64-encoded, converted to a utf-8 string, and then\n",
      "                        set via a POST request as JSON with the key 'image'.\n",
      "                        Default is None, which instead sends the data to a\n",
      "                        model running locally.\n",
      "  --port PORT           Port on which to expose this server. Default is 11700.\n"
     ]
    }
   ],
   "source": [
    "%run app_gradio/app.py --help\n"
   ]
  },
  {
   "cell_type": "markdown",
   "metadata": {
    "id": "J9bP3zFo9_YY"
   },
   "source": [
    "But one very nice feature of `gradio`\n",
    "is that it is designed to run as easily\n",
    "from the notebook as from the command line.\n",
    "\n",
    "Let's import the contents of `app.py`\n",
    "and take a look,\n",
    "then launch our UI."
   ]
  },
  {
   "cell_type": "code",
   "execution_count": 2,
   "metadata": {},
   "outputs": [],
   "source": [
    "from text_recognizer.paragraph_text_recognizer import ParagraphTextRecognizer\n",
    "\n",
    "ptr = ParagraphTextRecognizer()"
   ]
  },
  {
   "cell_type": "code",
   "execution_count": 3,
   "metadata": {
    "id": "vryi5r6gDj6D"
   },
   "outputs": [
    {
     "name": "stderr",
     "output_type": "stream",
     "text": [
      "c:\\Users\\xiang\\anaconda3\\lib\\site-packages\\pandas\\core\\arrays\\masked.py:60: UserWarning: Pandas requires version '1.3.6' or newer of 'bottleneck' (version '1.3.5' currently installed).\n",
      "  from pandas.core import (\n",
      "INFO:httpx:HTTP Request: GET https://api.gradio.app/pkg-version \"HTTP/1.1 200 OK\"\n"
     ]
    },
    {
     "ename": "TypeError",
     "evalue": "BlockContext.__init__() got an unexpected keyword argument 'enable_queue'",
     "output_type": "error",
     "traceback": [
      "\u001b[1;31m---------------------------------------------------------------------------\u001b[0m",
      "\u001b[1;31mTypeError\u001b[0m                                 Traceback (most recent call last)",
      "Cell \u001b[1;32mIn[3], line 2\u001b[0m\n\u001b[0;32m      1\u001b[0m \u001b[38;5;28;01mfrom\u001b[39;00m\u001b[38;5;250m \u001b[39m\u001b[38;5;21;01mapp_gradio\u001b[39;00m\u001b[38;5;250m \u001b[39m\u001b[38;5;28;01mimport\u001b[39;00m app\n\u001b[1;32m----> 2\u001b[0m frontend \u001b[38;5;241m=\u001b[39m \u001b[43mapp\u001b[49m\u001b[38;5;241;43m.\u001b[39;49m\u001b[43mmake_frontend\u001b[49m\u001b[43m(\u001b[49m\u001b[43mptr\u001b[49m\u001b[38;5;241;43m.\u001b[39;49m\u001b[43mpredict\u001b[49m\u001b[43m)\u001b[49m\n",
      "File \u001b[1;32mD:\\RL_Finance\\MLops\\fslab\\lab07\\app_gradio\\app.py:56\u001b[0m, in \u001b[0;36mmake_frontend\u001b[1;34m(fn)\u001b[0m\n\u001b[0;32m     53\u001b[0m readme \u001b[38;5;241m=\u001b[39m _load_readme(with_logging\u001b[38;5;241m=\u001b[39mallow_flagging \u001b[38;5;241m==\u001b[39m \u001b[38;5;124m\"\u001b[39m\u001b[38;5;124mmanual\u001b[39m\u001b[38;5;124m\"\u001b[39m)\n\u001b[0;32m     55\u001b[0m \u001b[38;5;66;03m# build a basic browser interface to a Python function\u001b[39;00m\n\u001b[1;32m---> 56\u001b[0m frontend \u001b[38;5;241m=\u001b[39m \u001b[43mgr\u001b[49m\u001b[38;5;241;43m.\u001b[39;49m\u001b[43mInterface\u001b[49m\u001b[43m(\u001b[49m\n\u001b[0;32m     57\u001b[0m \u001b[43m    \u001b[49m\u001b[43mfn\u001b[49m\u001b[38;5;241;43m=\u001b[39;49m\u001b[43mfn\u001b[49m\u001b[43m,\u001b[49m\u001b[43m  \u001b[49m\u001b[38;5;66;43;03m# which Python function are we interacting with?\u001b[39;49;00m\n\u001b[0;32m     58\u001b[0m \u001b[43m    \u001b[49m\u001b[43moutputs\u001b[49m\u001b[38;5;241;43m=\u001b[39;49m\u001b[43mgr\u001b[49m\u001b[38;5;241;43m.\u001b[39;49m\u001b[43mcomponents\u001b[49m\u001b[38;5;241;43m.\u001b[39;49m\u001b[43mTextbox\u001b[49m\u001b[43m(\u001b[49m\u001b[43m)\u001b[49m\u001b[43m,\u001b[49m\u001b[43m  \u001b[49m\u001b[38;5;66;43;03m# what output widgets does it need? the default text widget\u001b[39;49;00m\n\u001b[0;32m     59\u001b[0m \u001b[43m    \u001b[49m\u001b[38;5;66;43;03m# what input widgets does it need? we configure an image widget\u001b[39;49;00m\n\u001b[0;32m     60\u001b[0m \u001b[43m    \u001b[49m\u001b[43minputs\u001b[49m\u001b[38;5;241;43m=\u001b[39;49m\u001b[43mgr\u001b[49m\u001b[38;5;241;43m.\u001b[39;49m\u001b[43mcomponents\u001b[49m\u001b[38;5;241;43m.\u001b[39;49m\u001b[43mImage\u001b[49m\u001b[43m(\u001b[49m\u001b[38;5;28;43mtype\u001b[39;49m\u001b[38;5;241;43m=\u001b[39;49m\u001b[38;5;124;43m\"\u001b[39;49m\u001b[38;5;124;43mpil\u001b[39;49m\u001b[38;5;124;43m\"\u001b[39;49m\u001b[43m,\u001b[49m\u001b[43m \u001b[49m\u001b[43mlabel\u001b[49m\u001b[38;5;241;43m=\u001b[39;49m\u001b[38;5;124;43m\"\u001b[39;49m\u001b[38;5;124;43mHandwritten Text\u001b[39;49m\u001b[38;5;124;43m\"\u001b[39;49m\u001b[43m)\u001b[49m\u001b[43m,\u001b[49m\n\u001b[0;32m     61\u001b[0m \u001b[43m    \u001b[49m\u001b[43mtitle\u001b[49m\u001b[38;5;241;43m=\u001b[39;49m\u001b[38;5;124;43m\"\u001b[39;49m\u001b[38;5;124;43m📝 Text Recognizer\u001b[39;49m\u001b[38;5;124;43m\"\u001b[39;49m\u001b[43m,\u001b[49m\u001b[43m  \u001b[49m\u001b[38;5;66;43;03m# what should we display at the top of the page?\u001b[39;49;00m\n\u001b[0;32m     62\u001b[0m \u001b[43m    \u001b[49m\u001b[43mdescription\u001b[49m\u001b[38;5;241;43m=\u001b[39;49m\u001b[38;5;18;43m__doc__\u001b[39;49m\u001b[43m,\u001b[49m\u001b[43m  \u001b[49m\u001b[38;5;66;43;03m# what should we display just above the interface?\u001b[39;49;00m\n\u001b[0;32m     63\u001b[0m \u001b[43m    \u001b[49m\u001b[43marticle\u001b[49m\u001b[38;5;241;43m=\u001b[39;49m\u001b[43mreadme\u001b[49m\u001b[43m,\u001b[49m\u001b[43m  \u001b[49m\u001b[38;5;66;43;03m# what long-form content should we display below the interface?\u001b[39;49;00m\n\u001b[0;32m     64\u001b[0m \u001b[43m    \u001b[49m\u001b[43mexamples\u001b[49m\u001b[38;5;241;43m=\u001b[39;49m\u001b[43mexamples\u001b[49m\u001b[43m,\u001b[49m\u001b[43m  \u001b[49m\u001b[38;5;66;43;03m# which potential inputs should we provide?\u001b[39;49;00m\n\u001b[0;32m     65\u001b[0m \u001b[43m    \u001b[49m\u001b[43mcache_examples\u001b[49m\u001b[38;5;241;43m=\u001b[39;49m\u001b[38;5;28;43;01mFalse\u001b[39;49;00m\u001b[43m,\u001b[49m\u001b[43m  \u001b[49m\u001b[38;5;66;43;03m# should we cache those inputs for faster inference? slows down start\u001b[39;49;00m\n\u001b[0;32m     66\u001b[0m \u001b[43m    \u001b[49m\u001b[43mallow_flagging\u001b[49m\u001b[38;5;241;43m=\u001b[39;49m\u001b[43mallow_flagging\u001b[49m\u001b[43m,\u001b[49m\u001b[43m  \u001b[49m\u001b[38;5;66;43;03m# should we show users the option to \"flag\" outputs?\u001b[39;49;00m\n\u001b[0;32m     67\u001b[0m \u001b[43m    \u001b[49m\u001b[43menable_queue\u001b[49m\u001b[38;5;241;43m=\u001b[39;49m\u001b[38;5;28;43;01mTrue\u001b[39;49;00m\u001b[43m,\u001b[49m\n\u001b[0;32m     68\u001b[0m \u001b[43m\u001b[49m\u001b[43m)\u001b[49m\n\u001b[0;32m     70\u001b[0m \u001b[38;5;28;01mreturn\u001b[39;00m frontend\n",
      "File \u001b[1;32mc:\\Users\\xiang\\anaconda3\\lib\\site-packages\\gradio\\interface.py:190\u001b[0m, in \u001b[0;36mInterface.__init__\u001b[1;34m(self, fn, inputs, outputs, examples, cache_examples, cache_mode, examples_per_page, example_labels, live, title, description, article, theme, flagging_mode, flagging_options, flagging_dir, flagging_callback, analytics_enabled, batch, max_batch_size, api_name, _api_mode, allow_duplication, concurrency_limit, css, css_paths, js, head, head_paths, additional_inputs, additional_inputs_accordion, submit_btn, stop_btn, clear_btn, delete_cache, show_progress, fill_width, allow_flagging, time_limit, stream_every, **kwargs)\u001b[0m\n\u001b[0;32m     98\u001b[0m \u001b[38;5;28;01mdef\u001b[39;00m\u001b[38;5;250m \u001b[39m\u001b[38;5;21m__init__\u001b[39m(\n\u001b[0;32m     99\u001b[0m     \u001b[38;5;28mself\u001b[39m,\n\u001b[0;32m    100\u001b[0m     fn: Callable,\n\u001b[1;32m   (...)\u001b[0m\n\u001b[0;32m    147\u001b[0m     \u001b[38;5;241m*\u001b[39m\u001b[38;5;241m*\u001b[39mkwargs,\n\u001b[0;32m    148\u001b[0m ):\n\u001b[0;32m    149\u001b[0m \u001b[38;5;250m    \u001b[39m\u001b[38;5;124;03m\"\"\"\u001b[39;00m\n\u001b[0;32m    150\u001b[0m \u001b[38;5;124;03m    Parameters:\u001b[39;00m\n\u001b[0;32m    151\u001b[0m \u001b[38;5;124;03m        fn: the function to wrap an interface around. Often a machine learning model's prediction function. Each parameter of the function corresponds to one input component, and the function should return a single value or a tuple of values, with each element in the tuple corresponding to one output component.\u001b[39;00m\n\u001b[1;32m   (...)\u001b[0m\n\u001b[0;32m    188\u001b[0m \u001b[38;5;124;03m        stream_every: The latency (in seconds) at which stream chunks are sent to the backend. Defaults to 0.5 seconds. Parameter only used for streaming images or audio if the interface is live and the input components are set to \"streaming=True\".\u001b[39;00m\n\u001b[0;32m    189\u001b[0m \u001b[38;5;124;03m    \"\"\"\u001b[39;00m\n\u001b[1;32m--> 190\u001b[0m     \u001b[38;5;28msuper\u001b[39m()\u001b[38;5;241m.\u001b[39m\u001b[38;5;21m__init__\u001b[39m(\n\u001b[0;32m    191\u001b[0m         analytics_enabled\u001b[38;5;241m=\u001b[39manalytics_enabled,\n\u001b[0;32m    192\u001b[0m         mode\u001b[38;5;241m=\u001b[39m\u001b[38;5;124m\"\u001b[39m\u001b[38;5;124minterface\u001b[39m\u001b[38;5;124m\"\u001b[39m,\n\u001b[0;32m    193\u001b[0m         title\u001b[38;5;241m=\u001b[39mtitle \u001b[38;5;129;01mor\u001b[39;00m \u001b[38;5;124m\"\u001b[39m\u001b[38;5;124mGradio\u001b[39m\u001b[38;5;124m\"\u001b[39m,\n\u001b[0;32m    194\u001b[0m         theme\u001b[38;5;241m=\u001b[39mtheme,\n\u001b[0;32m    195\u001b[0m         css\u001b[38;5;241m=\u001b[39mcss,\n\u001b[0;32m    196\u001b[0m         css_paths\u001b[38;5;241m=\u001b[39mcss_paths,\n\u001b[0;32m    197\u001b[0m         js\u001b[38;5;241m=\u001b[39mjs,\n\u001b[0;32m    198\u001b[0m         head\u001b[38;5;241m=\u001b[39mhead,\n\u001b[0;32m    199\u001b[0m         head_paths\u001b[38;5;241m=\u001b[39mhead_paths,\n\u001b[0;32m    200\u001b[0m         delete_cache\u001b[38;5;241m=\u001b[39mdelete_cache,\n\u001b[0;32m    201\u001b[0m         fill_width\u001b[38;5;241m=\u001b[39mfill_width,\n\u001b[0;32m    202\u001b[0m         \u001b[38;5;241m*\u001b[39m\u001b[38;5;241m*\u001b[39mkwargs,\n\u001b[0;32m    203\u001b[0m     )\n\u001b[0;32m    204\u001b[0m     \u001b[38;5;28mself\u001b[39m\u001b[38;5;241m.\u001b[39mtime_limit \u001b[38;5;241m=\u001b[39m time_limit\n\u001b[0;32m    205\u001b[0m     \u001b[38;5;28mself\u001b[39m\u001b[38;5;241m.\u001b[39mstream_every \u001b[38;5;241m=\u001b[39m stream_every\n",
      "File \u001b[1;32mc:\\Users\\xiang\\anaconda3\\lib\\site-packages\\gradio\\blocks.py:1157\u001b[0m, in \u001b[0;36mBlocks.__init__\u001b[1;34m(self, theme, analytics_enabled, mode, title, css, css_paths, js, head, head_paths, fill_height, fill_width, delete_cache, **kwargs)\u001b[0m\n\u001b[0;32m   1154\u001b[0m \u001b[38;5;28mself\u001b[39m\u001b[38;5;241m.\u001b[39menable_monitoring: \u001b[38;5;28mbool\u001b[39m \u001b[38;5;241m|\u001b[39m \u001b[38;5;28;01mNone\u001b[39;00m \u001b[38;5;241m=\u001b[39m \u001b[38;5;28;01mNone\u001b[39;00m\n\u001b[0;32m   1156\u001b[0m \u001b[38;5;28mself\u001b[39m\u001b[38;5;241m.\u001b[39mdefault_config \u001b[38;5;241m=\u001b[39m BlocksConfig(\u001b[38;5;28mself\u001b[39m)\n\u001b[1;32m-> 1157\u001b[0m \u001b[38;5;28msuper\u001b[39m()\u001b[38;5;241m.\u001b[39m\u001b[38;5;21m__init__\u001b[39m(render\u001b[38;5;241m=\u001b[39m\u001b[38;5;28;01mFalse\u001b[39;00m, \u001b[38;5;241m*\u001b[39m\u001b[38;5;241m*\u001b[39mkwargs)\n\u001b[0;32m   1159\u001b[0m \u001b[38;5;28mself\u001b[39m\u001b[38;5;241m.\u001b[39mmode \u001b[38;5;241m=\u001b[39m mode\n\u001b[0;32m   1160\u001b[0m \u001b[38;5;28mself\u001b[39m\u001b[38;5;241m.\u001b[39mis_running \u001b[38;5;241m=\u001b[39m \u001b[38;5;28;01mFalse\u001b[39;00m\n",
      "\u001b[1;31mTypeError\u001b[0m: BlockContext.__init__() got an unexpected keyword argument 'enable_queue'"
     ]
    }
   ],
   "source": [
    "from app_gradio import app\n",
    "frontend = app.make_frontend(ptr.predict)"
   ]
  },
  {
   "cell_type": "markdown",
   "metadata": {},
   "source": [
    "We use `gradio`'s high-level API, `gr.Interface`,\n",
    "to build a UI by wrapping our `ptr.predict` function,\n",
    "defining its inputs\n",
    "(an `Image`)\n",
    "and outputs\n",
    "(a `TextBox`),\n",
    "and specifying some formatting\n",
    "and styling choices."
   ]
  },
  {
   "cell_type": "markdown",
   "metadata": {
    "id": "m0HxOukBNn13"
   },
   "source": [
    "\n",
    "\n",
    "We can spin up our UI with the `.launch` method,\n",
    "and now we can interact\n",
    "with the model from inside the notebook.\n"
   ]
  },
  {
   "cell_type": "code",
   "execution_count": 4,
   "metadata": {
    "id": "XoVFtGbuDlTL"
   },
   "outputs": [
    {
     "name": "stderr",
     "output_type": "stream",
     "text": [
      "INFO:httpx:HTTP Request: GET http://127.0.0.1:7860/gradio_api/startup-events \"HTTP/1.1 200 OK\"\n",
      "INFO:httpx:HTTP Request: HEAD http://127.0.0.1:7860/ \"HTTP/1.1 200 OK\"\n"
     ]
    },
    {
     "name": "stdout",
     "output_type": "stream",
     "text": [
      "* Running on local URL:  http://127.0.0.1:7860\n"
     ]
    },
    {
     "name": "stderr",
     "output_type": "stream",
     "text": [
      "INFO:httpx:HTTP Request: GET https://api.gradio.app/v3/tunnel-request \"HTTP/1.1 200 OK\"\n"
     ]
    },
    {
     "name": "stdout",
     "output_type": "stream",
     "text": [
      "* Running on public URL: https://d8f48ef7be822a0319.gradio.live\n",
      "\n",
      "This share link expires in 72 hours. For free permanent hosting and GPU upgrades, run `gradio deploy` from the terminal in the working directory to deploy to Hugging Face Spaces (https://huggingface.co/spaces)\n"
     ]
    },
    {
     "name": "stderr",
     "output_type": "stream",
     "text": [
      "INFO:httpx:HTTP Request: HEAD https://d8f48ef7be822a0319.gradio.live \"HTTP/1.1 200 OK\"\n"
     ]
    },
    {
     "data": {
      "text/html": [
       "<div><iframe src=\"https://d8f48ef7be822a0319.gradio.live\" width=\"100%\" height=\"500\" allow=\"autoplay; camera; microphone; clipboard-read; clipboard-write;\" frameborder=\"0\" allowfullscreen></iframe></div>"
      ],
      "text/plain": [
       "<IPython.core.display.HTML object>"
      ]
     },
     "metadata": {},
     "output_type": "display_data"
    },
    {
     "data": {
      "text/plain": []
     },
     "execution_count": 4,
     "metadata": {},
     "output_type": "execute_result"
    }
   ],
   "source": [
    "frontend.launch(share=True, width=\"100%\")"
   ]
  },
  {
   "cell_type": "markdown",
   "metadata": {
    "id": "okcoAW7sM13h"
   },
   "source": [
    "For 72 hours, we can also access the model over the public internet\n",
    "using a URL provided by `gradio`:"
   ]
  },
  {
   "cell_type": "code",
   "execution_count": 5,
   "metadata": {
    "id": "x5pEhMECNIT6"
   },
   "outputs": [
    {
     "name": "stdout",
     "output_type": "stream",
     "text": [
      "https://d8f48ef7be822a0319.gradio.live\n"
     ]
    }
   ],
   "source": [
    "print(frontend.share_url)"
   ]
  },
  {
   "cell_type": "markdown",
   "metadata": {
    "id": "LYfi-lZqNNZd"
   },
   "source": [
    "You can point your browser to that URL\n",
    "to see what the model looks like as a full-fledged web application,\n",
    "instead of a widget inside the notebook."
   ]
  },
  {
   "cell_type": "markdown",
   "metadata": {
    "id": "2L5uZCJlOGi4"
   },
   "source": [
    "In addition to this UI,\n",
    "`gradio` also creates a simple REST API,\n",
    "so we can make requests\n",
    "from outside the browser,\n",
    "programmatically,\n",
    "and get responses."
   ]
  },
  {
   "cell_type": "code",
   "execution_count": 6,
   "metadata": {
    "id": "XOngmAWvQnqg"
   },
   "outputs": [
    {
     "name": "stdout",
     "output_type": "stream",
     "text": [
      "env: API_URL=https://d8f48ef7be822a0319.gradio.live/api\n"
     ]
    }
   ],
   "source": [
    "%env API_URL={frontend.share_url + \"/api\"}"
   ]
  },
  {
   "cell_type": "markdown",
   "metadata": {
    "id": "cj6XSur7Nlzf"
   },
   "source": [
    "We can see the details of the API by clicking\n",
    "\"view api\" at the bottom of the Gradio interface.\n",
    "\n",
    "In particular,\n",
    "we can see that the API expects image data in\n",
    "[base64 format](https://developer.mozilla.org/en-US/docs/Glossary/Base64),\n",
    "which encodes binary data as ASCII text\n",
    "so that it can be sent over interfaces that expect ASCII text."
   ]
  },
  {
   "cell_type": "markdown",
   "metadata": {
    "id": "igeFyT84WqqG"
   },
   "source": [
    "The line below encodes an image with the `base64` utility,\n",
    "packages it into the appropriate JSON format\n",
    "and uses `echo` to pipe it into a `curl` command.\n",
    "\n",
    "`curl` can be used to make requests to web services at URLs\n",
    "-- here `${API_URL}/predict` --\n",
    "of specific types\n",
    "-- here `POST` --\n",
    "that include `-d`ata\n",
    "and `-H`eaders identifying the format of the data.\n",
    "\n",
    "The response is returned as\n",
    "[string-formatted JSON](https://developer.mozilla.org/en-US/docs/Learn/JavaScript/Objects/JSON)."
   ]
  },
  {
   "cell_type": "code",
   "execution_count": 8,
   "metadata": {
    "id": "_nmRbYQCOd3t"
   },
   "outputs": [
    {
     "data": {
      "text/plain": [
       "'{\"detail\":\"Not Found\"}'"
      ]
     },
     "execution_count": 8,
     "metadata": {},
     "output_type": "execute_result"
    }
   ],
   "source": [
    "response, = ! \\\n",
    "  (echo -n '{ \"data\": [\"data:image/png;base64,'$(base64 -w0 -i text_recognizer/tests/support/paragraphs/a01-077.png)'\"] }') \\\n",
    "  | curl -s -X POST \"https://d8f48ef7be822a0319.gradio.live/run/predict\" -H 'Content-Type: application/json' -d @-\n",
    "\n",
    "response"
   ]
  },
  {
   "cell_type": "markdown",
   "metadata": {
    "id": "tLy9z593X4_o"
   },
   "source": [
    "JSON, short for \"JavaScript Object Notation\",\n",
    "is effectively the standard for representing dictionaries\n",
    "when sharing information between applications\n",
    "that may be written in different languages.\n",
    "\n",
    "With the standard library's `json.loads`,\n",
    "we can convert the response into a Python dictionary\n",
    "and then access the response `data` within."
   ]
  },
  {
   "cell_type": "code",
   "execution_count": null,
   "metadata": {
    "id": "GL4L8o4KRQLx"
   },
   "outputs": [],
   "source": [
    "import json\n",
    "\n",
    "\n",
    "print(json.loads(response)[\"data\"][0])"
   ]
  },
  {
   "cell_type": "markdown",
   "metadata": {
    "id": "rhOc0fgrRtuO"
   },
   "source": [
    "Importantly, the `echo | curl` command\n",
    "does not need to be run from the same machine that is running the model --\n",
    "that's another big win for this UI over the CLI script we ran previously.\n",
    "\n",
    "Try running the command from your own machine,\n",
    "if you are running OS X or Linux,\n",
    "and see if you can get a response.\n",
    "\n",
    "Don't forget to define the `API_URL` environment variable on your machine\n",
    "and download the image file,\n",
    "`text_recognizer/tests/support/paragraphs/a01-077.png`,\n",
    "changing the path if needed."
   ]
  },
  {
   "cell_type": "markdown",
   "metadata": {
    "id": "cd1UZiM3ZVWz"
   },
   "source": [
    "Once you're done,\n",
    "turn off the Gradio interface by running the `.close` method."
   ]
  },
  {
   "cell_type": "code",
   "execution_count": 9,
   "metadata": {
    "id": "mVyv6KjxJhEb"
   },
   "outputs": [
    {
     "name": "stdout",
     "output_type": "stream",
     "text": [
      "Closing server running on port: 7860\n"
     ]
    }
   ],
   "source": [
    "frontend.close()"
   ]
  },
  {
   "cell_type": "markdown",
   "metadata": {
    "id": "qnJpCdI7SHiX"
   },
   "source": [
    "## Testing our UI"
   ]
  },
  {
   "cell_type": "markdown",
   "metadata": {},
   "source": [
    "We've added a lot of new functionality here,\n",
    "and some of it is critical to our application.\n",
    "\n",
    "The surface area is too large and\n",
    "the components too complex for testing in depth\n",
    "to  be worth the investment --\n",
    "do we really want to set up a\n",
    "[headless browser](https://www.browserstack.com/guide/what-is-headless-browser-testing)\n",
    "or similar mock test to check whether our README is being loaded properly?\n",
    "\n",
    "So once again, we pick the minimal test that checks whether\n",
    "the core functionality is working:\n",
    "we spin up our frontend and ping the API,\n",
    "making sure we get back a\n",
    "[`200 OK`](https://developer.mozilla.org/en-US/docs/Web/HTTP/Status/200)\n",
    "response, indicating that at least the server thinks everything is fine."
   ]
  },
  {
   "cell_type": "code",
   "execution_count": 15,
   "metadata": {},
   "outputs": [
    {
     "name": "stderr",
     "output_type": "stream",
     "text": [
      "'cat' is not recognized as an internal or external command,\n",
      "operable program or batch file.\n"
     ]
    }
   ],
   "source": [
    "!cat app_gradio/tests/test_app.py"
   ]
  },
  {
   "cell_type": "markdown",
   "metadata": {
    "id": "IwUhy-swZndq"
   },
   "source": [
    "## Start here, finish anywhere"
   ]
  },
  {
   "cell_type": "markdown",
   "metadata": {
    "id": "FTKMGCasMznl"
   },
   "source": [
    "You may be concerned:\n",
    "is `gradio` a children's toy?\n",
    "am I painting myself into a corner\n",
    "by using such a high-level framework and doing web development in Python?\n",
    "shouldn't I be using Ruby On Rails/Angular/React/WhateversNext.js?\n",
    "\n",
    "DALL-E Mini, now\n",
    "[crAIyon](https://www.craiyon.com/),\n",
    "began its life as\n",
    "[a Gradio app](https://huggingface.co/spaces/dalle-mini/dalle-mini)\n",
    "built by FSDL alumnus\n",
    "[Boris Dayma](https://twitter.com/borisdayma).\n",
    "\n",
    "Gradio and similar tools\n",
    "are critical for quickly getting to an MVP\n",
    "and getting useful feedback on your model.\n",
    "\n",
    "Expend your engineering effort on data and training,\n",
    "not frontend interface development,\n",
    "until you're sure you've got something people want to use."
   ]
  },
  {
   "cell_type": "markdown",
   "metadata": {
    "id": "8BpPtj6tsP-Y"
   },
   "source": [
    "# Wrapping a model into a model service"
   ]
  },
  {
   "cell_type": "markdown",
   "metadata": {
    "id": "ButF0a6PSbMi"
   },
   "source": [
    "We've got an interactive interface for our model\n",
    "that we can share with friends, colleagues,\n",
    "potential users, or stakeholders,\n",
    "which is huge.\n",
    "\n",
    "But we have a problem:\n",
    "our model is running in the same place as our frontend.\n",
    "\n",
    "This is simple,\n",
    "but it ties too many things together.\n",
    "\n",
    "First, it ties together execution of the two components.\n",
    "\n",
    "If the model has a heart attack due to misformatted inputs\n",
    "or some mysterious DNN bug,\n",
    "the server goes down.\n",
    "The same applies in reverse --\n",
    "the only API for the model is provided by `gradio`,\n",
    "so a frontend issue means the model is inaccessible.\n",
    "\n",
    "Additionally, it ties together dependencies,\n",
    "since our server and our model are in the same\n",
    "environment.\n",
    "\n",
    "Lastly, it ties together the hardware used to run our\n",
    "server and our model.\n",
    "\n",
    "That's bad because the server and the model scale differently.\n",
    "Running the server at scale has different memory and computational requirements\n",
    "than does running the model at scale."
   ]
  },
  {
   "cell_type": "markdown",
   "metadata": {
    "id": "HNoMc7fRcETy"
   },
   "source": [
    "We could just run another server --\n",
    "even writing it in Gradio if we wanted! --\n",
    "for the model.\n",
    "This is common with GPU inference,\n",
    "especially when doing queueing, cacheing,\n",
    "and other advanced techniques for improving\n",
    "model efficiency and latency.\n",
    "\n",
    "But that's potentially expensive --\n",
    "we're running two machines,\n",
    "which costs twice as much.\n",
    "\n",
    "Furthermore, this setup is harder to scale \"horizontally\".\n",
    "\n",
    "We'll pretty quickly need a solution for auto-scaling\n",
    "our two servers independently,\n",
    "e.g. directly in a container orchestration service, like\n",
    "[Kubernetes](https://kubernetes.io/docs/tasks/run-application/horizontal-pod-autoscale/),\n",
    "or in a managed version of the same, like\n",
    "[Elastic Kubernetes Service](https://aws.amazon.com/eks/),\n",
    "or with an infrastructure automation tool, like\n",
    "[Terraform](https://www.terraform.io/)."
   ]
  },
  {
   "cell_type": "markdown",
   "metadata": {
    "id": "0WI0H6Imcz_h"
   },
   "source": [
    "Luckily, there is an easier way, because our model service-plus-UI\n",
    "combo fits into a common pattern.\n",
    "\n",
    "We have a server that we want to be up all the time,\n",
    "ready to take requests,\n",
    "but we really only need\n",
    "the model service to run when a request hits.\n",
    "\n",
    "And apart from its environment (which includes the weights),\n",
    "the model only needs the request in order to produce a result.\n",
    "\n",
    "It does not need to hold onto any information in between executions --\n",
    "it is _stateless_.\n",
    "\n",
    "This pattern is common enough that all cloud providers\n",
    "offer a solution that takes the pain out of scaling\n",
    "the stateless component:\n",
    "\"serverless cloud functions\",\n",
    "so named because\n",
    "- they are run intermittently, rather than 24/7, like a server.\n",
    "- they are run on cloud infrastructure.\n",
    "- they are, as in\n",
    "[purely functional programming](https://en.wikipedia.org/wiki/Purely_functional_programming)\n",
    "or in mathematics, \"pure\" functions of their inputs,\n",
    "with no concept of state."
   ]
  },
  {
   "cell_type": "markdown",
   "metadata": {
    "id": "eE_FhWxLhhxG"
   },
   "source": [
    "We use AWS's serverless offering,\n",
    "[AWS Lambda](https://aws.amazon.com/lambda/)."
   ]
  },
  {
   "cell_type": "code",
   "execution_count": 5,
   "metadata": {
    "id": "xw3Una-yJ_mP"
   },
   "outputs": [
    {
     "name": "stdout",
     "output_type": "stream",
     "text": [
      "\u001b[1;31mType:\u001b[0m        module\n",
      "\u001b[1;31mString form:\u001b[0m <module 'api_serverless.api' from 'D:\\\\RL_Finance\\\\MLops\\\\fslab\\\\lab07\\\\api_serverless\\\\api.py'>\n",
      "\u001b[1;31mFile:\u001b[0m        d:\\rl_finance\\mlops\\fslab\\lab07\\api_serverless\\api.py\n",
      "\u001b[1;31mSource:\u001b[0m     \n",
      "\u001b[1;34m\"\"\"AWS Lambda function serving text_recognizer predictions.\"\"\"\u001b[0m\u001b[1;33m\n",
      "\u001b[0m\u001b[1;32mimport\u001b[0m \u001b[0mjson\u001b[0m\u001b[1;33m\n",
      "\u001b[0m\u001b[1;33m\n",
      "\u001b[0m\u001b[1;32mfrom\u001b[0m \u001b[0mPIL\u001b[0m \u001b[1;32mimport\u001b[0m \u001b[0mImageStat\u001b[0m\u001b[1;33m\n",
      "\u001b[0m\u001b[1;33m\n",
      "\u001b[0m\u001b[1;32mfrom\u001b[0m \u001b[0mtext_recognizer\u001b[0m\u001b[1;33m.\u001b[0m\u001b[0mparagraph_text_recognizer\u001b[0m \u001b[1;32mimport\u001b[0m \u001b[0mParagraphTextRecognizer\u001b[0m\u001b[1;33m\n",
      "\u001b[0m\u001b[1;32mimport\u001b[0m \u001b[0mtext_recognizer\u001b[0m\u001b[1;33m.\u001b[0m\u001b[0mutil\u001b[0m \u001b[1;32mas\u001b[0m \u001b[0mutil\u001b[0m\u001b[1;33m\n",
      "\u001b[0m\u001b[1;33m\n",
      "\u001b[0m\u001b[0mmodel\u001b[0m \u001b[1;33m=\u001b[0m \u001b[0mParagraphTextRecognizer\u001b[0m\u001b[1;33m(\u001b[0m\u001b[1;33m)\u001b[0m\u001b[1;33m\n",
      "\u001b[0m\u001b[1;33m\n",
      "\u001b[0m\u001b[1;33m\n",
      "\u001b[0m\u001b[1;32mdef\u001b[0m \u001b[0mhandler\u001b[0m\u001b[1;33m(\u001b[0m\u001b[0mevent\u001b[0m\u001b[1;33m,\u001b[0m \u001b[0m_context\u001b[0m\u001b[1;33m)\u001b[0m\u001b[1;33m:\u001b[0m\u001b[1;33m\n",
      "\u001b[0m    \u001b[1;34m\"\"\"Provide main prediction API.\"\"\"\u001b[0m\u001b[1;33m\n",
      "\u001b[0m    \u001b[0mprint\u001b[0m\u001b[1;33m(\u001b[0m\u001b[1;34m\"INFO loading image\"\u001b[0m\u001b[1;33m)\u001b[0m\u001b[1;33m\n",
      "\u001b[0m    \u001b[0mimage\u001b[0m \u001b[1;33m=\u001b[0m \u001b[0m_load_image\u001b[0m\u001b[1;33m(\u001b[0m\u001b[0mevent\u001b[0m\u001b[1;33m)\u001b[0m\u001b[1;33m\n",
      "\u001b[0m    \u001b[1;32mif\u001b[0m \u001b[0mimage\u001b[0m \u001b[1;32mis\u001b[0m \u001b[1;32mNone\u001b[0m\u001b[1;33m:\u001b[0m\u001b[1;33m\n",
      "\u001b[0m        \u001b[1;32mreturn\u001b[0m \u001b[1;33m{\u001b[0m\u001b[1;34m\"statusCode\"\u001b[0m\u001b[1;33m:\u001b[0m \u001b[1;36m400\u001b[0m\u001b[1;33m,\u001b[0m \u001b[1;34m\"message\"\u001b[0m\u001b[1;33m:\u001b[0m \u001b[1;34m\"neither image_url nor image found in event\"\u001b[0m\u001b[1;33m}\u001b[0m\u001b[1;33m\n",
      "\u001b[0m    \u001b[0mprint\u001b[0m\u001b[1;33m(\u001b[0m\u001b[1;34m\"INFO image loaded\"\u001b[0m\u001b[1;33m)\u001b[0m\u001b[1;33m\n",
      "\u001b[0m    \u001b[0mprint\u001b[0m\u001b[1;33m(\u001b[0m\u001b[1;34m\"INFO starting inference\"\u001b[0m\u001b[1;33m)\u001b[0m\u001b[1;33m\n",
      "\u001b[0m    \u001b[0mpred\u001b[0m \u001b[1;33m=\u001b[0m \u001b[0mmodel\u001b[0m\u001b[1;33m.\u001b[0m\u001b[0mpredict\u001b[0m\u001b[1;33m(\u001b[0m\u001b[0mimage\u001b[0m\u001b[1;33m)\u001b[0m\u001b[1;33m\n",
      "\u001b[0m    \u001b[0mprint\u001b[0m\u001b[1;33m(\u001b[0m\u001b[1;34m\"INFO inference complete\"\u001b[0m\u001b[1;33m)\u001b[0m\u001b[1;33m\n",
      "\u001b[0m    \u001b[0mimage_stat\u001b[0m \u001b[1;33m=\u001b[0m \u001b[0mImageStat\u001b[0m\u001b[1;33m.\u001b[0m\u001b[0mStat\u001b[0m\u001b[1;33m(\u001b[0m\u001b[0mimage\u001b[0m\u001b[1;33m)\u001b[0m\u001b[1;33m\n",
      "\u001b[0m    \u001b[0mprint\u001b[0m\u001b[1;33m(\u001b[0m\u001b[1;34m\"METRIC image_mean_intensity {}\"\u001b[0m\u001b[1;33m.\u001b[0m\u001b[0mformat\u001b[0m\u001b[1;33m(\u001b[0m\u001b[0mimage_stat\u001b[0m\u001b[1;33m.\u001b[0m\u001b[0mmean\u001b[0m\u001b[1;33m[\u001b[0m\u001b[1;36m0\u001b[0m\u001b[1;33m]\u001b[0m\u001b[1;33m)\u001b[0m\u001b[1;33m)\u001b[0m\u001b[1;33m\n",
      "\u001b[0m    \u001b[0mprint\u001b[0m\u001b[1;33m(\u001b[0m\u001b[1;34m\"METRIC image_area {}\"\u001b[0m\u001b[1;33m.\u001b[0m\u001b[0mformat\u001b[0m\u001b[1;33m(\u001b[0m\u001b[0mimage\u001b[0m\u001b[1;33m.\u001b[0m\u001b[0msize\u001b[0m\u001b[1;33m[\u001b[0m\u001b[1;36m0\u001b[0m\u001b[1;33m]\u001b[0m \u001b[1;33m*\u001b[0m \u001b[0mimage\u001b[0m\u001b[1;33m.\u001b[0m\u001b[0msize\u001b[0m\u001b[1;33m[\u001b[0m\u001b[1;36m1\u001b[0m\u001b[1;33m]\u001b[0m\u001b[1;33m)\u001b[0m\u001b[1;33m)\u001b[0m\u001b[1;33m\n",
      "\u001b[0m    \u001b[0mprint\u001b[0m\u001b[1;33m(\u001b[0m\u001b[1;34m\"METRIC pred_length {}\"\u001b[0m\u001b[1;33m.\u001b[0m\u001b[0mformat\u001b[0m\u001b[1;33m(\u001b[0m\u001b[0mlen\u001b[0m\u001b[1;33m(\u001b[0m\u001b[0mpred\u001b[0m\u001b[1;33m)\u001b[0m\u001b[1;33m)\u001b[0m\u001b[1;33m)\u001b[0m\u001b[1;33m\n",
      "\u001b[0m    \u001b[0mprint\u001b[0m\u001b[1;33m(\u001b[0m\u001b[1;34m\"INFO pred {}\"\u001b[0m\u001b[1;33m.\u001b[0m\u001b[0mformat\u001b[0m\u001b[1;33m(\u001b[0m\u001b[0mpred\u001b[0m\u001b[1;33m)\u001b[0m\u001b[1;33m)\u001b[0m\u001b[1;33m\n",
      "\u001b[0m    \u001b[1;32mreturn\u001b[0m \u001b[1;33m{\u001b[0m\u001b[1;34m\"pred\"\u001b[0m\u001b[1;33m:\u001b[0m \u001b[0mstr\u001b[0m\u001b[1;33m(\u001b[0m\u001b[0mpred\u001b[0m\u001b[1;33m)\u001b[0m\u001b[1;33m}\u001b[0m\u001b[1;33m\n",
      "\u001b[0m\u001b[1;33m\n",
      "\u001b[0m\u001b[1;33m\n",
      "\u001b[0m\u001b[1;32mdef\u001b[0m \u001b[0m_load_image\u001b[0m\u001b[1;33m(\u001b[0m\u001b[0mevent\u001b[0m\u001b[1;33m)\u001b[0m\u001b[1;33m:\u001b[0m\u001b[1;33m\n",
      "\u001b[0m    \u001b[0mevent\u001b[0m \u001b[1;33m=\u001b[0m \u001b[0m_from_string\u001b[0m\u001b[1;33m(\u001b[0m\u001b[0mevent\u001b[0m\u001b[1;33m)\u001b[0m\u001b[1;33m\n",
      "\u001b[0m    \u001b[0mevent\u001b[0m \u001b[1;33m=\u001b[0m \u001b[0m_from_string\u001b[0m\u001b[1;33m(\u001b[0m\u001b[0mevent\u001b[0m\u001b[1;33m.\u001b[0m\u001b[0mget\u001b[0m\u001b[1;33m(\u001b[0m\u001b[1;34m\"body\"\u001b[0m\u001b[1;33m,\u001b[0m \u001b[0mevent\u001b[0m\u001b[1;33m)\u001b[0m\u001b[1;33m)\u001b[0m\u001b[1;33m\n",
      "\u001b[0m    \u001b[0mimage_url\u001b[0m \u001b[1;33m=\u001b[0m \u001b[0mevent\u001b[0m\u001b[1;33m.\u001b[0m\u001b[0mget\u001b[0m\u001b[1;33m(\u001b[0m\u001b[1;34m\"image_url\"\u001b[0m\u001b[1;33m)\u001b[0m\u001b[1;33m\n",
      "\u001b[0m    \u001b[1;32mif\u001b[0m \u001b[0mimage_url\u001b[0m \u001b[1;32mis\u001b[0m \u001b[1;32mnot\u001b[0m \u001b[1;32mNone\u001b[0m\u001b[1;33m:\u001b[0m\u001b[1;33m\n",
      "\u001b[0m        \u001b[0mprint\u001b[0m\u001b[1;33m(\u001b[0m\u001b[1;34m\"INFO url {}\"\u001b[0m\u001b[1;33m.\u001b[0m\u001b[0mformat\u001b[0m\u001b[1;33m(\u001b[0m\u001b[0mimage_url\u001b[0m\u001b[1;33m)\u001b[0m\u001b[1;33m)\u001b[0m\u001b[1;33m\n",
      "\u001b[0m        \u001b[1;32mreturn\u001b[0m \u001b[0mutil\u001b[0m\u001b[1;33m.\u001b[0m\u001b[0mread_image_pil\u001b[0m\u001b[1;33m(\u001b[0m\u001b[0mimage_url\u001b[0m\u001b[1;33m,\u001b[0m \u001b[0mgrayscale\u001b[0m\u001b[1;33m=\u001b[0m\u001b[1;32mTrue\u001b[0m\u001b[1;33m)\u001b[0m\u001b[1;33m\n",
      "\u001b[0m    \u001b[1;32melse\u001b[0m\u001b[1;33m:\u001b[0m\u001b[1;33m\n",
      "\u001b[0m        \u001b[0mimage\u001b[0m \u001b[1;33m=\u001b[0m \u001b[0mevent\u001b[0m\u001b[1;33m.\u001b[0m\u001b[0mget\u001b[0m\u001b[1;33m(\u001b[0m\u001b[1;34m\"image\"\u001b[0m\u001b[1;33m)\u001b[0m\u001b[1;33m\n",
      "\u001b[0m        \u001b[1;32mif\u001b[0m \u001b[0mimage\u001b[0m \u001b[1;32mis\u001b[0m \u001b[1;32mnot\u001b[0m \u001b[1;32mNone\u001b[0m\u001b[1;33m:\u001b[0m\u001b[1;33m\n",
      "\u001b[0m            \u001b[0mprint\u001b[0m\u001b[1;33m(\u001b[0m\u001b[1;34m\"INFO reading image from event\"\u001b[0m\u001b[1;33m)\u001b[0m\u001b[1;33m\n",
      "\u001b[0m            \u001b[1;32mreturn\u001b[0m \u001b[0mutil\u001b[0m\u001b[1;33m.\u001b[0m\u001b[0mread_b64_image\u001b[0m\u001b[1;33m(\u001b[0m\u001b[0mimage\u001b[0m\u001b[1;33m,\u001b[0m \u001b[0mgrayscale\u001b[0m\u001b[1;33m=\u001b[0m\u001b[1;32mTrue\u001b[0m\u001b[1;33m)\u001b[0m\u001b[1;33m\n",
      "\u001b[0m        \u001b[1;32melse\u001b[0m\u001b[1;33m:\u001b[0m\u001b[1;33m\n",
      "\u001b[0m            \u001b[1;32mreturn\u001b[0m \u001b[1;32mNone\u001b[0m\u001b[1;33m\n",
      "\u001b[0m\u001b[1;33m\n",
      "\u001b[0m\u001b[1;33m\n",
      "\u001b[0m\u001b[1;32mdef\u001b[0m \u001b[0m_from_string\u001b[0m\u001b[1;33m(\u001b[0m\u001b[0mevent\u001b[0m\u001b[1;33m)\u001b[0m\u001b[1;33m:\u001b[0m\u001b[1;33m\n",
      "\u001b[0m    \u001b[1;32mif\u001b[0m \u001b[0misinstance\u001b[0m\u001b[1;33m(\u001b[0m\u001b[0mevent\u001b[0m\u001b[1;33m,\u001b[0m \u001b[0mstr\u001b[0m\u001b[1;33m)\u001b[0m\u001b[1;33m:\u001b[0m\u001b[1;33m\n",
      "\u001b[0m        \u001b[1;32mreturn\u001b[0m \u001b[0mjson\u001b[0m\u001b[1;33m.\u001b[0m\u001b[0mloads\u001b[0m\u001b[1;33m(\u001b[0m\u001b[0mevent\u001b[0m\u001b[1;33m)\u001b[0m\u001b[1;33m\n",
      "\u001b[0m    \u001b[1;32melse\u001b[0m\u001b[1;33m:\u001b[0m\u001b[1;33m\n",
      "\u001b[0m        \u001b[1;32mreturn\u001b[0m \u001b[0mevent\u001b[0m\u001b[1;33m\u001b[0m\u001b[1;33m\u001b[0m\u001b[0m"
     ]
    }
   ],
   "source": [
    "from api_serverless import api\n",
    "\n",
    "api??"
   ]
  },
  {
   "cell_type": "markdown",
   "metadata": {
    "id": "FGAeXmfFiYOi"
   },
   "source": [
    "Our main function here, `api.handler`, wraps `ParagraphTextRecognizer.predict`.\n",
    "\n",
    "Effectively, `api.handler` maps HTTP requests (`event`s) with AWS's canonical format\n",
    "to a format our `ParagraphTextRecognizer` understands,\n",
    "then converts the text recognizer's output into something\n",
    "that AWS understands.\n",
    "\n",
    "Deploying models as web services is an exercise in taking\n",
    "the Tensor-to-Tensor-mappings we work with in model development\n",
    "and wrapping them so that they run in the\n",
    "JSON-to-JSON-mapping world of web services."
   ]
  },
  {
   "cell_type": "markdown",
   "metadata": {
    "id": "TDMPQKXqr7pS"
   },
   "source": [
    "## Talking to a model service"
   ]
  },
  {
   "cell_type": "markdown",
   "metadata": {
    "id": "V41-UiMct92x"
   },
   "source": [
    "Setting up a serverless function on AWS requires an account\n",
    "(which requires putting down a credit card)\n",
    "and configuration of permissions\n",
    "(which is error-prone).\n",
    "\n",
    "If you want to see how that process works,\n",
    "check out our\n",
    "[\"bonus notebook\" on serverless deployment on AWS Lambda](https://github.com/full-stack-deep-learning/fsdl-text-recognizer-2022/blob/main/notebooks/lab99_serverless_aws.ipynb).\n",
    "Heads up: it uses Docker,\n",
    "which means it's not compatible with Google Colab.\n",
    "\n",
    "So we'll skip that step and,\n",
    "like Julia Child or Martha Stewart, check out\n",
    "[one that was prepared earlier](https://tvtropes.org/pmwiki/pmwiki.php/Main/OneIPreparedEarlier).\n",
    "\n",
    "The cell below sends a request\n",
    "to a serverless cloud function running on the FSDL AWS account.\n",
    "\n",
    "This request is\n",
    "much like the one we sent to the API provided by `gradio`,\n",
    "but we here construct and send it in Python,\n",
    "using the `requests` library,\n",
    "rather than operating from the command line.\n",
    "\n",
    "When playing around with an API,\n",
    "writing requests and parsing responses \"by hand\"\n",
    "in the command line is helpful,\n",
    "but once we're working on real use cases for the API,\n",
    "we'll want to use higher-level libraries\n",
    "with good code quality and nice integrations."
   ]
  },
  {
   "cell_type": "code",
   "execution_count": null,
   "metadata": {
    "id": "76HwEP2Vzz3F"
   },
   "outputs": [
    {
     "name": "stdout",
     "output_type": "stream",
     "text": [
      "403\n",
      "{\"Message\":\"Forbidden\"}\n"
     ]
    },
    {
     "ename": "KeyError",
     "evalue": "'pred'",
     "output_type": "error",
     "traceback": [
      "\u001b[1;31m---------------------------------------------------------------------------\u001b[0m",
      "\u001b[1;31mKeyError\u001b[0m                                  Traceback (most recent call last)",
      "Cell \u001b[1;32mIn[5], line 18\u001b[0m\n\u001b[0;32m     16\u001b[0m \u001b[38;5;28mprint\u001b[39m(response\u001b[38;5;241m.\u001b[39mstatus_code)  \u001b[38;5;66;03m# Check the HTTP status code\u001b[39;00m\n\u001b[0;32m     17\u001b[0m \u001b[38;5;28mprint\u001b[39m(response\u001b[38;5;241m.\u001b[39mtext)  \u001b[38;5;66;03m# Print the full response body\u001b[39;00m\n\u001b[1;32m---> 18\u001b[0m pred \u001b[38;5;241m=\u001b[39m \u001b[43mresponse\u001b[49m\u001b[38;5;241;43m.\u001b[39;49m\u001b[43mjson\u001b[49m\u001b[43m(\u001b[49m\u001b[43m)\u001b[49m\u001b[43m[\u001b[49m\u001b[38;5;124;43m\"\u001b[39;49m\u001b[38;5;124;43mpred\u001b[39;49m\u001b[38;5;124;43m\"\u001b[39;49m\u001b[43m]\u001b[49m  \u001b[38;5;66;03m# the response is also json\u001b[39;00m\n\u001b[0;32m     20\u001b[0m \u001b[38;5;28mprint\u001b[39m(pred)\n\u001b[0;32m     22\u001b[0m Image(url\u001b[38;5;241m=\u001b[39mimage_url, width\u001b[38;5;241m=\u001b[39m\u001b[38;5;241m512\u001b[39m)\n",
      "\u001b[1;31mKeyError\u001b[0m: 'pred'"
     ]
    }
   ],
   "source": [
    "import json\n",
    "\n",
    "from IPython.display import Image\n",
    "import requests  # the preferred library for writing HTTP requests in Python\n",
    "\n",
    "lambda_url = \"https://3akxma777p53w57mmdika3sflu0fvazm.lambda-url.us-west-1.on.aws/\"\n",
    "image_url = \"https://fsdl-public-assets.s3-us-west-2.amazonaws.com/paragraphs/a01-077.png\"\n",
    "\n",
    "headers = {\"Content-Type\": \"application/json\"}\n",
    "payload = json.dumps({\"image_url\": image_url})\n",
    "\n",
    "response = requests.post(  # we POST the image to the URL, expecting a prediction as a response\n",
    "    lambda_url, data=payload, headers=headers)\n",
    "\n",
    "\n",
    "print(response.status_code)  # Check the HTTP status code\n",
    "print(response.text)  # Print the full response body\n",
    "pred = response.json()[\"pred\"]  # the response is also json\n",
    "\n",
    "print(pred)\n",
    "\n",
    "Image(url=image_url, width=512)"
   ]
  },
  {
   "cell_type": "markdown",
   "metadata": {},
   "source": [
    "Before deploying a service like this one,\n",
    "it's important to check how well it handles different traffic volumes and patterns.\n",
    "This process is known as _load-testing_.\n",
    "\n",
    "For a quick tutorial on some basic tooling and a run-through of\n",
    "results from load-testing the FSDL Text Recognizer on AWS Lambda, see\n",
    "[this \"bonus notebook\" on load-testing](https://fsdl.me/loadtesting-colab)."
   ]
  },
  {
   "cell_type": "markdown",
   "metadata": {
    "id": "bZQ2Dt4URN9o"
   },
   "source": [
    "## Local in the front, serverless in the back"
   ]
  },
  {
   "cell_type": "markdown",
   "metadata": {
    "id": "XMXWTHt4Pxpr"
   },
   "source": [
    "The primary \"win\" here\n",
    "is that we don't need to run\n",
    "the frontend UI server\n",
    "and the backend model service in\n",
    "the same place.\n",
    "\n",
    "For example,\n",
    "we can run a Gradio app locally\n",
    "but send the images to the serverless function\n",
    "for prediction.\n",
    "\n",
    "Our `app_gradio` implementation supports this via the `PredictorBackend`."
   ]
  },
  {
   "cell_type": "code",
   "execution_count": null,
   "metadata": {
    "id": "4qZ1K0fwOtYK"
   },
   "outputs": [],
   "source": [
    "serverless_backend = app.PredictorBackend(url=lambda_url)"
   ]
  },
  {
   "cell_type": "markdown",
   "metadata": {
    "id": "5NVVU2JEPSpy"
   },
   "source": [
    "Previously, our `PredictorBackend`\n",
    "was just a wrapper around the `ParagraphTextRecognizer` class.\n",
    "\n",
    "By passing a URL,\n",
    "we switch to sending data elsewhere via an HTTP request.\n",
    "\n",
    "This is done by the\n",
    "`_predict_from_endpoint` method,\n",
    "which runs effectively the same code we used\n",
    "to talk to the model service in the cell above."
   ]
  },
  {
   "cell_type": "code",
   "execution_count": null,
   "metadata": {
    "id": "HtSppJq2O_B_"
   },
   "outputs": [],
   "source": [
    "serverless_backend._predict_from_endpoint??"
   ]
  },
  {
   "cell_type": "markdown",
   "metadata": {
    "id": "DKA68zxUUO9e"
   },
   "source": [
    "The frontend doesn't care where the inference is getting done or how.\n",
    "\n",
    "A `gradio.Interface`\n",
    "just knows there's a Python function that it invokes and then \n",
    "waits for outputs from.\n",
    "\n",
    "Here, that Python function\n",
    "makes a request to the serverless backend,\n",
    "rather than running the model.\n",
    "\n",
    "Go ahead and try it out!\n",
    "\n",
    "You won't notice a difference,\n",
    "except that the machine you're running this notebook on\n",
    "no longer runs the model."
   ]
  },
  {
   "cell_type": "code",
   "execution_count": null,
   "metadata": {
    "id": "WEkMzohnOcK0"
   },
   "outputs": [],
   "source": [
    "frontend_serverless_backend = app.make_frontend(serverless_backend.run)\n",
    "\n",
    "frontend_serverless_backend.launch(share=True)"
   ]
  },
  {
   "cell_type": "markdown",
   "metadata": {
    "id": "XytXrIWVuRFu"
   },
   "source": [
    "# Serving a `gradio` app with `ngrok`"
   ]
  },
  {
   "cell_type": "markdown",
   "metadata": {
    "id": "2i64HrL1wa7F"
   },
   "source": [
    "We've now got a model service and a web server\n",
    "that we can stand up and scale independently,\n",
    "but we're not quite done yet.\n",
    "\n",
    "First, our URL is controlled by Gradio.\n",
    "\n",
    "Very quickly once we leave the territory of a minimal demo,\n",
    "we'll want that URL to be branded.\n",
    "\n",
    "Relatedly,\n",
    "you may have noticed messages indicating that the public URL\n",
    "from Gradio is only good for 72 hours.\n",
    "\n",
    "That means we'd have to reset our frontend\n",
    "and share a new URL every few days."
   ]
  },
  {
   "cell_type": "markdown",
   "metadata": {
    "id": "clsPvqtJu0V0"
   },
   "source": [
    "For projects that are mostly intended as public demos,\n",
    "you might follow the advice from those printed warnings\n",
    "and use\n",
    "[Hugging Face Spaces](https://huggingface.co/docs/hub/spaces)\n",
    "for free, permanent hosting.\n",
    "\n",
    "This relieves you of the burden of keeping the frontend server running.\n",
    "\n",
    "However, note that this requires you to use the Hugging Face Hub\n",
    "as a remote for your `git` repository, alongside GitHub or GitLab.\n",
    "This connection to the version control system can make for tricky integration,\n",
    "e.g. the need to create a new repository for each new model.\n",
    "\n",
    "By default, the demo is embedded inside Hugging Face,\n",
    "limiting your control over the look and feel.\n",
    "\n",
    "However, you can embed the demo in another website with\n",
    "[Web Components or IFrames](https://gradio.app/sharing_your_app/#embedding-with-web-components).\n",
    "You can also adapt the aesthetics and interactivity of the demo with\n",
    "[custom CSS and JS](https://gradio.app/custom_CSS_and_JS/).\n",
    "\n",
    "We will instead run the frontend server ourselves\n",
    "and provide a public URL\n",
    "without relying on Gradio's service."
   ]
  },
  {
   "cell_type": "markdown",
   "metadata": {
    "id": "XWxKXSSG0yNX"
   },
   "source": [
    "Half of the work is already done for us:\n",
    "the `gradio` frontend is already listening on a port and IP address\n",
    "that is accessible locally\n",
    "(on `127.0.0.1` or `localhost`, as printed below)."
   ]
  },
  {
   "cell_type": "code",
   "execution_count": null,
   "metadata": {
    "id": "ugupgc1bxQlH"
   },
   "outputs": [],
   "source": [
    "frontend_serverless_backend.local_url"
   ]
  },
  {
   "cell_type": "markdown",
   "metadata": {
    "id": "GWcQa-ks1Ktn"
   },
   "source": [
    "So we can, for example, send `curl` requests locally,\n",
    "i.e. on the same machine as the frontend,\n",
    "and get responses."
   ]
  },
  {
   "cell_type": "code",
   "execution_count": null,
   "metadata": {
    "id": "Z4JRaVjH0kPw"
   },
   "outputs": [],
   "source": [
    "# we send an improperly formatted request, because we just want to check for a response\n",
    "\n",
    "!curl -X POST {frontend_serverless_backend.local_url}api/predict"
   ]
  },
  {
   "cell_type": "markdown",
   "metadata": {
    "id": "ZK4-tPGf32Hf"
   },
   "source": [
    "Running the same command on another machine will result in an error --\n",
    "`127.0.0.1` and `localhost` always mean \"on this machine\"."
   ]
  },
  {
   "cell_type": "markdown",
   "metadata": {
    "id": "Eiwa6INa0PGe"
   },
   "source": [
    "So fundamentally,\n",
    "the goal is to take the frontend service\n",
    "running on an IP and port that is only accessible locally\n",
    "and make it accessible globally."
   ]
  },
  {
   "cell_type": "markdown",
   "metadata": {
    "id": "Cuuj13Xk0M0Q"
   },
   "source": [
    "There's some tricky bits here --\n",
    "for example, you'll want to communicate using encryption,\n",
    "i.e. over HTTPS instead of HTTP --\n",
    "that make doing this entirely on your own\n",
    "a bit of a headache.\n",
    "\n",
    "To avoid these issues,\n",
    "we can once again use\n",
    "[`ngrok`](https://ngrok.com/),\n",
    "the service we used to provide access to our Label Studio instance\n",
    "in the data annotation lab.\n",
    "\n",
    "The free tier includes public URLs and secure communication with HTTPS.\n",
    "\n",
    "However, the URL changes each time you relaunch your service,\n",
    "e.g. after an outage or a version update.\n",
    "\n",
    "The paid tier allows for branded domains,\n",
    "simpler authentication with\n",
    "[OAuth](https://oauth.net/),\n",
    "and some basic scaling tools like load balancing.\n",
    "\n",
    "This is what we use for the official FSDL text recognizer at\n",
    "[fsdl-text-recognizer.ngrok.io](https://fsdl-text-recognizer.ngrok.io/)."
   ]
  },
  {
   "cell_type": "markdown",
   "metadata": {
    "id": "IoKA_VUr4Gf2"
   },
   "source": [
    "To get started, let's\n",
    "set up our `ngrok` credentials."
   ]
  },
  {
   "cell_type": "code",
   "execution_count": null,
   "metadata": {
    "id": "3N2jkwdaLZAu"
   },
   "outputs": [],
   "source": [
    "import os\n",
    "import getpass\n",
    "\n",
    "from pyngrok import ngrok\n",
    "\n",
    "config_file = ngrok.conf.DEFAULT_NGROK_CONFIG_PATH\n",
    "config_file_exists =  os.path.exists(config_file)\n",
    "config_file_contents = !cat {config_file}\n",
    "\n",
    "auth_token_found = config_file_exists \\\n",
    "    and config_file_contents \\\n",
    "    and \"authtoken\" in config_file_contents[0] \\\n",
    "    and \": exit\" not in config_file_contents  # state if interrupted\n",
    "\n",
    "if not auth_token_found:\n",
    "    print(\"Enter your ngrok auth token, which can be copied from https://dashboard.ngrok.com/auth\")\n",
    "    !ngrok authtoken {getpass.getpass()}"
   ]
  },
  {
   "cell_type": "markdown",
   "metadata": {
    "id": "m3SaBJn14YA_"
   },
   "source": [
    "From there,\n",
    "it's as simple as pointing\n",
    "an `ngrok` tunnel\n",
    "at the port associated with your frontend.\n",
    "\n",
    "> For our purposes, ports are\n",
    "\"places you can listen for messages to your web service\".\n",
    "By separating ports,\n",
    "which are identifiers within a machine,\n",
    "from URLs/IPs,\n",
    "which are identifiers across machines,\n",
    "we can run multiple services on a single machine."
   ]
  },
  {
   "cell_type": "code",
   "execution_count": null,
   "metadata": {
    "id": "wURZiaA5LkeF"
   },
   "outputs": [],
   "source": [
    "TEXT_RECOGNIZER_PORT = frontend_serverless_backend.server_port\n",
    "\n",
    "https_tunnel = ngrok.connect(TEXT_RECOGNIZER_PORT, bind_tls=True)\n",
    "print(https_tunnel)"
   ]
  },
  {
   "cell_type": "markdown",
   "metadata": {},
   "source": [
    "Head to the printed `ngrok.io` URL from any device --\n",
    "e.g. a mobile phone --\n",
    "to check out your shiny new ML-powered application UI\n",
    "with serverless backend."
   ]
  },
  {
   "cell_type": "markdown",
   "metadata": {
    "id": "XWYBGHLs5iwN"
   },
   "source": [
    "Running a web service out of a Jupyter notebook is not recommended.\n",
    "\n",
    "`gradio` and `ngrok`\n",
    "can be run from the command line.\n",
    "\n",
    "If you're running the lab locally,\n",
    "just define the `TEXT_RECOGNIZER_PORT`\n",
    "and `LAMBDA_URL` environment variables\n",
    "and then run\n",
    "\n",
    "```bash\n",
    "python app_gradio/app.py --model_url $LAMBDA_URL --model_port $TEXT_RECOGNIZER_PORT\n",
    "```\n",
    "\n",
    "in one terminal\n",
    "and, in a separate terminal,\n",
    "run\n",
    "```bash\n",
    "ngrok $TEXT_RECOGNIZER_PORT https\n",
    "```"
   ]
  },
  {
   "cell_type": "markdown",
   "metadata": {
    "id": "nycSygTy-PcQ"
   },
   "source": [
    "and navigate to the printed URL."
   ]
  },
  {
   "cell_type": "markdown",
   "metadata": {
    "id": "oQCpzYzHRGfd"
   },
   "source": [
    "## Launching a server on a cloud instance"
   ]
  },
  {
   "cell_type": "markdown",
   "metadata": {
    "id": "RKKnzQjmQPV8"
   },
   "source": [
    "We are almost, but not quite,\n",
    "to the point of a reasonably professional web service.\n",
    "\n",
    "The last missing piece is that our server is running\n",
    "either on Colab,\n",
    "which has short uptimes and is not intended for serving,\n",
    "or on our own personal machine,\n",
    "which is also likely a few\n",
    "[nines](https://en.wikipedia.org/wiki/High_availability#Percentage_calculation) short of an uptime SLA."
   ]
  },
  {
   "cell_type": "markdown",
   "metadata": {
    "id": "IKOuYfpTQR-c"
   },
   "source": [
    "We want to instead run this on a dedicated server,\n",
    "and the simplest way to do so is to spin up a machine in a cloud provider.\n",
    "\n",
    "[Elastic Compute Cloud](https://docs.aws.amazon.com/AWSEC2/latest/UserGuide/concepts.html)\n",
    "(aka EC2)\n",
    "is the option in AWS,\n",
    "our chosen cloud provider."
   ]
  },
  {
   "cell_type": "markdown",
   "metadata": {
    "id": "15NI6gI1746O"
   },
   "source": [
    "To get the server going on another machine,\n",
    "we'll need to `git clone` our library,\n",
    "`pip install` our `prod` requirements,\n",
    "and then finally run `ngrok` and `app_gradio/app.py`."
   ]
  },
  {
   "cell_type": "markdown",
   "metadata": {
    "id": "faStq6aV-hci"
   },
   "source": [
    "We can make that process slightly easier\n",
    "by incorporating it into a `Dockerfile`\n",
    "and building a container image."
   ]
  },
  {
   "cell_type": "code",
   "execution_count": null,
   "metadata": {
    "id": "_1i0M7hR-moU"
   },
   "outputs": [],
   "source": [
    "!cat app_gradio/Dockerfile"
   ]
  },
  {
   "cell_type": "markdown",
   "metadata": {
    "id": "jskTeGs9AroE"
   },
   "source": [
    "We can then store the container image in a registry, like\n",
    "[Docker Hub](https://hub.docker.com/)\n",
    "or the container image registry built into our cloud provider, like AWS's\n",
    "[Elastic Container Registry](https://aws.amazon.com/ecr/).\n",
    "\n",
    "Then, setup just means pulling the image down onto the machine\n",
    "we want to run our server from and executing a `docker run` command."
   ]
  }
 ],
 "metadata": {
  "colab": {
   "collapsed_sections": [],
   "private_outputs": true,
   "provenance": [],
   "toc_visible": true
  },
  "gpuClass": "standard",
  "kernelspec": {
   "display_name": "base",
   "language": "python",
   "name": "python3"
  },
  "language_info": {
   "codemirror_mode": {
    "name": "ipython",
    "version": 3
   },
   "file_extension": ".py",
   "mimetype": "text/x-python",
   "name": "python",
   "nbconvert_exporter": "python",
   "pygments_lexer": "ipython3",
   "version": "3.10.9"
  }
 },
 "nbformat": 4,
 "nbformat_minor": 1
}
